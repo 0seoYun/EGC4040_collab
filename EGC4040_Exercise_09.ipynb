{
  "nbformat": 4,
  "nbformat_minor": 0,
  "metadata": {
    "colab": {
      "name": "EGC4040_Exercise_09.ipynb",
      "provenance": [],
      "collapsed_sections": [],
      "include_colab_link": true
    },
    "kernelspec": {
      "name": "python3",
      "display_name": "Python 3"
    },
    "language_info": {
      "name": "python"
    }
  },
  "cells": [
    {
      "cell_type": "markdown",
      "metadata": {
        "id": "view-in-github",
        "colab_type": "text"
      },
      "source": [
        "<a href=\"https://colab.research.google.com/github/0seoYun/EGC4040_collab/blob/main/EGC4040_Exercise_09.ipynb\" target=\"_parent\"><img src=\"https://colab.research.google.com/assets/colab-badge.svg\" alt=\"Open In Colab\"/></a>"
      ]
    },
    {
      "cell_type": "markdown",
      "source": [
        "# EGC4040-05 Exercise 09 \n",
        "\n",
        "**This exercise notebook will go through the \"Object-Oriented Programming\" in Python:**\n",
        "\n",
        "* Objects (객체)\n",
        "* Class (클래스)"
      ],
      "metadata": {
        "id": "ceuQWqNoiIBo"
      }
    },
    {
      "cell_type": "markdown",
      "source": [
        "## \bObject (객체) & Class (클래스)\n",
        "\n",
        "**Object (객체)**:\n",
        "  - 상태 (state): 객체의 속성, data, attribute\n",
        "    - **인스턴스 변수 (instance variable)**\n",
        "  \n",
        "  - 동작 (behavior): 객체의 기능 혹은 동작, function\n",
        "    - **메소드 (method)**\n",
        "\n",
        "  - 객체지향이 적합한 상황: \n",
        "    - 필요한 변수, 기능이 같은 동일한 구조를 필요로 하면서 다른 특성을 지닌 요소들을 제각기 생성하고자 할 때 \n",
        "\n",
        "**Class (클래스)**:\n",
        "  - 객체에 대한 설계도/청사진\n",
        "  - 여러 개의 객체를 만들어낼 수 있는 틀 (template)\n",
        "  - 클래스로부터 만들어지는 각 요소들을 **인스턴스(instance)**라 함\n",
        "\n",
        "**Constructor (생성자)**\n",
        "- `__init__(self)`: 객체의 멤버들을 초기화 \n",
        "- 객체가 생성됨과 동시에 호출되는 함수 \n",
        "- 사용할 클래스의 메모리에 객체를 생성 \n",
        "\n",
        "\n",
        "**syntax**\n",
        "  ```\n",
        "  class <class_name>:\n",
        "    # class variable (클래스 변수)\n",
        "\n",
        "    # constructor (생성자)\n",
        "    def __init__(self, <arguments>):\n",
        "      # instance variable (인스턴스 변수)\n",
        "      self.var = None\n",
        "      \n",
        "    # instance method (메소드)\n",
        "    def <instance_method_name>(self, <arguments>):\n",
        "      <statements>\n",
        "\n",
        "  ```\n"
      ],
      "metadata": {
        "id": "ehmQw4Gb7m-4"
      }
    },
    {
      "cell_type": "code",
      "source": [
        "print(type(15)), print(type(False)), print(type('hello'))\n",
        "'hello'.upper()"
      ],
      "metadata": {
        "id": "omSAUOnFayDI",
        "colab": {
          "base_uri": "https://localhost:8080/",
          "height": 90
        },
        "outputId": "23b2aebf-463f-4ce5-fb9f-f0b76d658e62"
      },
      "execution_count": null,
      "outputs": [
        {
          "output_type": "stream",
          "name": "stdout",
          "text": [
            "<class 'int'>\n",
            "<class 'bool'>\n",
            "<class 'str'>\n"
          ]
        },
        {
          "output_type": "execute_result",
          "data": {
            "text/plain": [
              "'HELLO'"
            ],
            "application/vnd.google.colaboratory.intrinsic+json": {
              "type": "string"
            }
          },
          "metadata": {},
          "execution_count": 3
        }
      ]
    },
    {
      "cell_type": "code",
      "source": [
        "# 클래스 정의\n",
        "class Car:\n",
        "  #constructor\n",
        "  def __init__(self): \n",
        "    self.brand = \"ABC\"\n",
        "    self.price = 10000\n",
        "\n",
        "  def drive(self):  # 모든 메소드의 첫번째 매개변수는 self임\n",
        "    print('drive')\n",
        "\n",
        "  def stop(self):\n",
        "    print('stop')\n",
        "\n",
        "  "
      ],
      "metadata": {
        "id": "oyJmHN9EayAB"
      },
      "execution_count": null,
      "outputs": []
    },
    {
      "cell_type": "code",
      "source": [
        "# 인스턴스 생성\n",
        "car1 = Car()\n",
        "car2 = Car()\n",
        "\n",
        "print(car1)\n",
        "print(type(car1))"
      ],
      "metadata": {
        "id": "Jrj7463Us4Cj"
      },
      "execution_count": null,
      "outputs": []
    },
    {
      "cell_type": "markdown",
      "source": [
        "**변수의 종류**\n",
        "\n",
        "- instance variable (인스턴스 변수)\n",
        "  - `__init__()`에서 선언되는 변수\n",
        "  - `self.Name`의 형태 - 각 객체마다 독립적으로 인스턴스 변수를 가짐 \n",
        "  - 객체가 생성된 후 객체의 이름을 사용해 접근함 - 점 (.) 을 사용\n",
        "\n",
        "- class variable (클래스 변수)\n",
        "  - 클래스 자체에 선언된 변수 \n",
        "  - 해당 클래스의 모든 객체에 공유됨\n",
        "  - 클래스 혹은 객체의 이름을 통해 접근함 - 점 (.) 을 사용\n",
        "  "
      ],
      "metadata": {
        "id": "pQze5clgmQYv"
      }
    },
    {
      "cell_type": "code",
      "source": [
        "class Car:\n",
        "  model = \"A2022\"  # class variable\n",
        "  def __init__(self): \n",
        "    self.brand = \"ABC\"   # instance variable\n",
        "    self.price = 10000\n",
        "\n",
        "  def drive(self):  # 모든 메소드의 첫번째 매개변수는 self임\n",
        "    print('drive')\n",
        "\n",
        "  def stop(self):\n",
        "    print('stop')"
      ],
      "metadata": {
        "id": "2AgQjxRGtNHT"
      },
      "execution_count": null,
      "outputs": []
    },
    {
      "cell_type": "code",
      "source": [
        "# instance \n",
        "car = Car()\n",
        "print(car.brand)\n",
        "print(car.price)\n",
        "print(car.model)\n",
        "print(Car.model)\n",
        "\n",
        "carB = Car()\n",
        "print(car.brand, id(car.brand))\n",
        "print(carB.brand, id(carB.brand))\n",
        "\n",
        "print(car.model, id(car.model))\n",
        "print(carB.model, id(carB.model))"
      ],
      "metadata": {
        "id": "Tcp0BleHtNCP",
        "colab": {
          "base_uri": "https://localhost:8080/"
        },
        "outputId": "7f267629-b271-41da-beb8-490dabd33b0b"
      },
      "execution_count": null,
      "outputs": [
        {
          "output_type": "stream",
          "name": "stdout",
          "text": [
            "ABC\n",
            "10000\n",
            "A2022\n",
            "A2022\n",
            "ABC 139782913231856\n",
            "ABC 139782913231856\n",
            "A2022 139782507230832\n",
            "A2022 139782507230832\n"
          ]
        }
      ]
    },
    {
      "cell_type": "code",
      "source": [
        "car = Car()\n",
        "print(car.brand, car.model, Car.model)\n",
        "car.drive()\n",
        "\n",
        "# class 정의할 때에는 instance에 묶여있는 변수, 메소드를 가리킬 때 'self'를 사용\n",
        "# object가 만들어진 후에는 그 객체에 묶여있는 변수 , 메소드를 호출하고자 할 때 그 객체의 이름을 사용"
      ],
      "metadata": {
        "id": "V5jYYDE8nNim",
        "colab": {
          "base_uri": "https://localhost:8080/"
        },
        "outputId": "6f5a314e-f271-4eec-a131-11363e660212"
      },
      "execution_count": null,
      "outputs": [
        {
          "output_type": "stream",
          "name": "stdout",
          "text": [
            "ABC A2022 A2022\n",
            "drive\n"
          ]
        }
      ]
    },
    {
      "cell_type": "code",
      "source": [
        "# self만 있는 것이 아니라, 매개변수가 다양한 값으로 존재하는 경우\n",
        "class Car:\n",
        "  def __init__(self, id, brand, model, price):\n",
        "    self.__id = id\n",
        "    self.brand = brand\n",
        "    self.model = model\n",
        "    self.price = price\n",
        "    self.speed = False\n",
        "\n",
        "  def drive(self):\n",
        "    self.speed = True\n",
        "    \n",
        "  def stop(self):\n",
        "    self.speed = False"
      ],
      "metadata": {
        "id": "QjIhlEqHnNfL"
      },
      "execution_count": null,
      "outputs": []
    },
    {
      "cell_type": "code",
      "source": [
        "car = Car(\"20231\", \"BMW\", \"M3\", 10000)\n",
        "carB = Car(\"20231\", \"BMW\", \"MMM\", 25000)\n",
        "\n",
        "print(car.brand, car.model, car.price)\n",
        "print(car.speed)\n",
        "\n",
        "print(carB.brand, carB.model, carB.price)\n",
        "print(carB.speed)\n",
        "\n",
        "car.drive()\n",
        "print(car.speed)\n",
        "print(carB.speed)\n",
        "# 밑에 두개는 주석처리해서 해보고 안해보고 변화 관찰하기\n",
        "\n"
      ],
      "metadata": {
        "id": "SuuWhcdYnNcT",
        "colab": {
          "base_uri": "https://localhost:8080/"
        },
        "outputId": "4f4d1661-8d65-4d0d-ff5c-6b6b0da63fab"
      },
      "execution_count": null,
      "outputs": [
        {
          "output_type": "stream",
          "name": "stdout",
          "text": [
            "BMW M3 10000\n",
            "False\n",
            "BMW MMM 25000\n",
            "False\n",
            "True\n",
            "False\n"
          ]
        }
      ]
    },
    {
      "cell_type": "markdown",
      "source": [
        "**정보 은닉**\n",
        "\n",
        "속성/메소드의 세부 구현을 클래스 안으로 감추는 것. \n",
        "- public 타입: `self.name`: 클래스 정의 내부, 외부에서 자유롭게 사용\n",
        "- protected 타입: `self._name` (underbar 1개): 해당 클래스와 하위 클래스에서만 접근 가능\n",
        "- private 타입: `self.__name` (underbar 2개): 일반적으로 접근할 수 없고 보이지 않음. 클래스 정의 내부가 아니면 호출이 불가능함 \n",
        "\n",
        "private 변수에 접근하여 저장된 값을 읽고 외부로 전달하기 위해서는 접근자 (getter) 와 설정자 (setter) 를 사용해야 함. 이를 통해 유효하지 않은 값으로의 변수 할당을 사전에 방지.\n"
      ],
      "metadata": {
        "id": "CsVRlOC-43K9"
      }
    },
    {
      "cell_type": "code",
      "source": [
        "class Student:\n",
        "  def __init__(self, sId = \"1\", sName = \"kim\", sGrade = 90):\n",
        "    self.__sId = sId # private\n",
        "    self.sName = sName # public\n",
        "    self.sGrade = sGrade # public"
      ],
      "metadata": {
        "id": "yoqGqyHFnNYs"
      },
      "execution_count": null,
      "outputs": []
    },
    {
      "cell_type": "code",
      "source": [
        "kim = Student()\n",
        "print(kim.sName, kim.sGrade)\n",
        "print(kim.__sId)\n",
        "# private 하므로 접근 불가로 error 발생"
      ],
      "metadata": {
        "id": "nGEZ9Yw5Wfq5",
        "colab": {
          "base_uri": "https://localhost:8080/",
          "height": 227
        },
        "outputId": "ba3965f0-ef5d-4ea7-fdd5-cf5c2ed955c9"
      },
      "execution_count": null,
      "outputs": [
        {
          "output_type": "stream",
          "name": "stdout",
          "text": [
            "kim 90\n"
          ]
        },
        {
          "output_type": "error",
          "ename": "AttributeError",
          "evalue": "ignored",
          "traceback": [
            "\u001b[0;31m---------------------------------------------------------------------------\u001b[0m",
            "\u001b[0;31mAttributeError\u001b[0m                            Traceback (most recent call last)",
            "\u001b[0;32m<ipython-input-12-9ecca3cfaf6c>\u001b[0m in \u001b[0;36m<module>\u001b[0;34m()\u001b[0m\n\u001b[1;32m      1\u001b[0m \u001b[0mkim\u001b[0m \u001b[0;34m=\u001b[0m \u001b[0mStudent\u001b[0m\u001b[0;34m(\u001b[0m\u001b[0;34m)\u001b[0m\u001b[0;34m\u001b[0m\u001b[0;34m\u001b[0m\u001b[0m\n\u001b[1;32m      2\u001b[0m \u001b[0mprint\u001b[0m\u001b[0;34m(\u001b[0m\u001b[0mkim\u001b[0m\u001b[0;34m.\u001b[0m\u001b[0msName\u001b[0m\u001b[0;34m,\u001b[0m \u001b[0mkim\u001b[0m\u001b[0;34m.\u001b[0m\u001b[0msGrade\u001b[0m\u001b[0;34m)\u001b[0m\u001b[0;34m\u001b[0m\u001b[0;34m\u001b[0m\u001b[0m\n\u001b[0;32m----> 3\u001b[0;31m \u001b[0mprint\u001b[0m\u001b[0;34m(\u001b[0m\u001b[0mkim\u001b[0m\u001b[0;34m.\u001b[0m\u001b[0m__sId\u001b[0m\u001b[0;34m)\u001b[0m\u001b[0;34m\u001b[0m\u001b[0;34m\u001b[0m\u001b[0m\n\u001b[0m",
            "\u001b[0;31mAttributeError\u001b[0m: 'Student' object has no attribute '__sId'"
          ]
        }
      ]
    },
    {
      "cell_type": "code",
      "source": [
        "class Student:\n",
        "  def __init__(self, sId = \"000\", sName = \"Lee\", sGrade = 80):\n",
        "    self.__sId = sId # private\n",
        "    self.sName = sName # public\n",
        "    self.sGrade = sGrade # public\n",
        "\n",
        "  # getter - return을 통해 구현 가능하게 함.\n",
        "  def getsId(self):\n",
        "    return self.__sId\n",
        "\n",
        "  # setter - 새로운 값을 입력값으로 설정함.\n",
        "  def setsId(self, sId):\n",
        "    self.__sId = sId"
      ],
      "metadata": {
        "id": "UE6ySRYgWfoL"
      },
      "execution_count": null,
      "outputs": []
    },
    {
      "cell_type": "code",
      "source": [
        "lee = Student(\"2020112000\")\n",
        "# Q) 2번째 값이 id가 아니라, 3번째 값이 name을 디폴트값으로 설정하려면 어떻게 해야하지?? - 밑에 답변 있음\n",
        "\n",
        "print(lee.sName, lee.sGrade)\n",
        "#print(lee.__sId) - private 하므로 error\n",
        "print(lee.getsId())\n",
        "print(lee.setsId(\"2022115555\"))\n",
        "#아이디 값 바뀐 거 확인\n",
        "print(lee.getsId())\n",
        "\n",
        "lee.sName = 'Park'\n",
        "print(lee.sName)\n",
        "# public 한 인스턴스변수들은 직접 변경 가능"
      ],
      "metadata": {
        "id": "4rp5ZpzKWflG",
        "colab": {
          "base_uri": "https://localhost:8080/"
        },
        "outputId": "4190a65d-e021-46c1-d1f2-330c9b11744c"
      },
      "execution_count": null,
      "outputs": [
        {
          "output_type": "stream",
          "name": "stdout",
          "text": [
            "Lee 80\n",
            "2020112000\n",
            "None\n",
            "2022115555\n",
            "Park\n"
          ]
        }
      ]
    },
    {
      "cell_type": "markdown",
      "source": [
        "Let's create a `Student` class that has `name` and `age` instance variables and a `school_name` class variable. "
      ],
      "metadata": {
        "id": "_ejUU0R-XkRz"
      }
    },
    {
      "cell_type": "code",
      "source": [
        "class Student:\n",
        "  # class variable - self 쓸 필요 없음!\n",
        "  school_name = 'ABC Uni'\n",
        "\n",
        "  # constructor\n",
        "  def __init__(self, name, age):\n",
        "    # instance variables\n",
        "    self.name = name\n",
        "    self.age = age\n"
      ],
      "metadata": {
        "id": "VnypbgX7XjqR"
      },
      "execution_count": null,
      "outputs": []
    },
    {
      "cell_type": "code",
      "source": [
        "s1 = Student('Peter', 25)\n",
        "s2 = Student('Alice', 23)\n",
        "# 두 개의 매개변수 저장해주지 않으면 error"
      ],
      "metadata": {
        "id": "ueB57yZWXjnm"
      },
      "execution_count": null,
      "outputs": []
    },
    {
      "cell_type": "code",
      "source": [
        "print(f'Student 1 - Name: {s1.name}, Age: {s1.age}, School: {s1.school_name}')\n",
        "print(f'Student 2 - Name: {s2.name}, Age: {s2.age}, School: {Student.school_name}')"
      ],
      "metadata": {
        "id": "0JNYl2zMXjkw",
        "colab": {
          "base_uri": "https://localhost:8080/"
        },
        "outputId": "b8374079-4492-4b5d-bef1-2c32bc84a65b"
      },
      "execution_count": null,
      "outputs": [
        {
          "output_type": "stream",
          "name": "stdout",
          "text": [
            "Student 1 - Name: Peter, Age: 25, School: ABC Uni\n",
            "Student 2 - Name: Alice, Age: 23, School: ABC Uni\n"
          ]
        }
      ]
    },
    {
      "cell_type": "code",
      "source": [
        "# change instance variable and class variables: 변수들 바꾸기! (instance 랑 class 모두! )\n",
        "s1.name = 'James'\n",
        "s1.age = 30\n",
        "Student.school_name = 'XYZ Uni'\n",
        "\n",
        "print(f'Student 1 - Name: {s1.name}, Age: {s1.age}, School: {s1.school_name}')\n",
        "print(f'Student 2 - Name: {s2.name}, Age: {s2.age}, School: {Student.school_name}')\n",
        "\n"
      ],
      "metadata": {
        "id": "M8-iystvXjhk",
        "colab": {
          "base_uri": "https://localhost:8080/"
        },
        "outputId": "48cb207b-ca7d-4b1c-d266-c907a0cb0d38"
      },
      "execution_count": null,
      "outputs": [
        {
          "output_type": "stream",
          "name": "stdout",
          "text": [
            "Student 1 - Name: James, Age: 30, School: XYZ Uni\n",
            "Student 2 - Name: Alice, Age: 23, School: XYZ Uni\n"
          ]
        }
      ]
    },
    {
      "cell_type": "markdown",
      "source": [
        "Let's create a `Student` class that also has some instance methods \n",
        "- that access or modify the instance variables \n",
        "- must have a `self` as a first parameter to refer to the current object "
      ],
      "metadata": {
        "id": "bnFmJC-MYWDC"
      }
    },
    {
      "cell_type": "code",
      "source": [
        "class Student:\n",
        "  # class variable\n",
        "  school_name = 'ABC Uni'\n",
        "\n",
        "  # constructor\n",
        "  def __init__(self, name, age):\n",
        "    # instance variables\n",
        "    self.name = name\n",
        "    self.age = age\n",
        "\n",
        "  # instance method that displays instance variables\n",
        "  def display_info(self):\n",
        "    print(f'Name: {self.name}, Age: {self.age}, Shool: {Student.school_name}')\n",
        "\n",
        "  # instance method that modify and update instance variables to new values\n",
        "  def update_info(self, new_name, new_age): #self 다음에 두개의 매개변수 새롭게 저장해야 작동함\n",
        "    self.name = new_name\n",
        "    self.age = new_age"
      ],
      "metadata": {
        "id": "Pjt9NFkFYOY1"
      },
      "execution_count": null,
      "outputs": []
    },
    {
      "cell_type": "code",
      "source": [
        "s1 = Student('Peter', 25)\n",
        "s2 = Student('Alice', 23)\n",
        "\n",
        "s1.display_info()\n",
        "s2.display_info()"
      ],
      "metadata": {
        "id": "73bqr7xtYoy7",
        "colab": {
          "base_uri": "https://localhost:8080/"
        },
        "outputId": "1c6d2ab4-fcf4-47a4-8d24-b67e03420e54"
      },
      "execution_count": null,
      "outputs": [
        {
          "output_type": "stream",
          "name": "stdout",
          "text": [
            "Name: Peter, Age: 25, Shool: ABC Uni\n",
            "Name: Alice, Age: 23, Shool: ABC Uni\n"
          ]
        }
      ]
    },
    {
      "cell_type": "code",
      "source": [
        "s1.update_info('James', 30)\n",
        "s1.display_info()"
      ],
      "metadata": {
        "id": "7nGp2Vl4Yowm",
        "colab": {
          "base_uri": "https://localhost:8080/"
        },
        "outputId": "da926263-041b-4822-900e-4d8f007fddd4"
      },
      "execution_count": null,
      "outputs": [
        {
          "output_type": "stream",
          "name": "stdout",
          "text": [
            "Name: James, Age: 30, Shool: ABC Uni\n"
          ]
        }
      ]
    },
    {
      "cell_type": "markdown",
      "source": [
        "## Exercises\n",
        "\n"
      ],
      "metadata": {
        "id": "6kY4rs_wJ5id"
      }
    },
    {
      "cell_type": "markdown",
      "source": [
        "### E-1\n",
        "\n",
        "클래스 `myCalculator`를 생성하세요. 이 클래스는 클래스 내에 두개의 정수를 받아 생성되며, 이를 이용해 두 숫자를 더하고 빼는 연산을 수행하는 메소드 `myAdd`와 `mySub`를 가집니다.\n",
        "\n",
        "실행 결과:\n",
        "```\n",
        "cal = myCalculator(2,3)\n",
        "\n",
        "add = cal.myAdd()\n",
        "sub = cal.mySub()\n",
        "print(add, sub)\n",
        ">>>\n",
        "5 -1\n",
        "```"
      ],
      "metadata": {
        "id": "0kJtZfOKkXw9"
      }
    },
    {
      "cell_type": "code",
      "source": [
        "# your code here\n",
        "class myCalculator:\n",
        "\n",
        "  # constructor\n",
        "  def __init__(self, int1, int2):\n",
        "    self.int1 = int1\n",
        "    self.int2 = int2\n",
        "\n",
        "  # instance method - add\n",
        "  def myAdd(self):\n",
        "    return (self.int1 + self.int2)\n",
        "\n",
        "  # instance method - sub\n",
        "  def mySub(self):\n",
        "    return (self.int1 - self.int2)\n",
        "  \n",
        "  ##  int1, int2 라는 인스턴스 변수는 constructor 내부에서만 정의되므로, instance method를 정의할 때에는 self.* 형태로 불러와야 한다. \n",
        "\n",
        "  def display_all(self):\n",
        "    print(f'Int1: {self.int1}, Int2: {self.int2}')"
      ],
      "metadata": {
        "id": "3wxwsyFcZllA"
      },
      "execution_count": null,
      "outputs": []
    },
    {
      "cell_type": "code",
      "source": [
        "# test your result\n",
        "cal = myCalculator(2,3)\n",
        "\n",
        "add = cal.myAdd()\n",
        "sub = cal.mySub()\n",
        "dis = cal.display_all()\n",
        "print(add, sub)\n",
        "print(dis)\n",
        "# 아래와 같이 print 안해도 출력됨\n",
        "cal.display_all()"
      ],
      "metadata": {
        "id": "KHCA_WSEZliN",
        "colab": {
          "base_uri": "https://localhost:8080/"
        },
        "outputId": "285a0f2a-94d8-4593-b5a8-377f9e4b9132"
      },
      "execution_count": null,
      "outputs": [
        {
          "output_type": "stream",
          "name": "stdout",
          "text": [
            "Int1: 2, Int2: 3\n",
            "5 -1\n",
            "None\n",
            "Int1: 2, Int2: 3\n"
          ]
        }
      ]
    },
    {
      "cell_type": "markdown",
      "source": [
        "### E-2\n",
        "클래스 `myString`을 생성하세요. 이 클래스는 따로 입력을 받아 생성되지 않습니다. 다만 두개의 메소드를 가집니다. \n",
        "- `get_String` 메소드: 사용자로부터 한 줄의 문자열을 입력받아 인스턴스 변수로 가집니다.\n",
        "- `print_uString` 메소드: 입력받은 문자열을 대문자로 출력합니다. \n",
        "\n",
        "*Note: 클래스의 인스턴스가 생성되면 자동으로 empty string을 내부 변수로 가지도록 생성하세요. *\n",
        "\n",
        "실행 결과:\n",
        "```\n",
        "mystr1 = myString()\n",
        "mystr1.get_String()\n",
        "mystr1.print_uString()\n",
        ">>>\n",
        "get_String에 들어갈 문자열을 입력하세요: Hello EGC4040-05!\n",
        "HELLO EGC4040-05!\n",
        "```"
      ],
      "metadata": {
        "id": "BZhWG68Ubebs"
      }
    },
    {
      "cell_type": "code",
      "source": [
        "# your code here\n",
        "class myString:\n",
        "  #constructor\n",
        "  def __init__(self):\n",
        "    # empty string을 내부 변수로 가짐\n",
        "    self.my_str = \"\"\n",
        "\n",
        "  # instance method\n",
        "  def get_String(self):\n",
        "    self.my_str = input('get_String에 들어갈 문자열을 입력하세요')\n",
        "    \n",
        "  def print_uString(self):\n",
        "    print(self.my_str.upper())\n",
        "\n",
        "\n"
      ],
      "metadata": {
        "id": "jk2P6OlVZles"
      },
      "execution_count": null,
      "outputs": []
    },
    {
      "cell_type": "code",
      "source": [
        "# test your result\n",
        "mystr1 = myString()\n",
        "mystr1.get_String()\n",
        "mystr1.print_uString()"
      ],
      "metadata": {
        "id": "PwEv3J9ocLUN",
        "colab": {
          "base_uri": "https://localhost:8080/"
        },
        "outputId": "456088fe-c59f-49f5-dd1d-f681c2c8e54d"
      },
      "execution_count": null,
      "outputs": [
        {
          "output_type": "stream",
          "name": "stdout",
          "text": [
            "get_String에 들어갈 문자열을 입력하세요 Hello EGC4040-05!\n",
            " HELLO EGC4040-05!\n"
          ]
        }
      ]
    },
    {
      "cell_type": "markdown",
      "source": [
        "### E-3\n",
        "직각삼각형 클래스 `RightTriangle`을 생성하세요. \n",
        "- 짧은 두 변의 길이를 가집니다. \n",
        "  - 기본값으로 둘 다 1을 가집니다.\n",
        "- 변의 길이는 외부에서 접근이 불가능합니다. \n",
        "- 긴 변의 길이를 계산하는 메소드 `cal_longside`를 가집니다: 계산한 긴 변의 값을 인스턴스 변수로 설정하고 출력합니다.\n",
        "- 넓이를 계산하는 메소드 `cal_area`를 가집니다. 계산한 넓이를 인스턴스 변수로 설정하고 출력합니다.\n",
        "- 모든 정보를 출력하는 메소드 `display_info`를 가집니다: 아래의 실행 예제와 같이 각 변의 길이와 긴 변의 길이, 넓이를 출력합니다. \n",
        "\n",
        "실행 결과:\n",
        "```\n",
        "tri = RightTriangle(3,4)\n",
        "tri.cal_longside()\n",
        "tri.cal_area()\n",
        "tri.display_info()\n",
        "\n",
        "print('=====')\n",
        "\n",
        "tri = RightTriangle()\n",
        "tri.cal_longside()\n",
        "tri.cal_area()\n",
        "tri.display_info()\n",
        ">>>\n",
        "Calculate long side: 5.0\n",
        "Calculate area: 6.0\n",
        "Right Triangle with side A: 3, side B: 4, and side C: 5.0. Area is 6.0\n",
        "=====\n",
        "Calculate long side: 1.4142135623730951\n",
        "Calculate area: 0.5\n",
        "Right Triangle with side A: 1, side B: 1, and side C: 1.4142135623730951. Area is 0.5\n",
        "```"
      ],
      "metadata": {
        "id": "IqmXCXkGcqze"
      }
    },
    {
      "cell_type": "code",
      "source": [
        "# your code here\n",
        "class RightTriangle:\n",
        "  # constructor\n",
        "  def __init__ (self, sideA=1, sideB=1):\n",
        "    self.__sideA = sideA\n",
        "    self.__sideB = sideB\n",
        "\n",
        "\n",
        "  # instance method - calculate long side\n",
        "  def cal_longside(self):\n",
        "    self.sideC = (self.__sideA**2 + self.__sideB**2)**0.5\n",
        "    print(f'Calculate longside: {self.sideC}')\n",
        "\n",
        "\n",
        "  # instance method - calculate area  \n",
        "  def cal_area(self):\n",
        "    self.area = self.__sideA * self.__sideB * 0.5\n",
        "    print(f'Calculate area: {self.area}')\n",
        "\n",
        "  # instance method - display result: fill the blanks\n",
        "  def display_info(self):\n",
        "    print(f'Right Triangle with side A: {self.__sideA}, side B: { self.__sideB }, and side C: { self.sideC }. Area is {self.area }')"
      ],
      "metadata": {
        "id": "wXCcGZ54cXni"
      },
      "execution_count": null,
      "outputs": []
    },
    {
      "cell_type": "code",
      "source": [
        "# test your code\n",
        "tri = RightTriangle(3,4)\n",
        "tri.cal_longside()\n",
        "tri.cal_area()\n",
        "tri.display_info()\n",
        "\n",
        "print('=====')\n",
        "\n",
        "tri = RightTriangle()\n",
        "tri.cal_longside()\n",
        "tri.cal_area()\n",
        "tri.display_info()"
      ],
      "metadata": {
        "id": "nGk9Tje6eFt3",
        "colab": {
          "base_uri": "https://localhost:8080/"
        },
        "outputId": "b8fcadb8-1d80-4686-af27-7729a2c3f0ad"
      },
      "execution_count": null,
      "outputs": [
        {
          "output_type": "stream",
          "name": "stdout",
          "text": [
            "Calculate longside: 5.0\n",
            "Calculate area: 6.0\n",
            "Right Triangle with side A: 3, side B: 4, and side C: 5.0. Area is 6.0\n",
            "=====\n",
            "Calculate longside: 1.4142135623730951\n",
            "Calculate area: 0.5\n",
            "Right Triangle with side A: 1, side B: 1, and side C: 1.4142135623730951. Area is 0.5\n"
          ]
        }
      ]
    }
  ]
}