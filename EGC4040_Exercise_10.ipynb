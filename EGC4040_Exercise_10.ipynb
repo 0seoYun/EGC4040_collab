{
  "nbformat": 4,
  "nbformat_minor": 0,
  "metadata": {
    "colab": {
      "name": "EGC4040_Exercise_10.ipynb",
      "provenance": [],
      "collapsed_sections": [],
      "include_colab_link": true
    },
    "kernelspec": {
      "name": "python3",
      "display_name": "Python 3"
    },
    "language_info": {
      "name": "python"
    }
  },
  "cells": [
    {
      "cell_type": "markdown",
      "metadata": {
        "id": "view-in-github",
        "colab_type": "text"
      },
      "source": [
        "<a href=\"https://colab.research.google.com/github/0seoYun/EGC4040_collab/blob/main/EGC4040_Exercise_10.ipynb\" target=\"_parent\"><img src=\"https://colab.research.google.com/assets/colab-badge.svg\" alt=\"Open In Colab\"/></a>"
      ]
    },
    {
      "cell_type": "markdown",
      "source": [
        "# EGC4040-05 Exercise 10\n",
        "\n",
        "**This exercise notebook will go through the \"Object-Oriented Programming\" in Python:**\n",
        "\n",
        "* Objects (객체)\n",
        "* Class (클래스)"
      ],
      "metadata": {
        "id": "ceuQWqNoiIBo"
      }
    },
    {
      "cell_type": "markdown",
      "source": [
        "## \bObject (객체) & Class (클래스)\n",
        "\n",
        "**Class (클래스) & Object (객체)**:\n",
        "  - 상태 (state): 객체의 속성, data, attribute\n",
        "    - **인스턴스 변수 (instance variable)**\n",
        "  \n",
        "  - 동작 (behavior): 객체의 기능 혹은 동작, function\n",
        "    - **메소드 (method)**\n",
        "\n",
        "  - 클래스: 여러 개의 객체를 만들어낼 수 있는 틀 (template)\n",
        "\n",
        "**Constructor (생성자)**\n",
        "- `__init__(self)`: 객체의 멤버들을 초기화 \n",
        "- 객체가 생성됨과 동시에 호출되는 함수 \n",
        "\n",
        "\n",
        "**syntax**\n",
        "  ```\n",
        "  class <class_name>:\n",
        "    # class variable (클래스 변수)\n",
        "\n",
        "    # constructor (생성자)\n",
        "    def __init__(self, <arguments>):\n",
        "      # instance variable (인스턴스 변수)\n",
        "      self.var = None\n",
        "      \n",
        "    # instance method (메소드)\n",
        "    def <instance_method_name>(self, <arguments>):\n",
        "      <statements>\n",
        "\n",
        "  ```\n"
      ],
      "metadata": {
        "id": "ehmQw4Gb7m-4"
      }
    },
    {
      "cell_type": "code",
      "source": [
        "\n",
        "class Car:\n",
        "  def __init__(self, id, brand, model, price):\n",
        "    self.__id = id\n",
        "    self.brand = brand\n",
        "    self.model = model\n",
        "    self.price = price\n",
        "    self.speed = False\n",
        "\n",
        "  def drive(self):\n",
        "    self.speed = True\n",
        "  def stop(self):\n",
        "    self.speed = False"
      ],
      "metadata": {
        "id": "QjIhlEqHnNfL"
      },
      "execution_count": null,
      "outputs": []
    },
    {
      "cell_type": "code",
      "source": [
        "car = Car(\"20231\", \"BMW\", \"M3\", 10000)\n",
        "print(car.brand, car.model, car.price)\n",
        "print(car.speed)\n",
        "car.drive()\n",
        "print(car.speed)"
      ],
      "metadata": {
        "id": "SuuWhcdYnNcT",
        "colab": {
          "base_uri": "https://localhost:8080/"
        },
        "outputId": "5d69e144-d834-4ccf-fa04-88e2a5d8fefb"
      },
      "execution_count": null,
      "outputs": [
        {
          "output_type": "stream",
          "name": "stdout",
          "text": [
            "BMW M3 10000\n",
            "False\n",
            "True\n"
          ]
        }
      ]
    },
    {
      "cell_type": "markdown",
      "source": [
        "## Inheritance (상속)\n",
        "\n",
        "- 현재 클래스의 멤버들(변수, 메소드)을 그대로 상속하여 사용할 수 있는 것을 의미\n",
        "- **부모 클래스** (Parent, Super, Base class): 멤버들을 물려주는 클래스\n",
        "\n",
        "- **자식 클래스** (Chile, Sub, Derived class): 멤버들을 물려받는 클래스 \n",
        "\n",
        "- 클래스를 생성할 때마다 공통된 속성을 중복하여 정의할 필요 없이 상속을 이용해 필요한 부분만 재정의 할 수 있음\n",
        "\n",
        "```\n",
        "class <ParentClass>:\n",
        "  <Body of parent class>\n",
        "\n",
        "class <ChildClass>(<ParentClass>):\n",
        "  <body of child class>\n",
        "```"
      ],
      "metadata": {
        "id": "n5Rl9ghmBtav"
      }
    },
    {
      "cell_type": "code",
      "source": [
        "# Parent class: Animal\n",
        "\n",
        "\n",
        "class Animal:\n",
        "  def __init__(self):\n",
        "    self.eyes = None\n",
        "    self.nose = None\n",
        "    self.mouth = None\n",
        "    self.legs = None\n",
        "  \n",
        "  def howling(self):\n",
        "    print(\"\")"
      ],
      "metadata": {
        "id": "vI6NnHEtBsrM"
      },
      "execution_count": null,
      "outputs": []
    },
    {
      "cell_type": "code",
      "source": [
        "# Child class: Dog and Chicken\n",
        "\n",
        "class Dog(Animal):\n",
        "  def __init__(self):\n",
        "    self.legs = 4\n",
        "    self.eyes = 2\n",
        "  \n",
        " # def howling(self):\n",
        " #   print('왈왈') --> parents의 메소드\n",
        "\n",
        "class Chicken(Animal):\n",
        "  def __init__(self):\n",
        "    self.legs = 2\n",
        "  \n",
        "  def howling(self):\n",
        "    print('꼬끼오')"
      ],
      "metadata": {
        "id": "GF4ZdAm0BsnO"
      },
      "execution_count": null,
      "outputs": []
    },
    {
      "cell_type": "code",
      "source": [
        "# __init__에서 self말고 아무것도 받아오지 않으므로 괄호 안이 비어있음.\n",
        "dog = Dog()\n",
        "chicken = Chicken()\n",
        "\n",
        "print(dog.legs)\n",
        "dog.howling()\n",
        "\n",
        "print(chicken.legs)\n",
        "chicken.howling()"
      ],
      "metadata": {
        "id": "gQ8iJPziBshG",
        "colab": {
          "base_uri": "https://localhost:8080/"
        },
        "outputId": "0c3c2f12-03fa-47d2-88c1-96750234fd85"
      },
      "execution_count": null,
      "outputs": [
        {
          "output_type": "stream",
          "name": "stdout",
          "text": [
            "4\n",
            "\n",
            "2\n",
            "꼬끼오\n"
          ]
        }
      ]
    },
    {
      "cell_type": "code",
      "source": [
        "print(dog.eyes)\n",
        "# 자식이랑 부모랑 init이 겹친다. 그러면 자식이 우선되므로, 자식에서 self.eyes가 정의되어야면 에러가 없다. "
      ],
      "metadata": {
        "id": "ieFLPxV9C0BI",
        "colab": {
          "base_uri": "https://localhost:8080/"
        },
        "outputId": "a6351fdd-a611-4d19-f594-6370fb784b64"
      },
      "execution_count": null,
      "outputs": [
        {
          "output_type": "stream",
          "name": "stdout",
          "text": [
            "2\n"
          ]
        }
      ]
    },
    {
      "cell_type": "code",
      "source": [
        "# parent class: Person\n",
        "\n",
        "class Person:\n",
        "  def __init__(self, fname, lname):\n",
        "    self.fname = fname\n",
        "    self.lname = lname\n",
        "  # 매개변수 이름(fname) = 인스턴스 변수 이름(self.fname) --> self.fname = fname = Alice => My name is Alice\n",
        "\n",
        "  def print_name(self):\n",
        "    print(f'My name is {self.fname} {self.Iname}.')"
      ],
      "metadata": {
        "id": "jz0yk8G8Cmgi"
      },
      "execution_count": null,
      "outputs": []
    },
    {
      "cell_type": "code",
      "source": [
        "p1 = Person('Peter', 'Kim')\n",
        "p1.print_name()"
      ],
      "metadata": {
        "id": "-rFGn2QsCmdj",
        "colab": {
          "base_uri": "https://localhost:8080/"
        },
        "outputId": "83e42fff-66f3-4173-9be1-aa8de6c0e457"
      },
      "execution_count": null,
      "outputs": [
        {
          "output_type": "stream",
          "name": "stdout",
          "text": [
            "My name is Peter Kim.\n"
          ]
        }
      ]
    },
    {
      "cell_type": "code",
      "source": [
        "# child class: Student\n",
        "\n",
        "class Student(Person):\n",
        "  pass"
      ],
      "metadata": {
        "id": "rKcHg6luDJBu"
      },
      "execution_count": null,
      "outputs": []
    },
    {
      "cell_type": "code",
      "source": [
        "s1 = Student('Alice', 'Lee')\n",
        "s1.print_name()"
      ],
      "metadata": {
        "id": "DwebJLpbDI9E",
        "colab": {
          "base_uri": "https://localhost:8080/"
        },
        "outputId": "7b210e5b-8e39-4acf-a5fe-cd89d88d1ef5"
      },
      "execution_count": null,
      "outputs": [
        {
          "output_type": "stream",
          "name": "stdout",
          "text": [
            "My name is Alice Lee.\n"
          ]
        }
      ]
    },
    {
      "cell_type": "code",
      "source": [
        "class Student(Person):\n",
        "  # 재정의 -> person의 __init__()은 무시\n",
        "  def __init__(self, fname, lname):\n",
        "    self.fname = 'A'\n",
        "    self.lname = 'B'\n",
        "    # 매개변수 이름(fname) =/= 인스턴스 변수 이름(A) --> self.fname = A => My name is A"
      ],
      "metadata": {
        "id": "nwW1d-E_DI47"
      },
      "execution_count": null,
      "outputs": []
    },
    {
      "cell_type": "code",
      "source": [
        "s1 = Student('Alice', 'Lee')\n",
        "s1.print_name()"
      ],
      "metadata": {
        "id": "z7fTBUH8DbCo",
        "colab": {
          "base_uri": "https://localhost:8080/"
        },
        "outputId": "a7fa5f85-5b7d-4289-e386-b884d570d49c"
      },
      "execution_count": null,
      "outputs": [
        {
          "output_type": "stream",
          "name": "stdout",
          "text": [
            "My name is A B.\n"
          ]
        }
      ]
    },
    {
      "cell_type": "code",
      "source": [
        "class Student(Person):\n",
        "  def __init__(self, fname, lname, school):\n",
        "    #Person.__init__(self, fname, lname)\n",
        "    super().__init__(fname, lname)\n",
        "    self.school = school\n",
        "\n",
        "  def print_school(self):\n",
        "    print(f'I am a student at {self.school}.')\n"
      ],
      "metadata": {
        "id": "jva2BlPaDa_D"
      },
      "execution_count": null,
      "outputs": []
    },
    {
      "cell_type": "code",
      "source": [
        "s1 = Student('Alice', 'Lee', 'ABC Uni')\n",
        "s1.print_name()\n",
        "s1.print_school()"
      ],
      "metadata": {
        "id": "fjYoNoQhD5rI"
      },
      "execution_count": null,
      "outputs": []
    },
    {
      "cell_type": "markdown",
      "source": [
        "**특수 메소드**\n",
        "- 클래스 안에서 사용할 수 있는 특수 메소드: Python의 built-in type과 같은 작동을 하게 해줌\n"
      ],
      "metadata": {
        "id": "_x8Wbbr7ETSn"
      }
    },
    {
      "cell_type": "code",
      "source": [
        "class Car:\n",
        "  def __init__(self, id, brand, model, price):\n",
        "    self.__id = id\n",
        "    self.brand = brand\n",
        "    self.model = model\n",
        "    self.price = price\n",
        "    self.speed = False\n",
        "\n",
        "  def drive(self):\n",
        "    self.speed = True\n",
        "  def stop(self):\n",
        "    self.speed = False\n",
        "\n",
        "  # 특수 메소드 __eq__\n",
        "  def __eq__(self,other):\n",
        "    if self.price == other.price:\n",
        "      return True\n",
        "    else:\n",
        "      return False\n",
        "\n",
        "  # 특수 메소드 __add__\n",
        "  def __add__(self, other):\n",
        "    return self.price + other.price"
      ],
      "metadata": {
        "id": "rOptc9JUD5n6"
      },
      "execution_count": null,
      "outputs": []
    },
    {
      "cell_type": "code",
      "source": [
        "carA = Car(\"20231\", \"BMW\", \"M3\", 10000)\n",
        "print(carA.brand, carA.model, carA.price)\n",
        "\n",
        "carB = Car(\"12345\", \"ABC\", \"AA12\", 13000)\n",
        "print(carB.brand, carB.model, carB.price)\n",
        "\n",
        "carC = Car(\"12321\", \"ABC\", \"AA135\", 10000)\n",
        "print(carC.brand, carC.model, carC.price)"
      ],
      "metadata": {
        "id": "x4dHHN4eD5kg",
        "colab": {
          "base_uri": "https://localhost:8080/"
        },
        "outputId": "b9d1c6f4-a16e-4388-c8aa-e6fcc10bc3e6"
      },
      "execution_count": null,
      "outputs": [
        {
          "output_type": "stream",
          "name": "stdout",
          "text": [
            "BMW M3 10000\n",
            "ABC AA12 13000\n",
            "ABC AA135 10000\n"
          ]
        }
      ]
    },
    {
      "cell_type": "code",
      "source": [
        "print(carA == carB)\n",
        "print(carA + carB)\n",
        "print(carA == carC)"
      ],
      "metadata": {
        "id": "COJYPzSnFHst",
        "colab": {
          "base_uri": "https://localhost:8080/"
        },
        "outputId": "429af465-9514-4018-c869-6d5c86c9fdcd"
      },
      "execution_count": null,
      "outputs": [
        {
          "output_type": "stream",
          "name": "stdout",
          "text": [
            "False\n",
            "23000\n",
            "True\n"
          ]
        }
      ]
    },
    {
      "cell_type": "markdown",
      "source": [
        "## Exercises\n",
        "\n"
      ],
      "metadata": {
        "id": "6kY4rs_wJ5id"
      }
    },
    {
      "cell_type": "markdown",
      "source": [
        "### E-1\n",
        "\n",
        "클래스 `myOperator`를 생성하세요. 이 클래스는 두개의 정수를 받아 생성되며, 이를 이용해 사칙연산 (덧셈, 뺄셈, 곱셈, 나눗셈)을 수행합니다.\n",
        "\n",
        "실행 결과:\n",
        "```\n",
        "cal = myOperator(10,3)\n",
        "\n",
        "add = cal.myAdd()\n",
        "sub = cal.mySub()\n",
        "mult = cal.myMult()\n",
        "div = cal.myDiv()\n",
        "print(add, sub, mult, div)\n",
        ">>>\n",
        "13 7 30 3.3333333333333335\n",
        "```"
      ],
      "metadata": {
        "id": "0kJtZfOKkXw9"
      }
    },
    {
      "cell_type": "code",
      "source": [
        "# your code here\n",
        "class myOperator:\n",
        "  def __init__(self, int1, int2):\n",
        "    self.int1 = int1\n",
        "    self.int2 = int2\n",
        "  \n",
        "  def myAdd(self):\n",
        "    return self.int1 + self.int2\n",
        "  def mySub(self):\n",
        "    return self.int1 - self.int2\n",
        "  def myMult(self):\n",
        "    return self.int1 * self.int2\n",
        "  def myDiv(self):\n",
        "    return self.int1 / self.int2\n",
        "\n"
      ],
      "metadata": {
        "id": "3wxwsyFcZllA"
      },
      "execution_count": null,
      "outputs": []
    },
    {
      "cell_type": "code",
      "source": [
        "# test your result\n",
        "cal = myOperator(10,3)\n",
        "\n",
        "add = cal.myAdd()\n",
        "sub = cal.mySub()\n",
        "mult = cal.myMult()\n",
        "div = cal.myDiv()\n",
        "print(add, sub, mult, div)\n"
      ],
      "metadata": {
        "id": "KHCA_WSEZliN",
        "colab": {
          "base_uri": "https://localhost:8080/"
        },
        "outputId": "dbf35842-629c-47db-bf08-a553d38f4de4"
      },
      "execution_count": null,
      "outputs": [
        {
          "output_type": "stream",
          "name": "stdout",
          "text": [
            "13 7 30 3.3333333333333335\n"
          ]
        }
      ]
    },
    {
      "cell_type": "markdown",
      "source": [
        "### E-2\n",
        "다음과 같은 실행 결과가 나오도록 특수 메소드를 정의하세요.  \n",
        "\n",
        "실행 결과:\n",
        "```\n",
        "str1 = MyString('I love you')\n",
        "str2 = MyString(' Me too')\n",
        "\n",
        "str1 + str2\n",
        "print(str1.str)\n",
        ">>>\n",
        "I love you Me too\n",
        "```"
      ],
      "metadata": {
        "id": "BZhWG68Ubebs"
      }
    },
    {
      "cell_type": "code",
      "source": [
        "# your code here\n",
        "# self 자리에 str1, str2가 들어가므로, 'str1.str'을 보고 클래스 안에 str 이라는 인스턴스변수가 있어야함.\n",
        "class MyString:\n",
        "  def __init__(self, mystr):\n",
        "    self.str = mystr\n",
        "\n",
        "  def __add__(self, other):\n",
        "    self.str = (self.str + other.str)\n",
        "    return self.str\n",
        "    \n"
      ],
      "metadata": {
        "id": "jk2P6OlVZles"
      },
      "execution_count": null,
      "outputs": []
    },
    {
      "cell_type": "code",
      "source": [
        "# test your result\n",
        "str1 = MyString('I love you')\n",
        "str2 = MyString(' Me too')\n",
        "\n",
        "str1 + str2\n",
        "print(str1.str) #실행결과에서 힌트를 얻기"
      ],
      "metadata": {
        "id": "PwEv3J9ocLUN",
        "colab": {
          "base_uri": "https://localhost:8080/"
        },
        "outputId": "c7547097-e2eb-4069-e19f-f8b43fc32613"
      },
      "execution_count": null,
      "outputs": [
        {
          "output_type": "stream",
          "name": "stdout",
          "text": [
            "I love you Me too\n"
          ]
        }
      ]
    },
    {
      "cell_type": "markdown",
      "source": [
        "### E-3\n",
        "E-1의 `myOperator` 클래스를 상속하는 `MoreOperator` 클래스를 만들어 거듭제곱을 구할 수 있는 기능을 추가합니다. \n",
        "\n",
        "실행 결과:\n",
        "```\n",
        "more_cal = MoreOperator(10,3)\n",
        "\n",
        "m_add = more_cal.myAdd()\n",
        "m_sub = more_cal.mySub()\n",
        "m_mult = more_cal.myMult()\n",
        "m_div = more_cal.myDiv()\n",
        "print(m_add, m_sub, m_mult, m_div)\n",
        "\n",
        "m_pow = more_cal.myPow()\n",
        "print(m_pow)\n",
        "=====\n",
        "13 7 30 3.3333333333333335\n",
        "1000\n",
        "```"
      ],
      "metadata": {
        "id": "IqmXCXkGcqze"
      }
    },
    {
      "cell_type": "code",
      "source": [
        "# your code here\n",
        "class MoreOperator(myOperator):\n",
        "\n",
        "  # constructor 가 parent와 같으므로 쓸 필요 없음  \n",
        "  \n",
        "  def myPow(self):\n",
        "    return self.int1 ** self.int2\n",
        "\n"
      ],
      "metadata": {
        "id": "wXCcGZ54cXni"
      },
      "execution_count": null,
      "outputs": []
    },
    {
      "cell_type": "code",
      "source": [
        "# test your result\n",
        "more_cal = MoreOperator(10,3)\n",
        "\n",
        "m_add = more_cal.myAdd()\n",
        "m_sub = more_cal.mySub()\n",
        "m_mult = more_cal.myMult()\n",
        "m_div = more_cal.myDiv()\n",
        "print(m_add, m_sub, m_mult, m_div)\n",
        "\n",
        "m_pow = more_cal.myPow()\n",
        "print(m_pow)"
      ],
      "metadata": {
        "id": "9b8n8JD8LvW9",
        "colab": {
          "base_uri": "https://localhost:8080/"
        },
        "outputId": "49cf822a-9107-438a-8ce6-e182b57d11c4"
      },
      "execution_count": null,
      "outputs": [
        {
          "output_type": "stream",
          "name": "stdout",
          "text": [
            "13 7 30 3.3333333333333335\n",
            "1000\n"
          ]
        }
      ]
    }
  ]
}