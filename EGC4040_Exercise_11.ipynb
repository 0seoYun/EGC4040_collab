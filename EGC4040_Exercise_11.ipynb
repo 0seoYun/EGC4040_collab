{
  "nbformat": 4,
  "nbformat_minor": 0,
  "metadata": {
    "colab": {
      "name": "EGC4040_Exercise_11.ipynb",
      "provenance": [],
      "collapsed_sections": [],
      "include_colab_link": true
    },
    "kernelspec": {
      "name": "python3",
      "display_name": "Python 3"
    },
    "language_info": {
      "name": "python"
    }
  },
  "cells": [
    {
      "cell_type": "markdown",
      "metadata": {
        "id": "view-in-github",
        "colab_type": "text"
      },
      "source": [
        "<a href=\"https://colab.research.google.com/github/0seoYun/EGC4040_collab/blob/main/EGC4040_Exercise_11.ipynb\" target=\"_parent\"><img src=\"https://colab.research.google.com/assets/colab-badge.svg\" alt=\"Open In Colab\"/></a>"
      ]
    },
    {
      "cell_type": "markdown",
      "source": [
        "# EGC4040-05 Exercise 11\n",
        "\n",
        "**This exercise notebook will go through the \"File I/O\" in Python:**\n",
        "\n",
        "* FIle Input / Output (파일 입출력)\n"
      ],
      "metadata": {
        "id": "ceuQWqNoiIBo"
      }
    },
    {
      "cell_type": "markdown",
      "source": [
        "Let's first create a file and save it to a temporary location in Colab! \n",
        "\n",
        "```\n",
        "Welcome to EGC4040-05 \n",
        "This is a data.txt\n",
        "\n",
        "Last line\n",
        "```\n",
        "\n",
        "- click the folder icon at the left panel\n",
        "- right click -> create a new file and name it `data.txt` \n",
        "- double clicking the file, you can see the text editor on the right panel\n",
        "- copy and paste the above text to the file and save it \n"
      ],
      "metadata": {
        "id": "y7yLXyKG-JXS"
      }
    },
    {
      "cell_type": "markdown",
      "source": [
        "## \bFile Input & Output (파일 입출력)\n",
        "\n",
        "**\b파일 (File)**\n",
        "  - named locations on disk to store related information \n",
        "\n",
        "A file operation in Python takes place in the following order:\n",
        "  - **open** a file\n",
        "  - **read** or **write**\n",
        "  - **close** the file\n",
        "\n",
        "**파일 모드**\n",
        "  - `r`: reading the contents (default)\n",
        "  - `r+`: reading and writing\n",
        "  - `w`: writing - overwriting if the file exists, and creating a new file if the file does not exist\n",
        "  - `a`: writing - adding a new content if the file exists, and creating a new file otherwise\n",
        "  - `t`: text mode (default)\n",
        "  - `b`: binary mode - e.g., image\n"
      ],
      "metadata": {
        "id": "ehmQw4Gb7m-4"
      }
    },
    {
      "cell_type": "markdown",
      "source": [
        "### 파일 생성하기 & 파일 닫기 \n",
        "\n",
        "`open()` function to open a file:\n",
        "```\n",
        "f = open(filename, mode)\n",
        "```\n",
        "\n",
        "- `f`: 파일 object\n",
        "- `filename`: 생성할 파일 이름 (확장자 포함)\n",
        "- `mode`: 파일 모드\n",
        "\n",
        "`close()` function to close the file\n"
      ],
      "metadata": {
        "id": "zPpG0AuuA8T1"
      }
    },
    {
      "cell_type": "code",
      "source": [
        "# open a file\n",
        "f = open('python.txt', 'w') # 경로가 없다면 현재 위치에 있다는 것 / # .. 은 상위폴더로 이동\n",
        "\n",
        "# close the file\n",
        "f.close()"
      ],
      "metadata": {
        "id": "zwmMArGrBWcu"
      },
      "execution_count": null,
      "outputs": []
    },
    {
      "cell_type": "markdown",
      "source": [
        "### 파일에 내용 쓰기\n",
        "\n",
        "Can create/open a file by using `open()` with the access mode: `w`, `w+`, `a` or `a+`.\n",
        "\n",
        "**`.write()`**: 파일에 문자열 쓰기\n",
        "\n",
        "**`.writelines()`**: 파일에 여러 문장으로 구성된 리스트 쓰기 \n",
        "\n",
        "\n"
      ],
      "metadata": {
        "id": "PmwRyZOdCDxj"
      }
    },
    {
      "cell_type": "code",
      "source": [
        "f = open('python.txt', 'w')\n",
        "content = 'Python file I/O class.'\n",
        "\n",
        "f.write('hello \\n')\n",
        "f.write(content)\n",
        "\n",
        "f.close()\n",
        "\n"
      ],
      "metadata": {
        "id": "jf2lnb2nBWkz"
      },
      "execution_count": null,
      "outputs": []
    },
    {
      "cell_type": "code",
      "source": [
        "f = open('writelines_python.txt', 'w')\n",
        "f.writelines(['Line1', 'Line2', 'Line3', 'Line4', 'Line5'])\n",
        "f.close()"
      ],
      "metadata": {
        "id": "xpdUbHW3BWnS"
      },
      "execution_count": null,
      "outputs": []
    },
    {
      "cell_type": "markdown",
      "source": [
        "반복문 (`for`)을 이용해 파일에 여러 데이터를 입력할 수 있음 \n"
      ],
      "metadata": {
        "id": "NVAQ1SZ_Dq0J"
      }
    },
    {
      "cell_type": "code",
      "source": [
        "f = open('ForPython.txt', 'w')\n",
        "for i in range(5):\n",
        "  content = 'Data: %d \\n' % i # string formatting\n",
        "  print(content) # 화면에 출력 \n",
        "  f.write(content) # 텍스트 파일에 write\n",
        "\n",
        "f.close()"
      ],
      "metadata": {
        "id": "feCRakHaDqeE",
        "colab": {
          "base_uri": "https://localhost:8080/"
        },
        "outputId": "cd4c5548-ec32-4a92-dfc1-a4d9225a3fa0"
      },
      "execution_count": null,
      "outputs": [
        {
          "output_type": "stream",
          "name": "stdout",
          "text": [
            "Data: 0 \n",
            "\n",
            "Data: 1 \n",
            "\n",
            "Data: 2 \n",
            "\n",
            "Data: 3 \n",
            "\n",
            "Data: 4 \n",
            "\n"
          ]
        }
      ]
    },
    {
      "cell_type": "markdown",
      "source": [
        "기존의 파일을 유지하면서 내용을 추가하고자 할 때: 파일 모드 `a`를 사용 \n"
      ],
      "metadata": {
        "id": "wApFJMiFFF84"
      }
    },
    {
      "cell_type": "code",
      "source": [
        "# 파일 수정하기\n",
        "f = open('python.txt', 'a')\n",
        "content = 'Use file mode a to modify the content.' # 끝에 커서 생겨서 바로 시작 \n",
        "f.write(content)\n",
        "f.close()"
      ],
      "metadata": {
        "id": "0dPqZUFvBWqz"
      },
      "execution_count": null,
      "outputs": []
    },
    {
      "cell_type": "markdown",
      "source": [
        "### 파일 내용 읽기\n",
        "\n",
        "Can read the contents of a file with the reading mode: `r`, `r+`, `w+` or `a+`. \n",
        "\n",
        "**`.read()`**: 파일의 전체 내용을 문자열로 읽어오기 (혹은 일정 길이만큼 읽어오기) \n",
        "\n",
        "**`.readline()`**: 파일의 내용을 한줄씩 읽어오기 \n",
        "\n",
        "**`.readlines()`**: 파일의 내용을 읽어들인 여러개의 라인을 리스트로 저장"
      ],
      "metadata": {
        "id": "gS3_j0DoFoJO"
      }
    },
    {
      "cell_type": "code",
      "source": [
        "# 파일 내용 읽어오기: read()\n",
        "\n",
        "f = open('ForPython.txt', 'r')\n",
        "content = f.read()\n",
        "f.close()\n",
        "\n",
        "print(content)"
      ],
      "metadata": {
        "id": "9mI_E8VRBWts",
        "colab": {
          "base_uri": "https://localhost:8080/"
        },
        "outputId": "dd32e994-ee22-4398-bf5b-fec1788b8f62"
      },
      "execution_count": null,
      "outputs": [
        {
          "output_type": "stream",
          "name": "stdout",
          "text": [
            "Data: 0 \n",
            "Data: 1 \n",
            "Data: 2 \n",
            "Data: 3 \n",
            "Data: 4 \n",
            "\n"
          ]
        }
      ]
    },
    {
      "cell_type": "code",
      "source": [
        "# 파일 내용 읽어오기: read()\n",
        "\n",
        "f = open('ForPython.txt', 'r')\n",
        "content = f.read(15) #줄바꿈 문자까지 카운트\n",
        "print(content)\n",
        "\n",
        "new_content = f.read(5)\n",
        "print(new_content)\n",
        "\n",
        "f.close()"
      ],
      "metadata": {
        "id": "m-wQTMfSGIvb",
        "colab": {
          "base_uri": "https://localhost:8080/"
        },
        "outputId": "0ce4f191-ed24-4373-85fb-02d688d0f303"
      },
      "execution_count": null,
      "outputs": [
        {
          "output_type": "stream",
          "name": "stdout",
          "text": [
            "Data: 0 \n",
            "Data: \n",
            "1 \n",
            "Da\n"
          ]
        }
      ]
    },
    {
      "cell_type": "code",
      "source": [
        "# 파일 내용 읽어오기: readline()\n",
        "f = open('ForPython.txt', 'r') # OPNE 할 때에는 커서가 맨 앞에 존재\n",
        "content = f.readline()\n",
        "print(content)\n",
        "# 자동 줄 바꿈\n",
        "content = f.readline()\n",
        "print(content)"
      ],
      "metadata": {
        "id": "FcNaqo79GIrt",
        "colab": {
          "base_uri": "https://localhost:8080/"
        },
        "outputId": "2b64f259-b0ea-4876-ae55-452d0b7da91a"
      },
      "execution_count": null,
      "outputs": [
        {
          "output_type": "stream",
          "name": "stdout",
          "text": [
            "Data: 0 \n",
            "\n",
            "Data: 1 \n",
            "\n"
          ]
        }
      ]
    },
    {
      "cell_type": "code",
      "source": [
        "content = f.readline()\n",
        "print(content)\n",
        "\n",
        "f.close()"
      ],
      "metadata": {
        "id": "YMFHS1xhHfRs",
        "colab": {
          "base_uri": "https://localhost:8080/"
        },
        "outputId": "9d89ed4b-c855-4420-95ee-9c798cd355f9"
      },
      "execution_count": null,
      "outputs": [
        {
          "output_type": "stream",
          "name": "stdout",
          "text": [
            "Data: 2 \n",
            "\n"
          ]
        }
      ]
    },
    {
      "cell_type": "code",
      "source": [
        "# read first 3 lines \n",
        "f = open('ForPython.txt', 'r')\n",
        "for i in range(3):\n",
        "  content = f.readline()\n",
        "  print(content)\n",
        "\n",
        "f.close()"
      ],
      "metadata": {
        "id": "sCZaWMd0GIoc",
        "colab": {
          "base_uri": "https://localhost:8080/"
        },
        "outputId": "8bd8a987-f3e1-417a-a05a-62f573bec0a1"
      },
      "execution_count": null,
      "outputs": [
        {
          "output_type": "stream",
          "name": "stdout",
          "text": [
            "Data: 0 \n",
            "\n",
            "Data: 1 \n",
            "\n",
            "Data: 2 \n",
            "\n"
          ]
        }
      ]
    },
    {
      "cell_type": "code",
      "source": [
        "# 반복문을 사용해 모든 내용을 차례대로 읽어오기\n",
        "f = open('ForPython.txt', 'r')\n",
        "while True: \n",
        "  content = f.readline()\n",
        "  if not content: # content 가 empty 이면\n",
        "    break\n",
        "  print(content)\n",
        "\n",
        "f.close()"
      ],
      "metadata": {
        "id": "_J11mNdCBWu9",
        "colab": {
          "base_uri": "https://localhost:8080/"
        },
        "outputId": "ba2f439c-eb19-4763-dc3b-3686bfbffba2"
      },
      "execution_count": null,
      "outputs": [
        {
          "output_type": "stream",
          "name": "stdout",
          "text": [
            "Data: 0 \n",
            "\n",
            "Data: 1 \n",
            "\n",
            "Data: 2 \n",
            "\n",
            "Data: 3 \n",
            "\n",
            "Data: 4 \n",
            "\n"
          ]
        }
      ]
    },
    {
      "cell_type": "code",
      "source": [
        "# 파일 내용 읽어오기: readlines() # 리스트 형태로 반환\n",
        "f = open('ForPython.txt', 'r')\n",
        "lst_1 = f.readlines()\n",
        "print(lst_1)\n",
        "f.close()\n",
        "\n",
        "for content in lst_1:\n",
        "  print(content)"
      ],
      "metadata": {
        "id": "LjbPIj4PICuo",
        "colab": {
          "base_uri": "https://localhost:8080/"
        },
        "outputId": "ba29b3d3-aa28-4ef1-d985-52399e5072be"
      },
      "execution_count": null,
      "outputs": [
        {
          "output_type": "stream",
          "name": "stdout",
          "text": [
            "['Data: 0 \\n', 'Data: 1 \\n', 'Data: 2 \\n', 'Data: 3 \\n', 'Data: 4 \\n']\n",
            "Data: 0 \n",
            "\n",
            "Data: 1 \n",
            "\n",
            "Data: 2 \n",
            "\n",
            "Data: 3 \n",
            "\n",
            "Data: 4 \n",
            "\n"
          ]
        }
      ]
    },
    {
      "cell_type": "markdown",
      "source": [
        "### File Exceptions\n",
        "\n",
        "- `try-except-finally`를 이용해 파일 예외처리\n",
        "\n",
        "- `with as`를 이용해 파일 예외처리"
      ],
      "metadata": {
        "id": "_wh69BiTIwrj"
      }
    },
    {
      "cell_type": "code",
      "source": [
        "f = open('test.txt', 'r') # 없는 파일을 읽고자 함\n",
        "for line in f:\n",
        "  print(line, end='')"
      ],
      "metadata": {
        "id": "HuySR_hGICrG",
        "colab": {
          "base_uri": "https://localhost:8080/",
          "height": 209
        },
        "outputId": "0a47e532-3ce9-46c0-c621-ed156ff02a71"
      },
      "execution_count": null,
      "outputs": [
        {
          "output_type": "error",
          "ename": "FileNotFoundError",
          "evalue": "ignored",
          "traceback": [
            "\u001b[0;31m---------------------------------------------------------------------------\u001b[0m",
            "\u001b[0;31mFileNotFoundError\u001b[0m                         Traceback (most recent call last)",
            "\u001b[0;32m<ipython-input-13-769922854432>\u001b[0m in \u001b[0;36m<module>\u001b[0;34m()\u001b[0m\n\u001b[0;32m----> 1\u001b[0;31m \u001b[0mf\u001b[0m \u001b[0;34m=\u001b[0m \u001b[0mopen\u001b[0m\u001b[0;34m(\u001b[0m\u001b[0;34m'test.txt'\u001b[0m\u001b[0;34m,\u001b[0m \u001b[0;34m'r'\u001b[0m\u001b[0;34m)\u001b[0m \u001b[0;31m# 없는 파일을 읽고자 함\u001b[0m\u001b[0;34m\u001b[0m\u001b[0;34m\u001b[0m\u001b[0m\n\u001b[0m\u001b[1;32m      2\u001b[0m \u001b[0;32mfor\u001b[0m \u001b[0mline\u001b[0m \u001b[0;32min\u001b[0m \u001b[0mf\u001b[0m\u001b[0;34m:\u001b[0m\u001b[0;34m\u001b[0m\u001b[0;34m\u001b[0m\u001b[0m\n\u001b[1;32m      3\u001b[0m   \u001b[0mprint\u001b[0m\u001b[0;34m(\u001b[0m\u001b[0mline\u001b[0m\u001b[0;34m,\u001b[0m \u001b[0mend\u001b[0m\u001b[0;34m=\u001b[0m\u001b[0;34m''\u001b[0m\u001b[0;34m)\u001b[0m\u001b[0;34m\u001b[0m\u001b[0;34m\u001b[0m\u001b[0m\n",
            "\u001b[0;31mFileNotFoundError\u001b[0m: [Errno 2] No such file or directory: 'test.txt'"
          ]
        }
      ]
    },
    {
      "cell_type": "code",
      "source": [
        "# 파일 예외처리: try-except-finally\n",
        "\n",
        "try:\n",
        "  f = open('test.txt', 'r')\n",
        "  for line in f:\n",
        "    print(line, end='')\n",
        "\n",
        "except:\n",
        "  print('Error: File operation')\n",
        "\n",
        "finally:\n",
        "  f.close()"
      ],
      "metadata": {
        "id": "whg2DMwOJEhW",
        "colab": {
          "base_uri": "https://localhost:8080/"
        },
        "outputId": "3323665b-13f2-4978-d8da-d0d694600123"
      },
      "execution_count": null,
      "outputs": [
        {
          "output_type": "stream",
          "name": "stdout",
          "text": [
            "Error: File operation\n"
          ]
        }
      ]
    },
    {
      "cell_type": "code",
      "source": [
        "# with as\n",
        "\n",
        "with open('test.txt', 'r') as f:\n",
        "  for line in f:\n",
        "    print(line, end='')"
      ],
      "metadata": {
        "id": "zhOI-g6TJEdt",
        "colab": {
          "base_uri": "https://localhost:8080/",
          "height": 245
        },
        "outputId": "35aae80a-74ee-4b08-c079-46b6957373d3"
      },
      "execution_count": null,
      "outputs": [
        {
          "output_type": "error",
          "ename": "FileNotFoundError",
          "evalue": "ignored",
          "traceback": [
            "\u001b[0;31m---------------------------------------------------------------------------\u001b[0m",
            "\u001b[0;31mFileNotFoundError\u001b[0m                         Traceback (most recent call last)",
            "\u001b[0;32m<ipython-input-15-7a9f2fbf44f5>\u001b[0m in \u001b[0;36m<module>\u001b[0;34m()\u001b[0m\n\u001b[1;32m      1\u001b[0m \u001b[0;31m# with as\u001b[0m\u001b[0;34m\u001b[0m\u001b[0;34m\u001b[0m\u001b[0;34m\u001b[0m\u001b[0m\n\u001b[1;32m      2\u001b[0m \u001b[0;34m\u001b[0m\u001b[0m\n\u001b[0;32m----> 3\u001b[0;31m \u001b[0;32mwith\u001b[0m \u001b[0mopen\u001b[0m\u001b[0;34m(\u001b[0m\u001b[0;34m'test.txt'\u001b[0m\u001b[0;34m,\u001b[0m \u001b[0;34m'r'\u001b[0m\u001b[0;34m)\u001b[0m \u001b[0;32mas\u001b[0m \u001b[0mf\u001b[0m\u001b[0;34m:\u001b[0m\u001b[0;34m\u001b[0m\u001b[0;34m\u001b[0m\u001b[0m\n\u001b[0m\u001b[1;32m      4\u001b[0m   \u001b[0;32mfor\u001b[0m \u001b[0mline\u001b[0m \u001b[0;32min\u001b[0m \u001b[0mf\u001b[0m\u001b[0;34m:\u001b[0m\u001b[0;34m\u001b[0m\u001b[0;34m\u001b[0m\u001b[0m\n\u001b[1;32m      5\u001b[0m     \u001b[0mprint\u001b[0m\u001b[0;34m(\u001b[0m\u001b[0mline\u001b[0m\u001b[0;34m,\u001b[0m \u001b[0mend\u001b[0m\u001b[0;34m=\u001b[0m\u001b[0;34m''\u001b[0m\u001b[0;34m)\u001b[0m\u001b[0;34m\u001b[0m\u001b[0;34m\u001b[0m\u001b[0m\n",
            "\u001b[0;31mFileNotFoundError\u001b[0m: [Errno 2] No such file or directory: 'test.txt'"
          ]
        }
      ]
    },
    {
      "cell_type": "code",
      "source": [
        "# with as\n",
        "\n",
        "f = open('python.txt', 'r')\n",
        "for line in f:\n",
        "  print (line, end='')\n",
        "f. close\n",
        "\n",
        "print('\\n ==== \\n')\n",
        "\n",
        "with open('python.txt', 'r') as f:\n",
        "  for line in f:\n",
        "    print(line, end='')"
      ],
      "metadata": {
        "id": "eXybKvIBHw_O",
        "colab": {
          "base_uri": "https://localhost:8080/"
        },
        "outputId": "7f9fdb96-a55a-4746-948d-774d6151984e"
      },
      "execution_count": null,
      "outputs": [
        {
          "output_type": "stream",
          "name": "stdout",
          "text": [
            "hello \n",
            "Python file I/O class.Use file mode a to modify the content.\n",
            " ==== \n",
            "\n",
            "hello \n",
            "Python file I/O class.Use file mode a to modify the content."
          ]
        }
      ]
    },
    {
      "cell_type": "code",
      "source": [
        "# with as\n",
        "\n",
        "with open('ForPython.txt', 'r') as f:\n",
        "  for line in f:\n",
        "    print(line, end='')\n",
        "\n",
        "print('=====')\n",
        "with open('ForPython.txt', 'r') as f:\n",
        "  content = f.read()\n",
        "  print(content)"
      ],
      "metadata": {
        "id": "ToFh4A0MJlOw",
        "colab": {
          "base_uri": "https://localhost:8080/"
        },
        "outputId": "905f286d-c170-42cb-a8ed-f117d69ec170"
      },
      "execution_count": null,
      "outputs": [
        {
          "output_type": "stream",
          "name": "stdout",
          "text": [
            "Data: 0 \n",
            "Data: 1 \n",
            "Data: 2 \n",
            "Data: 3 \n",
            "Data: 4 \n",
            "=====\n",
            "Data: 0 \n",
            "Data: 1 \n",
            "Data: 2 \n",
            "Data: 3 \n",
            "Data: 4 \n",
            "\n"
          ]
        }
      ]
    },
    {
      "cell_type": "markdown",
      "source": [
        "## Exercises\n",
        "\n"
      ],
      "metadata": {
        "id": "6kY4rs_wJ5id"
      }
    },
    {
      "cell_type": "markdown",
      "source": [
        "### E-1\n",
        "\n",
        "주어진 파일 이름 `fname`과 문자열 리스트 `str_list`를 입력받아 동작하는 함수 `write_file(fname, str_list)`를 구현하세요: \n",
        "- 주어진 문자열 리스트 `str_list`에 속한 문자열들을 차례대로 파일 `fname`에 쓰되, 각 문자열은 \"한 줄\"로써 입력되어야 합니다. \n",
        "- 만일 해당 파일이 이미 존재한다면 덮어씁니다. \n",
        "\n",
        "실행 결과:\n",
        "```\n",
        "str_list = ['Welcome to EGC4040-05' 'What is Python?', 'Study about FIle I/O Today.']\n",
        "write_file('test_E1.txt', str_list)\n",
        "\n",
        "with open('test_E1.txt', 'r') as f:\n",
        "  print(f.read())\n",
        ">>>\n",
        "Welcome to EGC4040-05\n",
        "What is Python?\n",
        "Study about FIle I/O Today.\n",
        "```"
      ],
      "metadata": {
        "id": "KJyDv-hOK10b"
      }
    },
    {
      "cell_type": "code",
      "source": [
        "# your code here:\n",
        "def write_file (fname, str_list):\n",
        "  #fname 열고 (mode : 'w')\n",
        "  # str_list 에 있는 'element + \\n' 들을 각각 write\n",
        "\n",
        "  with open (fname, 'w') as f:\n",
        "    for line in str_list:\n",
        "      f.write(line+'\\n')\n",
        "\n",
        "      # 줄바꿈 포함\n",
        "\n"
      ],
      "metadata": {
        "id": "997V_oEnK1oW"
      },
      "execution_count": null,
      "outputs": []
    },
    {
      "cell_type": "code",
      "source": [
        "# test our code:\n",
        "str_list = ['Welcome to EGC4040-05', 'What is Python?', 'Study about FIle I/O Today.']\n",
        "write_file('test_E1.txt', str_list)"
      ],
      "metadata": {
        "id": "IBLfMS2DK1lK"
      },
      "execution_count": null,
      "outputs": []
    },
    {
      "cell_type": "code",
      "source": [
        "# test our code:\n",
        "with open('test_E1.txt', 'r') as f:\n",
        "  print(f.read())"
      ],
      "metadata": {
        "id": "_EnbvSXPK1iq",
        "colab": {
          "base_uri": "https://localhost:8080/"
        },
        "outputId": "a8b5bebe-23b1-4e8b-e83d-af52b0926a42"
      },
      "execution_count": null,
      "outputs": [
        {
          "output_type": "stream",
          "name": "stdout",
          "text": [
            "Welcome to EGC4040-05\n",
            "What is Python?\n",
            "Study about FIle I/O Today.\n",
            "\n"
          ]
        }
      ]
    },
    {
      "cell_type": "markdown",
      "source": [
        "### E-2\n",
        "\n",
        "다음의 정보를 리스트 형태로 구성하여 파일에 입력하세요.\n",
        "\n",
        "- 본인의 이름, 나이, 전공, 생년월일\n",
        "- `writelines()`를 사용하세요.\n",
        "- 파일이름: `info.txt` \n"
      ],
      "metadata": {
        "id": "BPOs0xQ0L9D3"
      }
    },
    {
      "cell_type": "code",
      "source": [
        "\n",
        "# your code here:\n",
        "content_lst = ['Name: Youngseo ', 'Age: 21 ', 'Major: AI ', 'Birth: 020819']\n",
        "# 리스트에 공백 포함\n",
        "with open ('info.txt', 'w') as f:\n",
        "  f.writelines(content_lst)\n"
      ],
      "metadata": {
        "id": "g-2nmWc1L84C"
      },
      "execution_count": null,
      "outputs": []
    },
    {
      "cell_type": "markdown",
      "source": [
        "### E-3\n",
        "\n",
        "다음의 텍스트를 파일 `test_E3.txt`로 저장하세요. 이 파일을 읽어온 후 사용자의 입력을 받아 해당 문자열이 파일 내에 있는 지 확인하여 존재하면 `True`, 존재하지 않으면 `False`를 출력하세요.\n",
        "\n",
        "```\n",
        "The hyperledger is a distributed industry ledger standardization project for the blockchain open source project hosted by the Linux Foundation and aims to implement blockchain technologies applicable to various industries. Hyperledger Fabric is one of Hyperledger’s subprojects, a consortium blockchain.\n",
        "```\n",
        "\n",
        "\n",
        "실행 결과:\n",
        "```\n",
        "Enter a string you want to find: abc\n",
        "False\n",
        "\n",
        "Enter a string you want to find: blockchain\n",
        "True\n",
        "```"
      ],
      "metadata": {
        "id": "cKWYRZ_rNnEV"
      }
    },
    {
      "cell_type": "code",
      "source": [
        "# your code here:\n",
        "\n",
        "# file을 read 모드로 열기 \n",
        "# user input\n",
        "# file 이 해당 문자열에 있는지 확인\n",
        "\n",
        "with open('test_E3.txt', 'r') as f:\n",
        "  file_str = f.read()\n",
        "\n",
        "  user_str = input('Enter a string you want to find: ')\n",
        "\n",
        "  file_str.find(user_str)\n",
        "  # find 함수 = user_str이 file_str 에 없으면 -1 반환\n",
        "  if file_str.find(user_str) == -1:  # 없다는 !=\n",
        "    print (False)\n",
        "  else:\n",
        "    print(True)\n",
        "\n"
      ],
      "metadata": {
        "id": "PoqBk8t6L81K",
        "colab": {
          "base_uri": "https://localhost:8080/"
        },
        "outputId": "600a6ee7-750f-4f32-c666-9bcf0ec53dba"
      },
      "execution_count": null,
      "outputs": [
        {
          "output_type": "stream",
          "name": "stdout",
          "text": [
            "Enter a string you want to find: The\n",
            "True\n"
          ]
        }
      ]
    },
    {
      "cell_type": "markdown",
      "source": [
        "### E-4\n",
        "\n",
        "다음의 텍스트를 가지는 파일 `test_E4.txt`를 저장하세요. 이 파일의 짝수번째 줄에 해당하는 내용을 읽어와 \b새로운 파일 `new_E4.txt`에 저장하세요.\n",
        "\n",
        "```\n",
        "Welcome to EGC4040-05.\n",
        "What is Python?\n",
        "1\n",
        "2\n",
        "3\n",
        "4\n",
        "5\n",
        "0\n",
        "```\n",
        "\n",
        "실행 결과:\n",
        "```\n",
        "with open('new_E4.txt', 'r') as f:\n",
        "  print(f.read())\n",
        ">>>\n",
        "What is Python?\n",
        "2\n",
        "4\n",
        "0\n",
        "```"
      ],
      "metadata": {
        "id": "eTUIWBbMO-bL"
      }
    },
    {
      "cell_type": "code",
      "source": [
        "# your code here:\n",
        "with open('test_E4.txt', 'r') as f:\n",
        "  lines = f.readlines()\n",
        "  print(lines)\n",
        "\n",
        "  with open('new_E4.txt', 'w') as f_new:\n",
        "    f_new.writelines(lines[1::2])\n"
      ],
      "metadata": {
        "id": "gPOif1v4K1fp",
        "colab": {
          "base_uri": "https://localhost:8080/"
        },
        "outputId": "c24b54bf-55fc-44a6-8e7a-18b609fc678f"
      },
      "execution_count": null,
      "outputs": [
        {
          "output_type": "stream",
          "name": "stdout",
          "text": [
            "['Welcome to EGC4040-05.\\n', 'What is Python?\\n', '1\\n', '2\\n', '3\\n', '4\\n', '5\\n', '0']\n"
          ]
        }
      ]
    },
    {
      "cell_type": "code",
      "source": [
        "# test your code:\n",
        "with open('new_E4.txt', 'r') as f:\n",
        "  print(f.read())\n",
        "\n",
        "print('\\n======\\n')\n",
        "\n",
        "mylst = ['name: Youngseo', 'ID: 2022113174', 'major: AI','grade: 1st', 'p.n: 010-2885-6450']\n",
        "with open('student.txt', 'w') as f:\n",
        "  f.writelines(mylst)\n",
        "  for info in mylst:\n",
        "    print(info + '\\n')\n",
        "\n",
        "print('\\n======\\n')\n",
        "\n",
        "mylst = ['name: Youngseo ', 'ID: 2022113174 ', 'major: AI ','grade: 1st ', 'p.n: 010-2885-6450']\n",
        "with open('student.txt', 'w') as f:\n",
        "  f.writelines(mylst)\n",
        "\n",
        "with open('student.txt', 'r') as f:\n",
        "  while True:\n",
        "    content = f.readline()\n",
        "    if not content:\n",
        "      break\n",
        "    else:\n",
        "      print(content)\n",
        "\n",
        "with open('forPython.txt', 'w') as f:\n",
        "  ment = ['hello', 'good', 'happy']\n",
        "  f.writelines(ment)\n",
        "\n",
        "with open('forPython.txt', 'r') as f:\n",
        "  while True:\n",
        "    content = f.readline()\n",
        "    if not content:\n",
        "      break\n",
        "    print(content)\n"
      ],
      "metadata": {
        "id": "JwPvv4iAQ-Xp",
        "colab": {
          "base_uri": "https://localhost:8080/"
        },
        "outputId": "bc9d198a-46b5-401f-c206-a88c1449f7aa"
      },
      "execution_count": null,
      "outputs": [
        {
          "output_type": "stream",
          "name": "stdout",
          "text": [
            "What is Python?\n",
            "2\n",
            "4\n",
            "0\n",
            "\n",
            "======\n",
            "\n",
            "name: Youngseo\n",
            "\n",
            "ID: 2022113174\n",
            "\n",
            "major: AI\n",
            "\n",
            "grade: 1st\n",
            "\n",
            "p.n: 010-2885-6450\n",
            "\n",
            "\n",
            "======\n",
            "\n",
            "name: Youngseo ID: 2022113174 major: AI grade: 1st p.n: 010-2885-6450\n",
            "hellogoodhappy\n"
          ]
        }
      ]
    }
  ]
}