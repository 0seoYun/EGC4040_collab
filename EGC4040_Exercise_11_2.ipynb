{
  "nbformat": 4,
  "nbformat_minor": 0,
  "metadata": {
    "colab": {
      "name": "EGC4040_Exercise_11_2.ipynb",
      "provenance": [],
      "collapsed_sections": [],
      "include_colab_link": true
    },
    "kernelspec": {
      "name": "python3",
      "display_name": "Python 3"
    },
    "language_info": {
      "name": "python"
    }
  },
  "cells": [
    {
      "cell_type": "markdown",
      "metadata": {
        "id": "view-in-github",
        "colab_type": "text"
      },
      "source": [
        "<a href=\"https://colab.research.google.com/github/0seoYun/EGC4040_collab/blob/main/EGC4040_Exercise_11_2.ipynb\" target=\"_parent\"><img src=\"https://colab.research.google.com/assets/colab-badge.svg\" alt=\"Open In Colab\"/></a>"
      ]
    },
    {
      "cell_type": "markdown",
      "source": [
        "# EGC4040-05 Exercise 11-2\n",
        "\n",
        "**This exercise notebook will go through the \"Regular Expression\" in Python:**\n",
        "\n",
        "* Regular Expression (정규 표현식)\n"
      ],
      "metadata": {
        "id": "ceuQWqNoiIBo"
      }
    },
    {
      "cell_type": "markdown",
      "source": [
        "## Regular Expression (정규 표현식)\n",
        "\n",
        "**Regular Expression (정규표현식)**\n",
        "  - language for matching text patterns\n",
        "\n",
        "**Meta characters**\n",
        "  - 정규 표현식에 사용되는 문자: 정규 표현식을 위한 특별한 의미로 사용\n",
        "  - `[]`: `[`와 `]` 사이의 문자들을 매치 \n",
        "    - `[a-z]`: a부터 z까지의 모든 문자 \n",
        "    - `[0-9]`: 0부터 9까지의 모든 숫자\n",
        "\n",
        "  - `.`: `.` 기준으로 좌/우의 문자 사이에 모든 문자가 매치 \n",
        "    - `a.b`: aab, abb, axb, ... \n",
        "\n",
        "  - `+`: `+` 앞에 오는 문자가 반복 (최소 한 번 이상) \n",
        "    - `ab+c`: abc, abbc, abbbc, ... \n",
        "\n",
        "  - `*`: `*` 앞에 오는 문자가 반복 (최소 0번 이상)\n",
        "    - `a*b`: b, ab, aab, aaab, ... \n",
        "\n",
        "  - `{m,n}`: `{`와 `}` 사이의 수만큼 반복 (m과 n 사이의 반복 횟수)\n",
        "    - `ab{3}`: abbb\n",
        "    - `ab{1,}`: ab, abb, abbb, ... \n",
        "    \n",
        "  - `?`: `{0,1}`과 같음: `?` 앞에 오는 문자가 없거나 있음\n",
        "    - `ab?c`: ac, abc\n",
        "\n",
        "  - `\\b`: boundary between word and non-word\n"
      ],
      "metadata": {
        "id": "ehmQw4Gb7m-4"
      }
    },
    {
      "cell_type": "code",
      "source": [
        "# impore re module\n",
        "import re"
      ],
      "metadata": {
        "id": "wmE0Sp_sToY0"
      },
      "execution_count": null,
      "outputs": []
    },
    {
      "cell_type": "markdown",
      "source": [
        "**`re.compile()`**\n",
        "```\n",
        "re.compile(pattern)\n",
        "```\n",
        "\n",
        "- compile a regex pattern `pattern` (string) into a `re.Pattern` object\n",
        "\n",
        "- re module provides `match()`, `search()`, `findall()`, `finditer()` methods "
      ],
      "metadata": {
        "id": "nie3BXINUT4J"
      }
    },
    {
      "cell_type": "code",
      "source": [
        "r = re.compile('[a-z]') \n",
        "print(type(r))"
      ],
      "metadata": {
        "id": "gxytS72lToTi",
        "colab": {
          "base_uri": "https://localhost:8080/"
        },
        "outputId": "958cd382-6c86-43bf-dba0-2224c91d76f3"
      },
      "execution_count": null,
      "outputs": [
        {
          "output_type": "stream",
          "name": "stdout",
          "text": [
            "<class 're.Pattern'>\n"
          ]
        }
      ]
    },
    {
      "cell_type": "markdown",
      "source": [
        "**`re.match()`**\n",
        "```\n",
        "re.match(pattern, string)\n",
        "```\n",
        "- apply `pattern` at the start of the `string`\n",
        "- return `re.Match` object, or None if no match was found"
      ],
      "metadata": {
        "id": "XBXEqA09XjJc"
      }
    },
    {
      "cell_type": "code",
      "source": [
        "m = re.match('abc', 'abcde')\n",
        "print(type(m))\n",
        "print(m)"
      ],
      "metadata": {
        "id": "rYZAvZkDVH5u",
        "colab": {
          "base_uri": "https://localhost:8080/"
        },
        "outputId": "be1df059-7f7d-485c-e12a-b1df66a64218"
      },
      "execution_count": null,
      "outputs": [
        {
          "output_type": "stream",
          "name": "stdout",
          "text": [
            "<class 're.Match'>\n",
            "<re.Match object; span=(0, 3), match='abc'>\n"
          ]
        }
      ]
    },
    {
      "cell_type": "code",
      "source": [
        "m = re.match('abcf', 'abcde')\n",
        "print(m)\n",
        "m = re.match('a.+d', 'abcd')\n",
        "print(m)\n",
        "# match 는 앞 스트링이 뒷 스트링에 속해야 함. "
      ],
      "metadata": {
        "id": "zXePrgfvVH8q",
        "colab": {
          "base_uri": "https://localhost:8080/"
        },
        "outputId": "6a05d370-06fd-4e40-edcc-d8c44e5ee56b"
      },
      "execution_count": null,
      "outputs": [
        {
          "output_type": "stream",
          "name": "stdout",
          "text": [
            "None\n",
            "<re.Match object; span=(0, 4), match='abcd'>\n"
          ]
        }
      ]
    },
    {
      "cell_type": "markdown",
      "source": [
        "`re.Match` object has 4 methods: `group()`, `start()`, `end()`, `span()`\n",
        "\n",
        "- `group()`: 매치된 문자열 자체를 반환\n",
        "- `start()`: 매치된 문자열의 시작 위치를 반환\n",
        "- `end()`: 매치된 문자열의 마지막 위치를 반환\n",
        "- `span()`: 매치된 문자열의 (시작,끝) 튜플 반환\n"
      ],
      "metadata": {
        "id": "zqxqk5x3ZHdS"
      }
    },
    {
      "cell_type": "code",
      "source": [
        "m = re.match('abc', 'abcde')\n",
        "print(m.group())\n",
        "print(m.start())\n",
        "print(m.end())\n",
        "print(m.span())"
      ],
      "metadata": {
        "id": "aUIq8KaUZGwe",
        "colab": {
          "base_uri": "https://localhost:8080/"
        },
        "outputId": "94a6e569-a9be-46fe-b59d-6a50aee589c0"
      },
      "execution_count": null,
      "outputs": [
        {
          "output_type": "stream",
          "name": "stdout",
          "text": [
            "abc\n",
            "0\n",
            "3\n",
            "(0, 3)\n"
          ]
        }
      ]
    },
    {
      "cell_type": "markdown",
      "source": [
        "**`re.search()`**\n",
        "```\n",
        "re.search(pattern, string)\n",
        "```\n",
        "\n",
        "- scan through `string` looking for a match to the `pattern`, returning a `re.Match` object, or None if no match was found \n",
        "- 처음부터 매칭되지 않아도 match 객체를 반환\n"
      ],
      "metadata": {
        "id": "6Id8OTJGZ1ES"
      }
    },
    {
      "cell_type": "code",
      "source": [
        "s = re.search('bcd', 'abcde')\n",
        "print(s)\n",
        "print(s.group())\n",
        "print(s.start())\n",
        "\n",
        "m = re.match('bcd', 'abcde')\n",
        "print(m)"
      ],
      "metadata": {
        "id": "MauUdOqVZGs0",
        "colab": {
          "base_uri": "https://localhost:8080/"
        },
        "outputId": "63651514-b65e-4b29-abc5-9e0955141629"
      },
      "execution_count": null,
      "outputs": [
        {
          "output_type": "stream",
          "name": "stdout",
          "text": [
            "<re.Match object; span=(1, 4), match='bcd'>\n",
            "bcd\n",
            "1\n",
            "None\n"
          ]
        }
      ]
    },
    {
      "cell_type": "markdown",
      "source": [
        "**`re.findall()`**\n",
        "```\n",
        "re.findall(pattern, string)\n",
        "```\n",
        "\n",
        "- return a list of all matches in the `string`\n"
      ],
      "metadata": {
        "id": "1mppKpH-f-z1"
      }
    },
    {
      "cell_type": "code",
      "source": [
        "fa = re.findall('abc', 'abcdeabc')\n",
        "print(fa)"
      ],
      "metadata": {
        "id": "XE44vUFPZGo9",
        "colab": {
          "base_uri": "https://localhost:8080/"
        },
        "outputId": "ac2160e3-8f63-45ba-f8cc-ed32637d7473"
      },
      "execution_count": null,
      "outputs": [
        {
          "output_type": "stream",
          "name": "stdout",
          "text": [
            "['abc', 'abc']\n"
          ]
        }
      ]
    },
    {
      "cell_type": "markdown",
      "source": [
        "**`re.finditer()`**\n",
        "```\n",
        "re.finditer(pattern, string)\n",
        "```\n",
        "\n",
        "- return a iterator over all matches in the `string` \n"
      ],
      "metadata": {
        "id": "hCKKW64Ygbzl"
      }
    },
    {
      "cell_type": "code",
      "source": [
        "fi = re.finditer('abc', 'abcdeabc')\n",
        "print(fi)\n",
        "\n",
        "print(fi.__next__())\n",
        "print(fi.__next__())"
      ],
      "metadata": {
        "id": "7HquBjcRgbjd",
        "colab": {
          "base_uri": "https://localhost:8080/"
        },
        "outputId": "6e2b2895-45db-442b-b802-3d4a1399ed1e"
      },
      "execution_count": null,
      "outputs": [
        {
          "output_type": "stream",
          "name": "stdout",
          "text": [
            "<callable_iterator object at 0x7f20936c8450>\n",
            "<re.Match object; span=(0, 3), match='abc'>\n",
            "<re.Match object; span=(5, 8), match='abc'>\n"
          ]
        }
      ]
    },
    {
      "cell_type": "code",
      "source": [
        "# re.compile()\n",
        "\n",
        "r = re.compile('[a-z]+[a-z0-9]*')\n",
        "# [a-z]\n",
        "# [a-z0-9]\n",
        "# + (1번 이상 반복), * (0번 이상 반복)\n",
        "# r.findall(), r.search()\n",
        "\n",
        "m1 = r.findall('abcde123,abcd23,sdsfd34,34erer')\n",
        "print(m1)\n",
        "\n",
        "m2 = r.findall('abcde123ab,abcd23D,12sd9Sfd34,34erer23')\n",
        "print(m2)"
      ],
      "metadata": {
        "id": "3XFf8tPQVH_o",
        "colab": {
          "base_uri": "https://localhost:8080/"
        },
        "outputId": "efacb100-ff82-4c68-d144-b2c7db1950ed"
      },
      "execution_count": null,
      "outputs": [
        {
          "output_type": "stream",
          "name": "stdout",
          "text": [
            "['abcde123', 'abcd23', 'sdsfd34', 'erer']\n",
            "['abcde123ab', 'abcd23', 'sd9', 'fd34', 'erer23']\n"
          ]
        }
      ]
    },
    {
      "cell_type": "code",
      "source": [
        "r = re.compile(r'\\b[a-z]{5}\\b') # --> 소문자 5 letter words / A-Z 추가하면 대문자까지 찾음\n",
        "# \\b 는 공백을 나타냄\n",
        "# r - raw string\n",
        "\n",
        "m = r.findall('Hello hello world Great great')\n",
        "print(m)"
      ],
      "metadata": {
        "id": "3bcnCgz8kej9",
        "colab": {
          "base_uri": "https://localhost:8080/"
        },
        "outputId": "c02d2461-0998-46ee-e396-727848794f2a"
      },
      "execution_count": null,
      "outputs": [
        {
          "output_type": "stream",
          "name": "stdout",
          "text": [
            "['hello', 'world', 'great']\n"
          ]
        }
      ]
    },
    {
      "cell_type": "markdown",
      "source": [
        "## Exercises\n",
        "\n"
      ],
      "metadata": {
        "id": "6kY4rs_wJ5id"
      }
    },
    {
      "cell_type": "markdown",
      "source": [
        "### E-1\n",
        "\n",
        "다음 정규 표현식의 결과를 예상하고, 확인해보세요. \n",
        "\n",
        "실행 결과:\n",
        "```\n",
        "[0-5]{1,3}.[A-Z]{,3}\n",
        "[a-zA-Z0-9]\n",
        "```"
      ],
      "metadata": {
        "id": "KJyDv-hOK10b"
      }
    },
    {
      "cell_type": "code",
      "source": [
        "# what is the result?\n",
        "r1 = re.compile('[0-5]{1,3}.[A-Z]{,3}')\n",
        "# 0,1,2,3,4,5 가 1회 ~ 3회 반복 / A to Z가 0회 ~ 3회 반복 \n",
        "# .으로 인해 사이에 문자 숫자 기호(,) 무엇이든지 추가 가능\n",
        "\n",
        "m1 = r1.findall('aBc12345Aa,abcd23,SDSFD34e4ERSFRss')\n",
        "print(m1)"
      ],
      "metadata": {
        "id": "997V_oEnK1oW",
        "colab": {
          "base_uri": "https://localhost:8080/"
        },
        "outputId": "d84fa2b7-a97f-44fd-a941-f0eb7d9d166c"
      },
      "execution_count": null,
      "outputs": [
        {
          "output_type": "stream",
          "name": "stdout",
          "text": [
            "['1234', '5A', '23,SDS', '34e', '4ERSF']\n"
          ]
        }
      ]
    },
    {
      "cell_type": "code",
      "source": [
        "# what is the result?\n",
        "r2 = re.compile('[a-zA-Z0-9]')\n",
        "m2 = r2.findall('abCdE13579')\n",
        "print(m2)"
      ],
      "metadata": {
        "id": "sjyD5vn-ijEG",
        "colab": {
          "base_uri": "https://localhost:8080/"
        },
        "outputId": "4876d3eb-c9bc-47d6-9d39-f80f15d34ee0"
      },
      "execution_count": null,
      "outputs": [
        {
          "output_type": "stream",
          "name": "stdout",
          "text": [
            "['a', 'b', 'C', 'd', 'E', '1', '3', '5', '7', '9']\n"
          ]
        }
      ]
    },
    {
      "cell_type": "markdown",
      "source": [
        "### E-2\n",
        "\n",
        "주어진 string에서 P 혹은 d로 시작하는 영단어들을 찾아보세요. \n",
        "\n",
        "- `compile()`을 사용해 P 혹은 d로 시작하는 word에 관한 pattern을 만들고 \n",
        "- `findall()`을 사용해 주어진 string에서 해당 패턴을 모두 찾아보세요.\n",
        "\n",
        "실행 결과:\n",
        "```\n",
        "my_str = 'James is a Python developer. He took a class of Python Programming for AI' \n",
        ">>>\n",
        "['Python', 'developer', 'Python', 'Programming']\n",
        "```"
      ],
      "metadata": {
        "id": "BPOs0xQ0L9D3"
      }
    },
    {
      "cell_type": "code",
      "source": [
        "# your code here\n",
        "my_str = 'James is a Python developer. He took a class of Python Programming for AI'\n",
        "\n",
        "pattern = re.compile(r'\\b[Pd][A-Za-z]+\\b')\n",
        "result = pattern.findall(my_str)\n",
        "print(result)"
      ],
      "metadata": {
        "id": "g-2nmWc1L84C",
        "colab": {
          "base_uri": "https://localhost:8080/"
        },
        "outputId": "7c58329e-223c-4f1c-c6a0-741225c3d456"
      },
      "execution_count": null,
      "outputs": [
        {
          "output_type": "stream",
          "name": "stdout",
          "text": [
            "['Python', 'developer', 'Python', 'Programming']\n"
          ]
        }
      ]
    },
    {
      "cell_type": "markdown",
      "source": [
        "### E-3\n",
        "\n",
        "주어진 string에서 모든 '숫자'를 찾아보세요. \n",
        "\n",
        "\n",
        "실행 결과:\n",
        "```\n",
        "my_str = 'hello 12 hi 892. Fiftyfour 54'\n",
        ">>> \n",
        "['12', '892', '54']\n",
        "```"
      ],
      "metadata": {
        "id": "cKWYRZ_rNnEV"
      }
    },
    {
      "cell_type": "code",
      "source": [
        "# your code here\n",
        "my_str = 'hello 12 hi 892. Fiftyfour 54'\n",
        "\n",
        "pattern = re.compile('[0-9]+')\n",
        "result = pattern.findall(my_str)\n",
        "print(result)"
      ],
      "metadata": {
        "id": "PoqBk8t6L81K",
        "colab": {
          "base_uri": "https://localhost:8080/"
        },
        "outputId": "d3a7867f-90b1-4172-977b-0c1801bdc698"
      },
      "execution_count": null,
      "outputs": [
        {
          "output_type": "stream",
          "name": "stdout",
          "text": [
            "['12', '892', '54']\n"
          ]
        }
      ]
    }
  ]
}