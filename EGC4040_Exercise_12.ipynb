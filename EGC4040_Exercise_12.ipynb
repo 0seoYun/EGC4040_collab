{
  "nbformat": 4,
  "nbformat_minor": 0,
  "metadata": {
    "colab": {
      "name": "EGC4040_Exercise_12.ipynb",
      "provenance": [],
      "collapsed_sections": [],
      "include_colab_link": true
    },
    "kernelspec": {
      "name": "python3",
      "display_name": "Python 3"
    },
    "language_info": {
      "name": "python"
    }
  },
  "cells": [
    {
      "cell_type": "markdown",
      "metadata": {
        "id": "view-in-github",
        "colab_type": "text"
      },
      "source": [
        "<a href=\"https://colab.research.google.com/github/0seoYun/EGC4040_collab/blob/main/EGC4040_Exercise_12.ipynb\" target=\"_parent\"><img src=\"https://colab.research.google.com/assets/colab-badge.svg\" alt=\"Open In Colab\"/></a>"
      ]
    },
    {
      "cell_type": "markdown",
      "source": [
        "# EGC4040-05 Exercise 12\n",
        "\n",
        "**This exercise notebook will go through the \"Module, Package, Built-In Functions\" in Python:**\n",
        "\n",
        "* Module and Package (모듈과 패키지)\n",
        "* Built-In Functions (내장 함수)\n"
      ],
      "metadata": {
        "id": "ceuQWqNoiIBo"
      }
    },
    {
      "cell_type": "markdown",
      "source": [
        "## Module & Package (모듈, 패키지)\n",
        "\n",
        "**Module (모듈)**\n",
        "  - 함수, 변수, 클래스 등을 따로 모아 놓은 `<module_name>.py` 파일 \n",
        "\n",
        "  - `import module` \n",
        "    - `module.변수`, `module.함수()`, `module.class` 로 사용\n",
        "  - `import module as name`\n",
        "  - `from module import function`\n",
        "  - `from module import function as name`\n"
      ],
      "metadata": {
        "id": "ehmQw4Gb7m-4"
      }
    },
    {
      "cell_type": "code",
      "source": [
        "# import re module\n",
        "\n",
        "import re # re.함수(), re.변수, re.클래스\n",
        "\n",
        "pattern = re.compile('[a-z]+')\n",
        "print(pattern.search('abccd'))\n"
      ],
      "metadata": {
        "id": "wmE0Sp_sToY0",
        "colab": {
          "base_uri": "https://localhost:8080/"
        },
        "outputId": "98c81507-e44e-4dec-eefe-8b10a0bf4b27"
      },
      "execution_count": null,
      "outputs": [
        {
          "output_type": "stream",
          "name": "stdout",
          "text": [
            "<re.Match object; span=(0, 5), match='abccd'>\n"
          ]
        }
      ]
    },
    {
      "cell_type": "code",
      "source": [
        "# import random module \n",
        "\n",
        "import random\n",
        " # 주사위는 (1,6)으로 만들 수 있음.\n",
        "def ran_num():\n",
        "  num = random.randint(0,100)\n",
        "  return num\n",
        "\n",
        "print(ran_num())"
      ],
      "metadata": {
        "id": "gxytS72lToTi",
        "colab": {
          "base_uri": "https://localhost:8080/"
        },
        "outputId": "a962a110-c570-43ad-a765-64c1fb0baabf"
      },
      "execution_count": null,
      "outputs": [
        {
          "output_type": "stream",
          "name": "stdout",
          "text": [
            "25\n"
          ]
        }
      ]
    },
    {
      "cell_type": "code",
      "source": [
        "# from ... import ... \n",
        "from random import randrange\n",
        "\n",
        "def ran_range():\n",
        "  num = randrange(0, 100, 3) # 0 3 6 9 12..\n",
        "  return num \n",
        "\n",
        "print(ran_range())"
      ],
      "metadata": {
        "id": "rYZAvZkDVH5u",
        "colab": {
          "base_uri": "https://localhost:8080/"
        },
        "outputId": "6bbf51d4-9d11-4c23-bcb4-b2036f0ef007"
      },
      "execution_count": null,
      "outputs": [
        {
          "output_type": "stream",
          "name": "stdout",
          "text": [
            "24\n"
          ]
        }
      ]
    },
    {
      "cell_type": "code",
      "source": [
        "# import ... as ...\n",
        "import random as rd\n",
        "\n",
        "print(rd.randint(0, 100))\n",
        "print(rd.randrange(0, 100, 5)) # 5의 배수"
      ],
      "metadata": {
        "id": "zXePrgfvVH8q",
        "colab": {
          "base_uri": "https://localhost:8080/"
        },
        "outputId": "96f6f8bb-2d94-4421-d891-d3f726396b3f"
      },
      "execution_count": null,
      "outputs": [
        {
          "output_type": "stream",
          "name": "stdout",
          "text": [
            "81\n",
            "40\n"
          ]
        }
      ]
    },
    {
      "cell_type": "code",
      "source": [
        "# from ... import ... as ...\n",
        "from random import randrange as ran\n",
        "# randrnage (start, stop, step)\n",
        "def ran_range():\n",
        "  num = ran(0, 100, 3)\n",
        "  return num\n",
        "\n",
        "print(ran_range())"
      ],
      "metadata": {
        "id": "aUIq8KaUZGwe"
      },
      "execution_count": null,
      "outputs": []
    },
    {
      "cell_type": "markdown",
      "source": [
        "**Package (패키지)**\n",
        "- 관련된 모듈들을 모아둔 collection \n",
        "- '.'을 통해 단계적으로 접근 \n",
        "\n",
        "Example:\n",
        "```\n",
        "game/\n",
        "    __init__.py\n",
        "    sound/\n",
        "        __init__.py\n",
        "        echo.py\n",
        "        wav.py\n",
        "    graphic/\n",
        "        __init__.py\n",
        "        screen.py\n",
        "        render.py\n",
        "    play/\n",
        "        __init__.py\n",
        "        run.py\n",
        "        test.py\n",
        "```\n",
        "\n",
        "`echo.py`\n",
        "```\n",
        "# echo.py\n",
        "def echo_test():\n",
        "    print(\"echo\")\n",
        "```"
      ],
      "metadata": {
        "id": "6Id8OTJGZ1ES"
      }
    },
    {
      "cell_type": "code",
      "source": [
        "# import package\n",
        "import game.sound.echo #-> game.sound.echo.xxx\n",
        "game.sound.echo.echo_test()"
      ],
      "metadata": {
        "id": "MauUdOqVZGs0",
        "colab": {
          "base_uri": "https://localhost:8080/",
          "height": 209
        },
        "outputId": "4df2af7f-715c-4cc2-c35e-42d0487f1a77"
      },
      "execution_count": null,
      "outputs": [
        {
          "output_type": "error",
          "ename": "AttributeError",
          "evalue": "ignored",
          "traceback": [
            "\u001b[0;31m---------------------------------------------------------------------------\u001b[0m",
            "\u001b[0;31mAttributeError\u001b[0m                            Traceback (most recent call last)",
            "\u001b[0;32m<ipython-input-18-848c1e59871d>\u001b[0m in \u001b[0;36m<module>\u001b[0;34m()\u001b[0m\n\u001b[1;32m      1\u001b[0m \u001b[0;31m# import package\u001b[0m\u001b[0;34m\u001b[0m\u001b[0;34m\u001b[0m\u001b[0;34m\u001b[0m\u001b[0m\n\u001b[1;32m      2\u001b[0m \u001b[0;32mimport\u001b[0m \u001b[0mgame\u001b[0m\u001b[0;34m.\u001b[0m\u001b[0msound\u001b[0m\u001b[0;34m.\u001b[0m\u001b[0mecho\u001b[0m\u001b[0;34m\u001b[0m\u001b[0;34m\u001b[0m\u001b[0m\n\u001b[0;32m----> 3\u001b[0;31m \u001b[0mgame\u001b[0m\u001b[0;34m.\u001b[0m\u001b[0msound\u001b[0m\u001b[0;34m.\u001b[0m\u001b[0mecho\u001b[0m\u001b[0;34m.\u001b[0m\u001b[0mecho_test\u001b[0m\u001b[0;34m(\u001b[0m\u001b[0;34m)\u001b[0m\u001b[0;34m\u001b[0m\u001b[0;34m\u001b[0m\u001b[0m\n\u001b[0m",
            "\u001b[0;31mAttributeError\u001b[0m: module 'game.sound.echo' has no attribute 'echo_test'"
          ]
        }
      ]
    },
    {
      "cell_type": "code",
      "source": [
        "from game.sound import echo # -> echo.xxx\n",
        "echo.echo_test()"
      ],
      "metadata": {
        "id": "dOg7neKYyJc5",
        "colab": {
          "base_uri": "https://localhost:8080/",
          "height": 190
        },
        "outputId": "2a1762d6-a353-47b9-9ced-4f77623d4e8a"
      },
      "execution_count": null,
      "outputs": [
        {
          "output_type": "error",
          "ename": "AttributeError",
          "evalue": "ignored",
          "traceback": [
            "\u001b[0;31m---------------------------------------------------------------------------\u001b[0m",
            "\u001b[0;31mAttributeError\u001b[0m                            Traceback (most recent call last)",
            "\u001b[0;32m<ipython-input-20-21bfaa923824>\u001b[0m in \u001b[0;36m<module>\u001b[0;34m()\u001b[0m\n\u001b[1;32m      1\u001b[0m \u001b[0;32mfrom\u001b[0m \u001b[0mgame\u001b[0m\u001b[0;34m.\u001b[0m\u001b[0msound\u001b[0m \u001b[0;32mimport\u001b[0m \u001b[0mecho\u001b[0m \u001b[0;31m# -> echo.xxx\u001b[0m\u001b[0;34m\u001b[0m\u001b[0;34m\u001b[0m\u001b[0m\n\u001b[0;32m----> 2\u001b[0;31m \u001b[0mecho\u001b[0m\u001b[0;34m.\u001b[0m\u001b[0mecho_test\u001b[0m\u001b[0;34m(\u001b[0m\u001b[0;34m)\u001b[0m\u001b[0;34m\u001b[0m\u001b[0;34m\u001b[0m\u001b[0m\n\u001b[0m",
            "\u001b[0;31mAttributeError\u001b[0m: module 'game.sound.echo' has no attribute 'echo_test'"
          ]
        }
      ]
    },
    {
      "cell_type": "code",
      "source": [
        "from game.sound.echo import echo_test\n",
        "echo_test()"
      ],
      "metadata": {
        "id": "5yGtlgnlyJYv",
        "colab": {
          "base_uri": "https://localhost:8080/",
          "height": 336
        },
        "outputId": "20483f78-8217-4fea-c97a-94a035522eec"
      },
      "execution_count": null,
      "outputs": [
        {
          "output_type": "error",
          "ename": "ImportError",
          "evalue": "ignored",
          "traceback": [
            "\u001b[0;31m---------------------------------------------------------------------------\u001b[0m",
            "\u001b[0;31mImportError\u001b[0m                               Traceback (most recent call last)",
            "\u001b[0;32m<ipython-input-21-b667c3307260>\u001b[0m in \u001b[0;36m<module>\u001b[0;34m()\u001b[0m\n\u001b[0;32m----> 1\u001b[0;31m \u001b[0;32mfrom\u001b[0m \u001b[0mgame\u001b[0m\u001b[0;34m.\u001b[0m\u001b[0msound\u001b[0m\u001b[0;34m.\u001b[0m\u001b[0mecho\u001b[0m \u001b[0;32mimport\u001b[0m \u001b[0mecho_test\u001b[0m\u001b[0;34m\u001b[0m\u001b[0;34m\u001b[0m\u001b[0m\n\u001b[0m\u001b[1;32m      2\u001b[0m \u001b[0mecho_test\u001b[0m\u001b[0;34m(\u001b[0m\u001b[0;34m)\u001b[0m\u001b[0;34m\u001b[0m\u001b[0;34m\u001b[0m\u001b[0m\n",
            "\u001b[0;31mImportError\u001b[0m: cannot import name 'echo_test' from 'game.sound.echo' (/content/game/sound/echo.py)",
            "",
            "\u001b[0;31m---------------------------------------------------------------------------\u001b[0;32m\nNOTE: If your import is failing due to a missing package, you can\nmanually install dependencies using either !pip or !apt.\n\nTo view examples of installing some common dependencies, click the\n\"Open Examples\" button below.\n\u001b[0;31m---------------------------------------------------------------------------\u001b[0m\n"
          ],
          "errorDetails": {
            "actions": [
              {
                "action": "open_url",
                "actionText": "Open Examples",
                "url": "/notebooks/snippets/importing_libraries.ipynb"
              }
            ]
          }
        }
      ]
    },
    {
      "cell_type": "markdown",
      "source": [
        "### Modules: Math, Datetime\n",
        "\n",
        "**[math](https://docs.python.org/ko/3/library/math.html)** module \n",
        "\n",
        "The math module provides access to the mathematical functions\n",
        "\n",
        "- `math.pi`, `math.pow()`, `math.max()`, `math.min()`, `math.ceil()`, `math.floor()`, `math.sqrt()`, `math.sin()`, `math.cos()`, `math.tan()`, ... \n",
        "\n",
        "\n",
        "**[datetime](https://docs.python.org/ko/3/library/datetime.html#module-datetime)** module\n",
        "The datetime module provides functions to handle the date and time\n",
        "\n",
        "- it has a date, time, datetime, timezone classes\n",
        "- there is a [datetime](https://docs.python.org/3/library/datetime.html#datetime.datetime) object: that contains all the information of a date and time\n",
        "\n",
        "- datetime class has various class methods including: `datetime.today()`, `datetime.now()`, ..., and instance methods: `datetime.date()`, `datetime.time()`, `datetime.weekday()`, ...\n"
      ],
      "metadata": {
        "id": "zr5WJfXw0OxG"
      }
    },
    {
      "cell_type": "code",
      "source": [
        "import math\n",
        "\n",
        "# pi\n",
        "print(math.pi)\n",
        "\n",
        "# square root of number\n",
        "print(math.sqrt(16)) # 제곱근\n",
        "\n",
        "# the smallest integer greater than or equal to the number\n",
        "print(math.ceil(7.2)) # 올림\n",
        "print(math.floor(7.2)) # 내림\n",
        "\n",
        "# sin\n",
        "print(math.sin(0.5*math.pi))\n",
        "\n",
        "# log\n",
        "print(math.log(100))"
      ],
      "metadata": {
        "id": "626W1W3P0OhR",
        "colab": {
          "base_uri": "https://localhost:8080/"
        },
        "outputId": "0e55b99d-0226-47f9-99ec-c428d25de51d"
      },
      "execution_count": null,
      "outputs": [
        {
          "output_type": "stream",
          "name": "stdout",
          "text": [
            "3.141592653589793\n",
            "4.0\n",
            "8\n",
            "7\n",
            "1.0\n",
            "4.605170185988092\n"
          ]
        }
      ]
    },
    {
      "cell_type": "code",
      "source": [
        "# compute the Pythagorean theorem: triangle side length \n",
        "\n",
        "side_a = 3.0\n",
        "side_b = 4.0\n",
        "\n",
        "side_c = math.sqrt(math.pow(side_a,2)+ math.pow(side_b,2))\n",
        "print(f'The length of side a: {side_a}')\n",
        "print(f'The length of side b: {side_b}')\n",
        "print(f'The length of side c: {side_c}')"
      ],
      "metadata": {
        "id": "khpZTkTD0y98",
        "colab": {
          "base_uri": "https://localhost:8080/"
        },
        "outputId": "6ba7cbac-db22-4355-e4ed-218576f044e0"
      },
      "execution_count": null,
      "outputs": [
        {
          "output_type": "stream",
          "name": "stdout",
          "text": [
            "The length of side a: 3.0\n",
            "The length of side b: 4.0\n",
            "The length of side c: 5.0\n"
          ]
        }
      ]
    },
    {
      "cell_type": "code",
      "source": [
        "from datetime import datetime # datetime class 사용\n",
        "\n",
        "# get today's information\n",
        "today = datetime.today()\n",
        "print(f'Today: {today}')\n",
        "print(type(today))\n",
        "\n",
        "\n",
        "# extract year, month, day\n",
        "print(f'Year: {today.year}')\n",
        "print(f'Month: {today.month}')\n",
        "print(f'Day: {today.day}')\n",
        "\n",
        "# extract year, month, day\n",
        "print(f'Hour: {today.hour}')\n",
        "print(f'Minute: {today.minute}')\n",
        "print(f'Second: {today.second}')\n",
        "\n",
        "my_str = str(today.month)+ '_' + str(today.day) + '_' + str(today.hour)\n",
        "print(my_str)\n",
        "# 정수 두자리로 하는 포맷팅 찾기"
      ],
      "metadata": {
        "id": "D6wg6Vm000BE",
        "colab": {
          "base_uri": "https://localhost:8080/"
        },
        "outputId": "f48fc0c4-c19c-43b7-969e-9bb57e14cab6"
      },
      "execution_count": null,
      "outputs": [
        {
          "output_type": "stream",
          "name": "stdout",
          "text": [
            "Today: 2022-06-12 09:05:41.270487\n",
            "<class 'datetime.datetime'>\n",
            "Year: 2022\n",
            "Month: 6\n",
            "Day: 12\n",
            "Hour: 9\n",
            "Minute: 5\n",
            "Second: 41\n",
            "6_12_9\n"
          ]
        }
      ]
    },
    {
      "cell_type": "markdown",
      "source": [
        "## Built-In Function (내장함수)\n",
        "\n",
        "- 모듈을 가져오지 않고 바로 사용할 수 있는 함수 "
      ],
      "metadata": {
        "id": "HwMhfdwE3JDZ"
      }
    },
    {
      "cell_type": "code",
      "source": [
        "# abs - 절댓값 반환\n",
        "print(abs(2))\n",
        "print(abs(-4))"
      ],
      "metadata": {
        "id": "Wd6KL57-3Of8",
        "colab": {
          "base_uri": "https://localhost:8080/"
        },
        "outputId": "62d75ec9-c544-4274-ce60-f4586cc13f72"
      },
      "execution_count": null,
      "outputs": [
        {
          "output_type": "stream",
          "name": "stdout",
          "text": [
            "2\n",
            "4\n"
          ]
        }
      ]
    },
    {
      "cell_type": "code",
      "source": [
        "# all, any\n",
        "\n",
        "print(all([1,2]))\n",
        "print(all([1,2,0]))\n",
        "\n",
        "print(any([1,2,0]))\n",
        "print(any([0,0]))"
      ],
      "metadata": {
        "id": "xu1T71FS3Oce",
        "colab": {
          "base_uri": "https://localhost:8080/"
        },
        "outputId": "1b82be0b-a33e-4bd5-8032-a16cae5c10da"
      },
      "execution_count": null,
      "outputs": [
        {
          "output_type": "stream",
          "name": "stdout",
          "text": [
            "True\n",
            "False\n",
            "True\n",
            "False\n"
          ]
        }
      ]
    },
    {
      "cell_type": "code",
      "source": [
        "# dir\n",
        "print(dir([1,2,3])) # 리스트\n",
        "print(dir({0:'a', 1:'b', 2:'c'})) # 딕셔너리"
      ],
      "metadata": {
        "id": "PxYfIzWP3OYl",
        "colab": {
          "base_uri": "https://localhost:8080/"
        },
        "outputId": "cd94eac3-ec8c-47de-8e1c-b9e42be23cf9"
      },
      "execution_count": null,
      "outputs": [
        {
          "output_type": "stream",
          "name": "stdout",
          "text": [
            "['__add__', '__class__', '__contains__', '__delattr__', '__delitem__', '__dir__', '__doc__', '__eq__', '__format__', '__ge__', '__getattribute__', '__getitem__', '__gt__', '__hash__', '__iadd__', '__imul__', '__init__', '__init_subclass__', '__iter__', '__le__', '__len__', '__lt__', '__mul__', '__ne__', '__new__', '__reduce__', '__reduce_ex__', '__repr__', '__reversed__', '__rmul__', '__setattr__', '__setitem__', '__sizeof__', '__str__', '__subclasshook__', 'append', 'clear', 'copy', 'count', 'extend', 'index', 'insert', 'pop', 'remove', 'reverse', 'sort']\n",
            "['__class__', '__contains__', '__delattr__', '__delitem__', '__dir__', '__doc__', '__eq__', '__format__', '__ge__', '__getattribute__', '__getitem__', '__gt__', '__hash__', '__init__', '__init_subclass__', '__iter__', '__le__', '__len__', '__lt__', '__ne__', '__new__', '__reduce__', '__reduce_ex__', '__repr__', '__setattr__', '__setitem__', '__sizeof__', '__str__', '__subclasshook__', 'clear', 'copy', 'fromkeys', 'get', 'items', 'keys', 'pop', 'popitem', 'setdefault', 'update', 'values']\n"
          ]
        }
      ]
    },
    {
      "cell_type": "code",
      "source": [
        "# divmod - 몫과 나머지\n",
        "print(divmod(10, 3))\n",
        "print(divmod(11, 3))"
      ],
      "metadata": {
        "id": "or_YYA_Y3a7r",
        "colab": {
          "base_uri": "https://localhost:8080/"
        },
        "outputId": "a4efdd56-ca84-4ca3-a19e-703a2c17615e"
      },
      "execution_count": null,
      "outputs": [
        {
          "output_type": "stream",
          "name": "stdout",
          "text": [
            "(3, 1)\n",
            "(3, 2)\n"
          ]
        }
      ]
    },
    {
      "cell_type": "code",
      "source": [
        "# enumerate - 인덱스와 엘리먼트\n",
        "lst = ['first', 'second', 'third']\n",
        "for element in lst:\n",
        "  print(element)\n",
        "\n",
        "print('\\n===\\n')\n",
        "\n",
        "for i, element in enumerate(lst):\n",
        "  print(i, element)"
      ],
      "metadata": {
        "id": "F2ilpzuX3a-c",
        "colab": {
          "base_uri": "https://localhost:8080/"
        },
        "outputId": "cb7994f7-66f4-431d-98cf-3a3948373182"
      },
      "execution_count": null,
      "outputs": [
        {
          "output_type": "stream",
          "name": "stdout",
          "text": [
            "first\n",
            "second\n",
            "third\n",
            "\n",
            "===\n",
            "\n",
            "0 first\n",
            "1 second\n",
            "2 third\n"
          ]
        }
      ]
    },
    {
      "cell_type": "code",
      "source": [
        "# list, int, float, str\n",
        "L = list('hello world') # 각각 원소로\n",
        "S = str(123)\n",
        "I = int('123')\n",
        "F = float('123')\n",
        "B1 = bool('123')\n",
        "B2 = bool('')\n",
        "\n",
        "print(L)\n",
        "print(S)\n",
        "print(I)\n",
        "print(F)\n",
        "print(B1)\n",
        "print(B2)"
      ],
      "metadata": {
        "id": "H0oYfifs3bA9",
        "colab": {
          "base_uri": "https://localhost:8080/"
        },
        "outputId": "8fe1532b-4bf7-4276-e268-f90eb6eb0d40"
      },
      "execution_count": null,
      "outputs": [
        {
          "output_type": "stream",
          "name": "stdout",
          "text": [
            "['h', 'e', 'l', 'l', 'o', ' ', 'w', 'o', 'r', 'l', 'd']\n",
            "123\n",
            "123\n",
            "123.0\n",
            "True\n",
            "False\n"
          ]
        }
      ]
    },
    {
      "cell_type": "code",
      "source": [
        "# len\n",
        "L = range(10) # 0부터 9까지\n",
        "print(list(L))\n",
        "print(len(L))"
      ],
      "metadata": {
        "id": "oZTdlMFF4ArX",
        "colab": {
          "base_uri": "https://localhost:8080/"
        },
        "outputId": "c6929e0a-489e-440d-d268-03bcf5168063"
      },
      "execution_count": null,
      "outputs": [
        {
          "output_type": "stream",
          "name": "stdout",
          "text": [
            "[0, 1, 2, 3, 4, 5, 6, 7, 8, 9]\n",
            "10\n"
          ]
        }
      ]
    },
    {
      "cell_type": "code",
      "source": [
        "# max, min, sum \n",
        "A = 5\n",
        "print(max([1,A,3,4]))\n",
        "print(max(['a','b','c','d']))\n",
        "\n",
        "print(min([1,A,3,4]))\n",
        "print(min(['a','b','c','d']))\n",
        "\n",
        "print(sum([1,A,3,4]))\n"
      ],
      "metadata": {
        "id": "3-2RG4-f4ApG",
        "colab": {
          "base_uri": "https://localhost:8080/"
        },
        "outputId": "63e01a93-f430-4f27-9fc7-573d78c6d08b"
      },
      "execution_count": null,
      "outputs": [
        {
          "output_type": "stream",
          "name": "stdout",
          "text": [
            "5\n",
            "d\n",
            "1\n",
            "a\n",
            "13\n"
          ]
        }
      ]
    },
    {
      "cell_type": "code",
      "source": [
        "# sorted\n",
        "print(sorted([3,1,4,2]))\n",
        "print(sorted([3,1,4,2], reverse=True))\n",
        "print(sorted(['b','c','a','d'])) # 숫자가 섞여있으면 에러\n",
        "print(sorted(['b','c','a','d'], reverse=True))"
      ],
      "metadata": {
        "id": "fKMKW-wB4Amb",
        "colab": {
          "base_uri": "https://localhost:8080/"
        },
        "outputId": "c17e812d-db42-46c2-9f01-b0d5d6076057"
      },
      "execution_count": null,
      "outputs": [
        {
          "output_type": "stream",
          "name": "stdout",
          "text": [
            "[1, 2, 3, 4]\n",
            "[4, 3, 2, 1]\n",
            "['a', 'b', 'c', 'd']\n",
            "['d', 'c', 'b', 'a']\n"
          ]
        }
      ]
    },
    {
      "cell_type": "markdown",
      "source": [
        "## Exercises\n",
        "\n"
      ],
      "metadata": {
        "id": "6kY4rs_wJ5id"
      }
    },
    {
      "cell_type": "markdown",
      "source": [
        "### E-1\n",
        "\n",
        "현재 디렉토리에 `cal_mod.py` 모듈을 만들어 덧셈, 뺄셈, factorial 함수인 add(), sub(), factorial()을 만들고, import를 사용해 결과를 확인하세요. 아래와 같이 실행할 수 있어야 합니다.\n",
        "\n",
        "실행 결과:\n",
        "```\n",
        "14\n",
        "6\n",
        "24\n",
        "```"
      ],
      "metadata": {
        "id": "KJyDv-hOK10b"
      }
    },
    {
      "cell_type": "code",
      "source": [
        "# import your module!\n",
        "import cal_mod import *\n",
        "\n",
        "# test your code \n",
        "print(add(10,4))\n",
        "print(sub(10,4))\n",
        "print(factorial(4))"
      ],
      "metadata": {
        "id": "997V_oEnK1oW",
        "colab": {
          "base_uri": "https://localhost:8080/",
          "height": 136
        },
        "outputId": "ed9e4cca-eaab-4438-ffd3-ad8d51a6597a"
      },
      "execution_count": null,
      "outputs": [
        {
          "output_type": "error",
          "ename": "SyntaxError",
          "evalue": "ignored",
          "traceback": [
            "\u001b[0;36m  File \u001b[0;32m\"<ipython-input-37-2b285ebb2c58>\"\u001b[0;36m, line \u001b[0;32m2\u001b[0m\n\u001b[0;31m    import cal_mod import *\u001b[0m\n\u001b[0m                        ^\u001b[0m\n\u001b[0;31mSyntaxError\u001b[0m\u001b[0;31m:\u001b[0m invalid syntax\n"
          ]
        }
      ]
    },
    {
      "cell_type": "markdown",
      "source": [
        "### E-2\n",
        "\n",
        "`random` 모듈을 사용하여 1과 20 사이의 랜덤한 숫자 5개를 만들어 list `rand_list`를 만들어 출력해보고, 순서를 무작위로 섞은 후 다시 출력해보세요.\n",
        "- `randint()`와 `shuffle()`함수를 사용할 수 있습니다. \n",
        "- [`random`](https://docs.python.org/ko/3/library/random.html#) 모듈 페이지를 참고하세요.\n",
        "\n",
        "실행 결과:\n",
        "```\n",
        "Random list:  [7, 14, 10, 17, 18]\n",
        "After shuffle:  [7, 17, 10, 18, 14]\n",
        "```"
      ],
      "metadata": {
        "id": "BPOs0xQ0L9D3"
      }
    },
    {
      "cell_type": "code",
      "source": [
        "# your code here\n",
        "import random\n",
        "\n",
        "rand_list = []\n",
        "for i in range(5):\n",
        "  rand_list.append(random.randint(1,20))\n",
        "\n",
        "print('Random list: ', rand_list)\n",
        "\n",
        "random.shuffle(rand_list)\n",
        "print('After shuffle: ', rand_list )\n",
        "\n",
        "\n",
        "\n"
      ],
      "metadata": {
        "id": "g-2nmWc1L84C",
        "colab": {
          "base_uri": "https://localhost:8080/"
        },
        "outputId": "9d2cb9ee-0981-4c2d-ca4a-12174278ce5a"
      },
      "execution_count": null,
      "outputs": [
        {
          "output_type": "stream",
          "name": "stdout",
          "text": [
            "Random list:  [1, 17, 10, 6, 12]\n",
            "After shuffle:  [6, 1, 12, 10, 17]\n"
          ]
        }
      ]
    },
    {
      "cell_type": "markdown",
      "source": [
        "### E-3\n",
        "\n",
        "주어진 리스트에서 \b짝수인 경우 오름차순으로 정렬하고, 홀수인 경우 내림차순으로 정렬하여 하나의 리스트를 만들어보세요. 오름차순 정렬된 짝수 먼저 위치한 후 내림차순 정렬된 홀수가 나타납니다.\n",
        "\n",
        "\n",
        "실행 결과:\n",
        "```\n",
        "[6, 12, 32, 56, 58, 64, 89, 77, 33, 27]\n",
        "```"
      ],
      "metadata": {
        "id": "cKWYRZ_rNnEV"
      }
    },
    {
      "cell_type": "code",
      "source": [
        "list_A = [32, 56, 77, 33, 64, 89, 12, 58, 6, 27]\n",
        "\n",
        "# your code here\n",
        "list_B = []\n",
        "list_C = []\n",
        "\n",
        "for i in list_A:\n",
        "  if i % 2 ==0:\n",
        "    list_B.append(i)\n",
        "  else:\n",
        "    list_C.append(i)\n",
        "\n",
        "print(list_B, list_C)\n",
        "\n",
        "# list comprehension\n",
        "# list_B = [i for i in list_A if i%2 == 0]\n",
        "# list_C = [i for i in list_A if i%2 ==1]\n",
        "\n",
        "print(sorted(list_B) + sorted(list_C, reverse = True))  # + 에 주목\n"
      ],
      "metadata": {
        "id": "PoqBk8t6L81K",
        "colab": {
          "base_uri": "https://localhost:8080/"
        },
        "outputId": "b110bdfb-f72b-4d27-8e59-ae47f2cd1097"
      },
      "execution_count": null,
      "outputs": [
        {
          "output_type": "stream",
          "name": "stdout",
          "text": [
            "[32, 56, 64, 12, 58, 6] [77, 33, 89, 27]\n",
            "[6, 12, 32, 56, 58, 64, 89, 77, 33, 27]\n"
          ]
        }
      ]
    }
  ]
}