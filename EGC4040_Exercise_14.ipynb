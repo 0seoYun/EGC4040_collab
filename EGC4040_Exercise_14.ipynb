{
  "nbformat": 4,
  "nbformat_minor": 0,
  "metadata": {
    "colab": {
      "name": "EGC4040_Exercise_14.ipynb",
      "provenance": [],
      "collapsed_sections": [],
      "toc_visible": true,
      "include_colab_link": true
    },
    "kernelspec": {
      "name": "python3",
      "display_name": "Python 3"
    },
    "language_info": {
      "name": "python"
    }
  },
  "cells": [
    {
      "cell_type": "markdown",
      "metadata": {
        "id": "view-in-github",
        "colab_type": "text"
      },
      "source": [
        "<a href=\"https://colab.research.google.com/github/0seoYun/EGC4040_collab/blob/main/EGC4040_Exercise_14.ipynb\" target=\"_parent\"><img src=\"https://colab.research.google.com/assets/colab-badge.svg\" alt=\"Open In Colab\"/></a>"
      ]
    },
    {
      "cell_type": "markdown",
      "source": [
        "# EGC4040-05 Exercise 14\n",
        "\n",
        "**This exercise notebook will go through the \"Libraries\" in Python:**\n",
        "\n",
        "* NumPy\n",
        "* Pandas\n"
      ],
      "metadata": {
        "id": "ceuQWqNoiIBo"
      }
    },
    {
      "cell_type": "markdown",
      "source": [
        "## NumPy\n",
        "\n",
        "- A Python package for scientific computing with Python\n",
        "- [NumP\by](https://numpy.org/)"
      ],
      "metadata": {
        "id": "HwMhfdwE3JDZ"
      }
    },
    {
      "cell_type": "code",
      "source": [
        "import numpy as np"
      ],
      "metadata": {
        "id": "Q6fgTP3InABG"
      },
      "execution_count": null,
      "outputs": []
    },
    {
      "cell_type": "code",
      "source": [
        "# array\n",
        "list_1 = [1,2,3,4,5]\n",
        "arr1 = np.array(list_1)\n",
        "arr2 = np.array([1,2,3,4,5])\n",
        "\n",
        "print(arr1)\n",
        "print(type(arr1))\n",
        "\n",
        "print(arr2)\n",
        "print(type(arr2))"
      ],
      "metadata": {
        "id": "Dbk5jeGem_7J",
        "colab": {
          "base_uri": "https://localhost:8080/"
        },
        "outputId": "318b505d-c41b-485e-cb81-e36761ec4306"
      },
      "execution_count": null,
      "outputs": [
        {
          "output_type": "stream",
          "name": "stdout",
          "text": [
            "[1 2 3 4 5]\n",
            "<class 'numpy.ndarray'>\n",
            "[1 2 3 4 5]\n",
            "<class 'numpy.ndarray'>\n"
          ]
        }
      ]
    },
    {
      "cell_type": "code",
      "source": [
        "# dtype\n",
        "farr = np.array([1.0, 1.1, 1.2, 1.3, 1.4])\n",
        "iarr = np.array([1, 2, 3, 4, 5], # dytpe = float가능)\n",
        "sarr = np.array(['one', 'two', 'three', 'four', 'five'])\n",
        "\n",
        "print(farr.dtype)\n",
        "print(farr)\n",
        "\n",
        "print(iarr.dtype)\n",
        "print(iarr)\n",
        "\n",
        "print(sarr.dtype)\n",
        "print(sarr)"
      ],
      "metadata": {
        "id": "VFHCibEbBT-q",
        "colab": {
          "base_uri": "https://localhost:8080/"
        },
        "outputId": "40460fd7-7bd1-4f63-a557-1bc19eb9ebcb"
      },
      "execution_count": null,
      "outputs": [
        {
          "output_type": "stream",
          "name": "stdout",
          "text": [
            "float64\n",
            "[1.  1.1 1.2 1.3 1.4]\n",
            "int64\n",
            "[1 2 3 4 5]\n",
            "<U5\n",
            "['one' 'two' 'three' 'four' 'five']\n"
          ]
        }
      ]
    },
    {
      "cell_type": "code",
      "source": [
        "# shape\n",
        "arr_1d = np.array([1,2,3,4,5])\n",
        "arr_2d = np.array([[1,2,3,4,5], [6,7,8,9,10]])\n",
        "\n",
        "print(arr_1d)\n",
        "print(arr_1d.shape)\n",
        "\n",
        "print(arr_2d)\n",
        "print(arr_2d.shape)"
      ],
      "metadata": {
        "id": "nCDLyc3nBT70",
        "colab": {
          "base_uri": "https://localhost:8080/"
        },
        "outputId": "d7d1b801-eb13-4645-b14a-b6ccd40aed4f"
      },
      "execution_count": null,
      "outputs": [
        {
          "output_type": "stream",
          "name": "stdout",
          "text": [
            "[1 2 3 4 5]\n",
            "(5,)\n",
            "[[ 1  2  3  4  5]\n",
            " [ 6  7  8  9 10]]\n",
            "(2, 5)\n"
          ]
        }
      ]
    },
    {
      "cell_type": "code",
      "source": [
        "# zeros\n",
        "zero_arr = np.zeros(5)\n",
        "print(zero_arr)\n",
        "\n",
        "zero_2d_arr = np.zeros((3,5))\n",
        "print(zero_2d_arr)"
      ],
      "metadata": {
        "id": "vmh6YqM7BT4u",
        "colab": {
          "base_uri": "https://localhost:8080/"
        },
        "outputId": "9f9c88f5-7c76-4890-892a-06402fde6680"
      },
      "execution_count": null,
      "outputs": [
        {
          "output_type": "stream",
          "name": "stdout",
          "text": [
            "[0. 0. 0. 0. 0.]\n",
            "[[0. 0. 0. 0. 0.]\n",
            " [0. 0. 0. 0. 0.]\n",
            " [0. 0. 0. 0. 0.]]\n"
          ]
        }
      ]
    },
    {
      "cell_type": "code",
      "source": [
        "# ones\n",
        "one_arr = np.ones(5)\n",
        "print(one_arr)\n",
        "\n",
        "one_2d_arr = np.ones((3,5))\n",
        "print(one_2d_arr)"
      ],
      "metadata": {
        "id": "z8pAQ7b-CDhv",
        "colab": {
          "base_uri": "https://localhost:8080/"
        },
        "outputId": "b5634903-6250-47e4-b3c5-889031f070c0"
      },
      "execution_count": null,
      "outputs": [
        {
          "output_type": "stream",
          "name": "stdout",
          "text": [
            "[1. 1. 1. 1. 1.]\n",
            "[[1. 1. 1. 1. 1.]\n",
            " [1. 1. 1. 1. 1.]\n",
            " [1. 1. 1. 1. 1.]]\n"
          ]
        }
      ]
    },
    {
      "cell_type": "code",
      "source": [
        "# arange\n",
        "arr_1 = np.arange(6)\n",
        "print(arr_1)\n",
        "\n",
        "arr_2 = np.arange(1,6)\n",
        "print(arr_2)\n",
        "\n",
        "arr_3 = np.arange(1,6,2)\n",
        "print(arr_3)"
      ],
      "metadata": {
        "id": "KkmAb0CvCDfc",
        "colab": {
          "base_uri": "https://localhost:8080/"
        },
        "outputId": "e5929315-dce7-45df-fa46-65a0203caf2d"
      },
      "execution_count": null,
      "outputs": [
        {
          "output_type": "stream",
          "name": "stdout",
          "text": [
            "[0 1 2 3 4 5]\n",
            "[1 2 3 4 5]\n",
            "[1 3 5]\n"
          ]
        }
      ]
    },
    {
      "cell_type": "code",
      "source": [
        "arr_1 = np.random.randint(1,6, size=(2,3))\n",
        "print(arr_1)"
      ],
      "metadata": {
        "colab": {
          "base_uri": "https://localhost:8080/"
        },
        "id": "XGKayn6szout",
        "outputId": "1a3dbeef-5dc9-42d3-f821-5153ba900312"
      },
      "execution_count": null,
      "outputs": [
        {
          "output_type": "stream",
          "name": "stdout",
          "text": [
            "[[3 1 1]\n",
            " [4 1 4]]\n"
          ]
        }
      ]
    },
    {
      "cell_type": "code",
      "source": [
        "# +, -, *, / 사칙연산\n",
        "arr_1 = np.array([1,2,3,4,5])\n",
        "arr_2 = np.array([6,7,8,9,10])\n",
        "\n",
        "add_arr = arr_1 + arr_2\n",
        "print(add_arr)\n",
        "\n",
        "sub_arr = arr_2 - arr_1\n",
        "print(sub_arr)\n",
        "\n",
        "print('===')\n",
        "\n",
        "mult_arr = arr_1 * arr_2\n",
        "print(mult_arr)\n",
        "\n",
        "div_arr = arr_1 / arr_2\n",
        "print(div_arr)"
      ],
      "metadata": {
        "id": "BnU0rJFSCePd",
        "colab": {
          "base_uri": "https://localhost:8080/"
        },
        "outputId": "a0e6452a-c56f-442b-c775-e14e6c439027"
      },
      "execution_count": null,
      "outputs": [
        {
          "output_type": "stream",
          "name": "stdout",
          "text": [
            "[ 7  9 11 13 15]\n",
            "[5 5 5 5 5]\n",
            "===\n",
            "[ 6 14 24 36 50]\n",
            "[0.16666667 0.28571429 0.375      0.44444444 0.5       ]\n"
          ]
        }
      ]
    },
    {
      "cell_type": "code",
      "source": [
        "# array and scalar\n",
        "arr = np.array([1,2,3,4,5])\n",
        "add_arr = arr + 1\n",
        "mult_arr = arr * 2\n",
        "pow_arr = arr ** 2\n",
        "\n",
        "print(add_arr)\n",
        "print(mult_arr)\n",
        "print(pow_arr)"
      ],
      "metadata": {
        "id": "T9dBP_GXCeNA",
        "colab": {
          "base_uri": "https://localhost:8080/"
        },
        "outputId": "25857ffd-51d9-4ff6-da56-ed372d841844"
      },
      "execution_count": null,
      "outputs": [
        {
          "output_type": "stream",
          "name": "stdout",
          "text": [
            "[2 3 4 5 6]\n",
            "[ 2  4  6  8 10]\n",
            "[ 1  4  9 16 25]\n"
          ]
        }
      ]
    },
    {
      "cell_type": "code",
      "source": [
        "# indexing, slicing \n",
        "arr_1d = np.arange(10)\n",
        "print(arr_1d)\n",
        "\n",
        "print(arr_1d[3])\n",
        "print(arr_1d[1:4])\n",
        "\n",
        "arr_2d = np.array([[1,2,3], [4,5,6], [7,8,9]])\n",
        "print(arr_2d) \n",
        "print(arr_2d[2,1])\n",
        "print(arr_2d[2,:])\n",
        "print(arr_2d[:,2])"
      ],
      "metadata": {
        "id": "Vx3jPuRPCeKY",
        "colab": {
          "base_uri": "https://localhost:8080/"
        },
        "outputId": "9dabe870-429e-4a8e-c4f5-df9864ac0709"
      },
      "execution_count": null,
      "outputs": [
        {
          "output_type": "stream",
          "name": "stdout",
          "text": [
            "[0 1 2 3 4 5 6 7 8 9]\n",
            "3\n",
            "[1 2 3]\n",
            "[[1 2 3]\n",
            " [4 5 6]\n",
            " [7 8 9]]\n",
            "8\n",
            "[7 8 9]\n",
            "[3 6 9]\n"
          ]
        }
      ]
    },
    {
      "cell_type": "code",
      "source": [
        "# masking \n",
        "name_arr = np.array(['Lee', 'Kim', 'Park', 'Cho', 'Kwon', 'Choi'])\n",
        "score_arr = np.array([[100,50,60], [90,95,88], [75,30,20], [60,70,80], [10,88,39], [60,67,80]])\n",
        "print(name_arr)\n",
        "print(score_arr)\n",
        "\n",
        "print('===')\n",
        "\n",
        "print(score_arr[:,0]) # : 은 전체를 의미함\n",
        "\n",
        "# 국어 성적 80점 이상만 출력\n",
        "mask = (score_arr[:, 0] > 80)\n",
        "print(mask)\n",
        "print(name_arr[mask])"
      ],
      "metadata": {
        "id": "QZgSq7kIDYzZ",
        "colab": {
          "base_uri": "https://localhost:8080/"
        },
        "outputId": "3b65fe65-5673-4d43-f684-9cced424483d"
      },
      "execution_count": null,
      "outputs": [
        {
          "output_type": "stream",
          "name": "stdout",
          "text": [
            "['Lee' 'Kim' 'Park' 'Cho' 'Kwon' 'Choi']\n",
            "[[100  50  60]\n",
            " [ 90  95  88]\n",
            " [ 75  30  20]\n",
            " [ 60  70  80]\n",
            " [ 10  88  39]\n",
            " [ 60  67  80]]\n",
            "===\n",
            "[100  90  75  60  10  60]\n",
            "[ True  True False False False False]\n",
            "['Lee' 'Kim']\n"
          ]
        }
      ]
    },
    {
      "cell_type": "code",
      "source": [
        "# 수학 성적 masking - 교집합\n",
        "print(score_arr[:,-1])\n",
        "mask1 = score_arr[:,-1] >= 30\n",
        "mask2 = score_arr[:,-1] <= 70\n",
        "print(mask1)\n",
        "print(mask2)\n",
        "mask = mask1 & mask2\n",
        "print(mask)\n",
        "print(name_arr[mask])"
      ],
      "metadata": {
        "colab": {
          "base_uri": "https://localhost:8080/"
        },
        "id": "iEen0IfZ4jZG",
        "outputId": "c510685e-77de-4184-9552-0dfe9ff012df"
      },
      "execution_count": null,
      "outputs": [
        {
          "output_type": "stream",
          "name": "stdout",
          "text": [
            "[60 88 20 80 39 80]\n",
            "[ True  True False  True  True  True]\n",
            "[ True False  True False  True False]\n",
            "[ True False False False  True False]\n",
            "['Lee' 'Kwon']\n"
          ]
        }
      ]
    },
    {
      "cell_type": "code",
      "source": [
        "# abs, sign\n",
        "arr_1 = np.array([-2, -1, 0, 1, 2])\n",
        "print(np.abs(arr_1))\n",
        "\n",
        "arr_2 = np.array([-10, 1, -1, 0])\n",
        "print(np.sign(arr_2))"
      ],
      "metadata": {
        "id": "w7zr9OH1DYv4",
        "colab": {
          "base_uri": "https://localhost:8080/"
        },
        "outputId": "ad09a11f-9f93-44e6-8197-5f921ddee8f9"
      },
      "execution_count": null,
      "outputs": [
        {
          "output_type": "stream",
          "name": "stdout",
          "text": [
            "[2 1 0 1 2]\n",
            "[-1  1 -1  0]\n"
          ]
        }
      ]
    },
    {
      "cell_type": "code",
      "source": [
        "# sqrt, square\n",
        "arr_3 = np.array([1,4,9,16,25])\n",
        "print(np.sqrt(arr_3))\n",
        "\n",
        "arr_4 = np.array([1,2,3,4,5])\n",
        "print(np.square(arr_4))"
      ],
      "metadata": {
        "id": "AFKziwD6CeH2",
        "colab": {
          "base_uri": "https://localhost:8080/"
        },
        "outputId": "63ab6656-a398-41e5-9eb1-2df3d085af3b"
      },
      "execution_count": null,
      "outputs": [
        {
          "output_type": "stream",
          "name": "stdout",
          "text": [
            "[1. 2. 3. 4. 5.]\n",
            "[ 1  4  9 16 25]\n"
          ]
        }
      ]
    },
    {
      "cell_type": "code",
      "source": [
        "# exp, log n\n",
        "arr_5 = np.array([1,2,3,4,5])\n",
        "print(np.exp(arr_5))\n",
        "\n",
        "arr_6 = np.array([1,2,3,4,5])\n",
        "print(np.log2(arr_6))"
      ],
      "metadata": {
        "id": "o7JStt-5EYvU",
        "colab": {
          "base_uri": "https://localhost:8080/"
        },
        "outputId": "f784c8c4-5430-49dd-a7b6-8976f8bff598"
      },
      "execution_count": null,
      "outputs": [
        {
          "output_type": "stream",
          "name": "stdout",
          "text": [
            "[  2.71828183   7.3890561   20.08553692  54.59815003 148.4131591 ]\n",
            "[0.         1.         1.5849625  2.         2.32192809]\n"
          ]
        }
      ]
    },
    {
      "cell_type": "code",
      "source": [
        "# sin, cos, tan\n",
        "arr_7 = np.array([3.14, 1.57, 0, -3.14])\n",
        "print(np.cos(arr_7))"
      ],
      "metadata": {
        "id": "QJoD41ZSEYs-",
        "colab": {
          "base_uri": "https://localhost:8080/"
        },
        "outputId": "1b9f91fd-c110-404e-d7f5-707612172f47"
      },
      "execution_count": null,
      "outputs": [
        {
          "output_type": "stream",
          "name": "stdout",
          "text": [
            "[-9.99998732e-01  7.96326711e-04  1.00000000e+00 -9.99998732e-01]\n"
          ]
        }
      ]
    },
    {
      "cell_type": "code",
      "source": [
        "# sum, mean, std, var\n",
        "arr = np.array([[1,2,3], [4,5,6], [7,8,9], [10,11,12]])\n",
        "print(arr)\n",
        "\n",
        "print(np.sum(arr))\n",
        "print(np.sum(arr, axis=0))\n",
        "print(np.sum(arr, axis=1))"
      ],
      "metadata": {
        "id": "jYbIASyCEYp5",
        "colab": {
          "base_uri": "https://localhost:8080/"
        },
        "outputId": "ddd10e0b-7a2e-4ceb-8488-2de3062a5569"
      },
      "execution_count": null,
      "outputs": [
        {
          "output_type": "stream",
          "name": "stdout",
          "text": [
            "[[ 1  2  3]\n",
            " [ 4  5  6]\n",
            " [ 7  8  9]\n",
            " [10 11 12]]\n",
            "78\n",
            "[22 26 30]\n",
            "[ 6 15 24 33]\n"
          ]
        }
      ]
    },
    {
      "cell_type": "code",
      "source": [
        "# sum, mean, std, var\n",
        "arr = np.array([[1,2,3], [4,5,6], [7,8,9]])\n",
        "print(arr)\n",
        "\n",
        "print(np.mean(arr))\n",
        "print(np.mean(arr, axis=0))\n",
        "print(np.mean(arr, axis=1))\n",
        "\n",
        "print(np.std(arr))\n",
        "print(np.var(arr))"
      ],
      "metadata": {
        "id": "Eum7wGClEYnF",
        "colab": {
          "base_uri": "https://localhost:8080/"
        },
        "outputId": "6d9b4c8f-a378-4fbf-d840-101d976e7019"
      },
      "execution_count": null,
      "outputs": [
        {
          "output_type": "stream",
          "name": "stdout",
          "text": [
            "[[1 2 3]\n",
            " [4 5 6]\n",
            " [7 8 9]]\n",
            "5.0\n",
            "[4. 5. 6.]\n",
            "[2. 5. 8.]\n",
            "2.581988897471611\n",
            "6.666666666666667\n"
          ]
        }
      ]
    },
    {
      "cell_type": "code",
      "source": [
        "# min, max, argmin, argmax\n",
        "arr = np.array([[1,2,3], [4,5,6], [7,8,9]])\n",
        "print(arr)\n",
        "\n",
        "print(np.min(arr))\n",
        "print(np.max(arr))\n",
        "\n",
        "print(np.argmin(arr))\n",
        "print(np.argmax(arr))"
      ],
      "metadata": {
        "id": "DylfT7j7CDdE",
        "colab": {
          "base_uri": "https://localhost:8080/"
        },
        "outputId": "f7260150-89dc-41e2-d007-f86dcc1463cf"
      },
      "execution_count": null,
      "outputs": [
        {
          "output_type": "stream",
          "name": "stdout",
          "text": [
            "[[1 2 3]\n",
            " [4 5 6]\n",
            " [7 8 9]]\n",
            "1\n",
            "9\n",
            "0\n",
            "8\n"
          ]
        }
      ]
    },
    {
      "cell_type": "code",
      "source": [
        "# transpose, dot\n",
        "arr_1 = np.array([[1,2,3], [4,5,6], [7,8,9]])\n",
        "arr_2 = np.array([[-1,0,0], [0,1,0], [0,0,-1]])\n",
        "\n",
        "print(arr_1)\n",
        "print(arr_2)\n",
        "\n",
        "print(np.transpose(arr_1))\n",
        "\n",
        "print(arr_1 * arr_2)\n",
        "\n",
        "print(np.dot(arr_1, arr_2))"
      ],
      "metadata": {
        "id": "H9yBTUliFEEO"
      },
      "execution_count": null,
      "outputs": []
    },
    {
      "cell_type": "markdown",
      "source": [
        "## Pandas\n",
        "\n",
        "- A fast, powerful, flexible and easy to use open source data analysis and manipulation tool\n",
        "- [Pandas](https://pandas.pydata.org/)"
      ],
      "metadata": {
        "id": "6bKs-HCXHA98"
      }
    },
    {
      "cell_type": "code",
      "source": [
        "import pandas as pd"
      ],
      "metadata": {
        "id": "jzAk6CKiHNA4"
      },
      "execution_count": null,
      "outputs": []
    },
    {
      "cell_type": "code",
      "source": [
        "# series\n",
        "ser = pd.Series([5,6,7,8])\n",
        "print(ser)\n",
        "\n",
        "print(ser.values)\n",
        "print(ser.index)\n",
        "print(ser.dtype)"
      ],
      "metadata": {
        "id": "KLdbv4s9HQnq",
        "colab": {
          "base_uri": "https://localhost:8080/"
        },
        "outputId": "8dcaae91-2374-4821-cfd9-c61dc5aaf441"
      },
      "execution_count": null,
      "outputs": [
        {
          "output_type": "stream",
          "name": "stdout",
          "text": [
            "0    5\n",
            "1    6\n",
            "2    7\n",
            "3    8\n",
            "dtype: int64\n",
            "[5 6 7 8]\n",
            "RangeIndex(start=0, stop=4, step=1)\n",
            "int64\n"
          ]
        }
      ]
    },
    {
      "cell_type": "code",
      "source": [
        "# series with index\n",
        "ser_char = pd.Series([5,6,7,8], index=['a','b','c','d'])\n",
        "ser_dict = pd.Series({'a':5, 'b':6, 'c':7, 'd':8})\n",
        "print(ser_char)\n",
        "print(ser_dict)\n",
        "\n",
        "ser_char['a']"
      ],
      "metadata": {
        "id": "xubalP9sHafj",
        "colab": {
          "base_uri": "https://localhost:8080/"
        },
        "outputId": "f256669e-6b1b-4eee-947b-308e2ee7861e"
      },
      "execution_count": null,
      "outputs": [
        {
          "output_type": "stream",
          "name": "stdout",
          "text": [
            "a    5\n",
            "b    6\n",
            "c    7\n",
            "d    8\n",
            "dtype: int64\n",
            "a    5\n",
            "b    6\n",
            "c    7\n",
            "d    8\n",
            "dtype: int64\n"
          ]
        },
        {
          "output_type": "execute_result",
          "data": {
            "text/plain": [
              "5"
            ]
          },
          "metadata": {},
          "execution_count": 36
        }
      ]
    },
    {
      "cell_type": "code",
      "source": [
        "# index label, series 이름\n",
        "ser = pd.Series([5,6,7,8], index=['a','b','c','d'])\n",
        "ser.index.name = 'alp'\n",
        "ser.name = 'example series'\n",
        "print(ser)"
      ],
      "metadata": {
        "id": "NjlqHWgjHoc-",
        "colab": {
          "base_uri": "https://localhost:8080/"
        },
        "outputId": "bcd122c7-b5f6-48e0-a0d8-cab6b10336c8"
      },
      "execution_count": null,
      "outputs": [
        {
          "output_type": "stream",
          "name": "stdout",
          "text": [
            "alp\n",
            "a    5\n",
            "b    6\n",
            "c    7\n",
            "d    8\n",
            "Name: example series, dtype: int64\n"
          ]
        }
      ]
    },
    {
      "cell_type": "code",
      "source": [
        "# DataFrame\n",
        "data = {'LastName': ['Lee', 'Park', 'Lim', 'Choi'], 'FirstName': ['Alice', 'Peter', 'James', 'Bob'], \n",
        "        'Age': [27, 25, 26, 26], 'Score': [100, 80, 85, 90]\n",
        "}\n",
        "\n",
        "df = pd.DataFrame(data)\n",
        "print(df)\n",
        "df"
      ],
      "metadata": {
        "id": "bp4PavwEH7FF",
        "colab": {
          "base_uri": "https://localhost:8080/",
          "height": 266
        },
        "outputId": "9aa2fc68-9ba8-4547-8220-82e764271b5f"
      },
      "execution_count": null,
      "outputs": [
        {
          "output_type": "stream",
          "name": "stdout",
          "text": [
            "  LastName FirstName  Age  Score\n",
            "0      Lee     Alice   27    100\n",
            "1     Park     Peter   25     80\n",
            "2      Lim     James   26     85\n",
            "3     Choi       Bob   26     90\n"
          ]
        },
        {
          "output_type": "execute_result",
          "data": {
            "text/plain": [
              "  LastName FirstName  Age  Score\n",
              "0      Lee     Alice   27    100\n",
              "1     Park     Peter   25     80\n",
              "2      Lim     James   26     85\n",
              "3     Choi       Bob   26     90"
            ],
            "text/html": [
              "\n",
              "  <div id=\"df-81e2f7ce-d24a-41e9-a68f-0fb7dc0c2dff\">\n",
              "    <div class=\"colab-df-container\">\n",
              "      <div>\n",
              "<style scoped>\n",
              "    .dataframe tbody tr th:only-of-type {\n",
              "        vertical-align: middle;\n",
              "    }\n",
              "\n",
              "    .dataframe tbody tr th {\n",
              "        vertical-align: top;\n",
              "    }\n",
              "\n",
              "    .dataframe thead th {\n",
              "        text-align: right;\n",
              "    }\n",
              "</style>\n",
              "<table border=\"1\" class=\"dataframe\">\n",
              "  <thead>\n",
              "    <tr style=\"text-align: right;\">\n",
              "      <th></th>\n",
              "      <th>LastName</th>\n",
              "      <th>FirstName</th>\n",
              "      <th>Age</th>\n",
              "      <th>Score</th>\n",
              "    </tr>\n",
              "  </thead>\n",
              "  <tbody>\n",
              "    <tr>\n",
              "      <th>0</th>\n",
              "      <td>Lee</td>\n",
              "      <td>Alice</td>\n",
              "      <td>27</td>\n",
              "      <td>100</td>\n",
              "    </tr>\n",
              "    <tr>\n",
              "      <th>1</th>\n",
              "      <td>Park</td>\n",
              "      <td>Peter</td>\n",
              "      <td>25</td>\n",
              "      <td>80</td>\n",
              "    </tr>\n",
              "    <tr>\n",
              "      <th>2</th>\n",
              "      <td>Lim</td>\n",
              "      <td>James</td>\n",
              "      <td>26</td>\n",
              "      <td>85</td>\n",
              "    </tr>\n",
              "    <tr>\n",
              "      <th>3</th>\n",
              "      <td>Choi</td>\n",
              "      <td>Bob</td>\n",
              "      <td>26</td>\n",
              "      <td>90</td>\n",
              "    </tr>\n",
              "  </tbody>\n",
              "</table>\n",
              "</div>\n",
              "      <button class=\"colab-df-convert\" onclick=\"convertToInteractive('df-81e2f7ce-d24a-41e9-a68f-0fb7dc0c2dff')\"\n",
              "              title=\"Convert this dataframe to an interactive table.\"\n",
              "              style=\"display:none;\">\n",
              "        \n",
              "  <svg xmlns=\"http://www.w3.org/2000/svg\" height=\"24px\"viewBox=\"0 0 24 24\"\n",
              "       width=\"24px\">\n",
              "    <path d=\"M0 0h24v24H0V0z\" fill=\"none\"/>\n",
              "    <path d=\"M18.56 5.44l.94 2.06.94-2.06 2.06-.94-2.06-.94-.94-2.06-.94 2.06-2.06.94zm-11 1L8.5 8.5l.94-2.06 2.06-.94-2.06-.94L8.5 2.5l-.94 2.06-2.06.94zm10 10l.94 2.06.94-2.06 2.06-.94-2.06-.94-.94-2.06-.94 2.06-2.06.94z\"/><path d=\"M17.41 7.96l-1.37-1.37c-.4-.4-.92-.59-1.43-.59-.52 0-1.04.2-1.43.59L10.3 9.45l-7.72 7.72c-.78.78-.78 2.05 0 2.83L4 21.41c.39.39.9.59 1.41.59.51 0 1.02-.2 1.41-.59l7.78-7.78 2.81-2.81c.8-.78.8-2.07 0-2.86zM5.41 20L4 18.59l7.72-7.72 1.47 1.35L5.41 20z\"/>\n",
              "  </svg>\n",
              "      </button>\n",
              "      \n",
              "  <style>\n",
              "    .colab-df-container {\n",
              "      display:flex;\n",
              "      flex-wrap:wrap;\n",
              "      gap: 12px;\n",
              "    }\n",
              "\n",
              "    .colab-df-convert {\n",
              "      background-color: #E8F0FE;\n",
              "      border: none;\n",
              "      border-radius: 50%;\n",
              "      cursor: pointer;\n",
              "      display: none;\n",
              "      fill: #1967D2;\n",
              "      height: 32px;\n",
              "      padding: 0 0 0 0;\n",
              "      width: 32px;\n",
              "    }\n",
              "\n",
              "    .colab-df-convert:hover {\n",
              "      background-color: #E2EBFA;\n",
              "      box-shadow: 0px 1px 2px rgba(60, 64, 67, 0.3), 0px 1px 3px 1px rgba(60, 64, 67, 0.15);\n",
              "      fill: #174EA6;\n",
              "    }\n",
              "\n",
              "    [theme=dark] .colab-df-convert {\n",
              "      background-color: #3B4455;\n",
              "      fill: #D2E3FC;\n",
              "    }\n",
              "\n",
              "    [theme=dark] .colab-df-convert:hover {\n",
              "      background-color: #434B5C;\n",
              "      box-shadow: 0px 1px 3px 1px rgba(0, 0, 0, 0.15);\n",
              "      filter: drop-shadow(0px 1px 2px rgba(0, 0, 0, 0.3));\n",
              "      fill: #FFFFFF;\n",
              "    }\n",
              "  </style>\n",
              "\n",
              "      <script>\n",
              "        const buttonEl =\n",
              "          document.querySelector('#df-81e2f7ce-d24a-41e9-a68f-0fb7dc0c2dff button.colab-df-convert');\n",
              "        buttonEl.style.display =\n",
              "          google.colab.kernel.accessAllowed ? 'block' : 'none';\n",
              "\n",
              "        async function convertToInteractive(key) {\n",
              "          const element = document.querySelector('#df-81e2f7ce-d24a-41e9-a68f-0fb7dc0c2dff');\n",
              "          const dataTable =\n",
              "            await google.colab.kernel.invokeFunction('convertToInteractive',\n",
              "                                                     [key], {});\n",
              "          if (!dataTable) return;\n",
              "\n",
              "          const docLinkHtml = 'Like what you see? Visit the ' +\n",
              "            '<a target=\"_blank\" href=https://colab.research.google.com/notebooks/data_table.ipynb>data table notebook</a>'\n",
              "            + ' to learn more about interactive tables.';\n",
              "          element.innerHTML = '';\n",
              "          dataTable['output_type'] = 'display_data';\n",
              "          await google.colab.output.renderOutput(dataTable, element);\n",
              "          const docLink = document.createElement('div');\n",
              "          docLink.innerHTML = docLinkHtml;\n",
              "          element.appendChild(docLink);\n",
              "        }\n",
              "      </script>\n",
              "    </div>\n",
              "  </div>\n",
              "  "
            ]
          },
          "metadata": {},
          "execution_count": 38
        }
      ]
    },
    {
      "cell_type": "code",
      "source": [
        "# DataFrame의 index, columns, values\n",
        "data = {'LastName': ['Lee', 'Park', 'Lim', 'Choi'], 'FirstName': ['Alice', 'Peter', 'James', 'Bob'], \n",
        "        'Age': [27, 25, 26, 26], 'Score': [100, 80, 85, 90]\n",
        "}\n",
        "\n",
        "df = pd.DataFrame(data)\n",
        "print(df['Age']) # 세로줄 , 열 , column / 가로줄, 행, row\n",
        "\n",
        "print('===')\n",
        "\n",
        "print(df['Age'][1])\n",
        "\n",
        "print('===')\n",
        "\n",
        "print(df[0:2])"
      ],
      "metadata": {
        "id": "ySlew1gNI0Ep",
        "colab": {
          "base_uri": "https://localhost:8080/"
        },
        "outputId": "f5768d40-7fee-4381-a9db-e66003e0dcbb"
      },
      "execution_count": null,
      "outputs": [
        {
          "output_type": "stream",
          "name": "stdout",
          "text": [
            "0    27\n",
            "1    25\n",
            "2    26\n",
            "3    26\n",
            "Name: Age, dtype: int64\n",
            "===\n",
            "25\n",
            "===\n",
            "  LastName FirstName  Age  Score\n",
            "0      Lee     Alice   27    100\n",
            "1     Park     Peter   25     80\n"
          ]
        }
      ]
    },
    {
      "cell_type": "code",
      "source": [
        "# DataFrame의 describe = 통계 결과 나타냄\n",
        "\n",
        "data = {'LastName': ['Lee', 'Park', 'Lim', 'Choi'], 'FirstName': ['Alice', 'Peter', 'James', 'Bob'], \n",
        "        'Age': [27, 25, 26, 26], 'Score': [100, 80, 85, 90]\n",
        "}\n",
        "\n",
        "df = pd.DataFrame(data)\n",
        "df.describe()"
      ],
      "metadata": {
        "id": "p6A0g7ZcJLqw",
        "colab": {
          "base_uri": "https://localhost:8080/",
          "height": 300
        },
        "outputId": "a50f027b-6204-4c08-d913-2afe94f7cc4b"
      },
      "execution_count": null,
      "outputs": [
        {
          "output_type": "execute_result",
          "data": {
            "text/plain": [
              "             Age       Score\n",
              "count   4.000000    4.000000\n",
              "mean   26.000000   88.750000\n",
              "std     0.816497    8.539126\n",
              "min    25.000000   80.000000\n",
              "25%    25.750000   83.750000\n",
              "50%    26.000000   87.500000\n",
              "75%    26.250000   92.500000\n",
              "max    27.000000  100.000000"
            ],
            "text/html": [
              "\n",
              "  <div id=\"df-e395905e-fead-4227-9d06-1c2c9643f766\">\n",
              "    <div class=\"colab-df-container\">\n",
              "      <div>\n",
              "<style scoped>\n",
              "    .dataframe tbody tr th:only-of-type {\n",
              "        vertical-align: middle;\n",
              "    }\n",
              "\n",
              "    .dataframe tbody tr th {\n",
              "        vertical-align: top;\n",
              "    }\n",
              "\n",
              "    .dataframe thead th {\n",
              "        text-align: right;\n",
              "    }\n",
              "</style>\n",
              "<table border=\"1\" class=\"dataframe\">\n",
              "  <thead>\n",
              "    <tr style=\"text-align: right;\">\n",
              "      <th></th>\n",
              "      <th>Age</th>\n",
              "      <th>Score</th>\n",
              "    </tr>\n",
              "  </thead>\n",
              "  <tbody>\n",
              "    <tr>\n",
              "      <th>count</th>\n",
              "      <td>4.000000</td>\n",
              "      <td>4.000000</td>\n",
              "    </tr>\n",
              "    <tr>\n",
              "      <th>mean</th>\n",
              "      <td>26.000000</td>\n",
              "      <td>88.750000</td>\n",
              "    </tr>\n",
              "    <tr>\n",
              "      <th>std</th>\n",
              "      <td>0.816497</td>\n",
              "      <td>8.539126</td>\n",
              "    </tr>\n",
              "    <tr>\n",
              "      <th>min</th>\n",
              "      <td>25.000000</td>\n",
              "      <td>80.000000</td>\n",
              "    </tr>\n",
              "    <tr>\n",
              "      <th>25%</th>\n",
              "      <td>25.750000</td>\n",
              "      <td>83.750000</td>\n",
              "    </tr>\n",
              "    <tr>\n",
              "      <th>50%</th>\n",
              "      <td>26.000000</td>\n",
              "      <td>87.500000</td>\n",
              "    </tr>\n",
              "    <tr>\n",
              "      <th>75%</th>\n",
              "      <td>26.250000</td>\n",
              "      <td>92.500000</td>\n",
              "    </tr>\n",
              "    <tr>\n",
              "      <th>max</th>\n",
              "      <td>27.000000</td>\n",
              "      <td>100.000000</td>\n",
              "    </tr>\n",
              "  </tbody>\n",
              "</table>\n",
              "</div>\n",
              "      <button class=\"colab-df-convert\" onclick=\"convertToInteractive('df-e395905e-fead-4227-9d06-1c2c9643f766')\"\n",
              "              title=\"Convert this dataframe to an interactive table.\"\n",
              "              style=\"display:none;\">\n",
              "        \n",
              "  <svg xmlns=\"http://www.w3.org/2000/svg\" height=\"24px\"viewBox=\"0 0 24 24\"\n",
              "       width=\"24px\">\n",
              "    <path d=\"M0 0h24v24H0V0z\" fill=\"none\"/>\n",
              "    <path d=\"M18.56 5.44l.94 2.06.94-2.06 2.06-.94-2.06-.94-.94-2.06-.94 2.06-2.06.94zm-11 1L8.5 8.5l.94-2.06 2.06-.94-2.06-.94L8.5 2.5l-.94 2.06-2.06.94zm10 10l.94 2.06.94-2.06 2.06-.94-2.06-.94-.94-2.06-.94 2.06-2.06.94z\"/><path d=\"M17.41 7.96l-1.37-1.37c-.4-.4-.92-.59-1.43-.59-.52 0-1.04.2-1.43.59L10.3 9.45l-7.72 7.72c-.78.78-.78 2.05 0 2.83L4 21.41c.39.39.9.59 1.41.59.51 0 1.02-.2 1.41-.59l7.78-7.78 2.81-2.81c.8-.78.8-2.07 0-2.86zM5.41 20L4 18.59l7.72-7.72 1.47 1.35L5.41 20z\"/>\n",
              "  </svg>\n",
              "      </button>\n",
              "      \n",
              "  <style>\n",
              "    .colab-df-container {\n",
              "      display:flex;\n",
              "      flex-wrap:wrap;\n",
              "      gap: 12px;\n",
              "    }\n",
              "\n",
              "    .colab-df-convert {\n",
              "      background-color: #E8F0FE;\n",
              "      border: none;\n",
              "      border-radius: 50%;\n",
              "      cursor: pointer;\n",
              "      display: none;\n",
              "      fill: #1967D2;\n",
              "      height: 32px;\n",
              "      padding: 0 0 0 0;\n",
              "      width: 32px;\n",
              "    }\n",
              "\n",
              "    .colab-df-convert:hover {\n",
              "      background-color: #E2EBFA;\n",
              "      box-shadow: 0px 1px 2px rgba(60, 64, 67, 0.3), 0px 1px 3px 1px rgba(60, 64, 67, 0.15);\n",
              "      fill: #174EA6;\n",
              "    }\n",
              "\n",
              "    [theme=dark] .colab-df-convert {\n",
              "      background-color: #3B4455;\n",
              "      fill: #D2E3FC;\n",
              "    }\n",
              "\n",
              "    [theme=dark] .colab-df-convert:hover {\n",
              "      background-color: #434B5C;\n",
              "      box-shadow: 0px 1px 3px 1px rgba(0, 0, 0, 0.15);\n",
              "      filter: drop-shadow(0px 1px 2px rgba(0, 0, 0, 0.3));\n",
              "      fill: #FFFFFF;\n",
              "    }\n",
              "  </style>\n",
              "\n",
              "      <script>\n",
              "        const buttonEl =\n",
              "          document.querySelector('#df-e395905e-fead-4227-9d06-1c2c9643f766 button.colab-df-convert');\n",
              "        buttonEl.style.display =\n",
              "          google.colab.kernel.accessAllowed ? 'block' : 'none';\n",
              "\n",
              "        async function convertToInteractive(key) {\n",
              "          const element = document.querySelector('#df-e395905e-fead-4227-9d06-1c2c9643f766');\n",
              "          const dataTable =\n",
              "            await google.colab.kernel.invokeFunction('convertToInteractive',\n",
              "                                                     [key], {});\n",
              "          if (!dataTable) return;\n",
              "\n",
              "          const docLinkHtml = 'Like what you see? Visit the ' +\n",
              "            '<a target=\"_blank\" href=https://colab.research.google.com/notebooks/data_table.ipynb>data table notebook</a>'\n",
              "            + ' to learn more about interactive tables.';\n",
              "          element.innerHTML = '';\n",
              "          dataTable['output_type'] = 'display_data';\n",
              "          await google.colab.output.renderOutput(dataTable, element);\n",
              "          const docLink = document.createElement('div');\n",
              "          docLink.innerHTML = docLinkHtml;\n",
              "          element.appendChild(docLink);\n",
              "        }\n",
              "      </script>\n",
              "    </div>\n",
              "  </div>\n",
              "  "
            ]
          },
          "metadata": {},
          "execution_count": 42
        }
      ]
    },
    {
      "cell_type": "code",
      "source": [
        "# DataFrame의 describe\n",
        "data = {'LastName': ['Lee', 'Park', 'Lim', 'Choi'], 'FirstName': ['Alice', 'Peter', 'James', 'Bob'], \n",
        "        'Age': [27, 25, 26, 26], 'Score': [100, 80, 85, 90]\n",
        "}\n",
        "\n",
        "df = pd.DataFrame(data)\n",
        "print(df)\n",
        "\n",
        "df.index = ['one', 'two', 'three', 'four']\n",
        "df.columns = ['Lname', 'Fname', 'Age', 'Score']\n",
        "print(df)\n",
        "\n",
        "del df['Age']\n",
        "print(df)"
      ],
      "metadata": {
        "id": "4O4En39fJV7E",
        "colab": {
          "base_uri": "https://localhost:8080/"
        },
        "outputId": "0a0ac0a8-9e62-41e8-c075-532314930355"
      },
      "execution_count": null,
      "outputs": [
        {
          "output_type": "stream",
          "name": "stdout",
          "text": [
            "  LastName FirstName  Age  Score\n",
            "0      Lee     Alice   27    100\n",
            "1     Park     Peter   25     80\n",
            "2      Lim     James   26     85\n",
            "3     Choi       Bob   26     90\n",
            "      Lname  Fname  Age  Score\n",
            "one     Lee  Alice   27    100\n",
            "two    Park  Peter   25     80\n",
            "three   Lim  James   26     85\n",
            "four   Choi    Bob   26     90\n",
            "      Lname  Fname  Score\n",
            "one     Lee  Alice    100\n",
            "two    Park  Peter     80\n",
            "three   Lim  James     85\n",
            "four   Choi    Bob     90\n"
          ]
        }
      ]
    },
    {
      "cell_type": "code",
      "source": [
        "# DataFrame의 describe = 추가 하기\n",
        "df['Grade'] = ['A', 'B', 'B', 'C']\n",
        "print(df)\n",
        "print('-----')\n",
        "ser = pd.Series(['Seoul', 'Daegu'], index=['one','three']) # 없을 땐, NaN\n",
        "df['location'] = ser\n",
        "print(df)"
      ],
      "metadata": {
        "id": "DQyquUDtJgl-",
        "colab": {
          "base_uri": "https://localhost:8080/"
        },
        "outputId": "b1fe2c40-6b39-43b7-9c6b-0560df654571"
      },
      "execution_count": null,
      "outputs": [
        {
          "output_type": "stream",
          "name": "stdout",
          "text": [
            "      Lname  Fname  Score Grade location\n",
            "one     Lee  Alice    100     A    Seoul\n",
            "two    Park  Peter     80     B      NaN\n",
            "three   Lim  James     85     B    Daegu\n",
            "four   Choi    Bob     90     C      NaN\n",
            "-----\n",
            "      Lname  Fname  Score Grade location\n",
            "one     Lee  Alice    100     A    Seoul\n",
            "two    Park  Peter     80     B      NaN\n",
            "three   Lim  James     85     B    Daegu\n",
            "four   Choi    Bob     90     C      NaN\n"
          ]
        }
      ]
    },
    {
      "cell_type": "code",
      "source": [
        "# column 에 접근할 때,\n",
        "print(df)\n",
        "print(df['Lname'])\n",
        "print('======')\n",
        "# row 에 접근할 때, column 처럼 [이름] 불가함\n",
        "print(df.loc['one'])"
      ],
      "metadata": {
        "colab": {
          "base_uri": "https://localhost:8080/"
        },
        "id": "hKXRjFMrEmzs",
        "outputId": "b8dc0060-bebc-4989-f519-4557f0515309"
      },
      "execution_count": null,
      "outputs": [
        {
          "output_type": "stream",
          "name": "stdout",
          "text": [
            "      Lname  Fname  Score Grade location\n",
            "one     Lee  Alice    100     A    Seoul\n",
            "two    Park  Peter     80     B      NaN\n",
            "three   Lim  James     85     B    Daegu\n",
            "four   Choi    Bob     90     C      NaN\n",
            "one       Lee\n",
            "two      Park\n",
            "three     Lim\n",
            "four     Choi\n",
            "Name: Lname, dtype: object\n",
            "======\n",
            "Lname         Lee\n",
            "Fname       Alice\n",
            "Score         100\n",
            "Grade           A\n",
            "location    Seoul\n",
            "Name: one, dtype: object\n"
          ]
        }
      ]
    },
    {
      "cell_type": "code",
      "source": [
        "# DataFrame의 loc \n",
        "print(df)\n",
        "\n",
        "print('====')\n",
        "print(df.loc['two':'three', 'Score']) # 앞에는 1차원, 뒤에는 2차원\n",
        "print('====')\n",
        "\n",
        "mask = df['Score']>= 85\n",
        "print(mask)\n",
        "\n",
        "df.loc[df['Score']>=85, 'Grade'] = 'A' # score 85 이상인 애들의 grade 를 A로 변경\n",
        "print(df)"
      ],
      "metadata": {
        "id": "oa9SWaH2J3N8",
        "colab": {
          "base_uri": "https://localhost:8080/"
        },
        "outputId": "7ff7d291-f00d-45d7-91b3-7e84671b8e60"
      },
      "execution_count": null,
      "outputs": [
        {
          "output_type": "stream",
          "name": "stdout",
          "text": [
            "      Lname  Fname  Score Grade location\n",
            "one     Lee  Alice    100     A    Seoul\n",
            "two    Park  Peter     80     B      NaN\n",
            "three   Lim  James     85     A    Daegu\n",
            "four   Choi    Bob     90     A      NaN\n",
            "====\n",
            "two      80\n",
            "three    85\n",
            "Name: Score, dtype: int64\n",
            "====\n",
            "one       True\n",
            "two      False\n",
            "three     True\n",
            "four      True\n",
            "Name: Score, dtype: bool\n",
            "      Lname  Fname  Score Grade location\n",
            "one     Lee  Alice    100     A    Seoul\n",
            "two    Park  Peter     80     B      NaN\n",
            "three   Lim  James     85     A    Daegu\n",
            "four   Choi    Bob     90     A      NaN\n"
          ]
        }
      ]
    },
    {
      "cell_type": "code",
      "source": [
        "# NaN \n",
        "print(df)\n",
        "\n",
        "print('=====')\n",
        "\n",
        "print(df.isnull())\n",
        "\n",
        "df0 = df.fillna(value = 0)\n",
        "print(df0)\n"
      ],
      "metadata": {
        "id": "DqqLQ8PDKVeI",
        "colab": {
          "base_uri": "https://localhost:8080/"
        },
        "outputId": "39a49aba-f9a5-46b2-f2a7-eebd4b6b2eb8"
      },
      "execution_count": null,
      "outputs": [
        {
          "output_type": "stream",
          "name": "stdout",
          "text": [
            "      Lname  Fname  Score Grade location\n",
            "one     Lee  Alice    100     A    Seoul\n",
            "two    Park  Peter     80     B      NaN\n",
            "three   Lim  James     85     A    Daegu\n",
            "four   Choi    Bob     90     A      NaN\n",
            "=====\n",
            "       Lname  Fname  Score  Grade  location\n",
            "one    False  False  False  False     False\n",
            "two    False  False  False  False      True\n",
            "three  False  False  False  False     False\n",
            "four   False  False  False  False      True\n",
            "      Lname  Fname  Score Grade location\n",
            "one     Lee  Alice    100     A    Seoul\n",
            "two    Park  Peter     80     B        0\n",
            "three   Lim  James     85     A    Daegu\n",
            "four   Choi    Bob     90     A        0\n"
          ]
        }
      ]
    },
    {
      "cell_type": "code",
      "source": [
        "# NaN \n",
        "print(df)\n",
        "\n",
        "print('=====')\n",
        "\n",
        "df.dropna() #df 자체가 변하진 않으므로, 다시 할당해야 바뀜"
      ],
      "metadata": {
        "id": "W8yBRNdJKoYo",
        "colab": {
          "base_uri": "https://localhost:8080/",
          "height": 221
        },
        "outputId": "ebd4d513-f53f-48d7-9fd9-18c931bceb15"
      },
      "execution_count": null,
      "outputs": [
        {
          "output_type": "stream",
          "name": "stdout",
          "text": [
            "      Lname  Fname  Score Grade location\n",
            "one     Lee  Alice    100     A    Seoul\n",
            "two    Park  Peter     80     B      NaN\n",
            "three   Lim  James     85     A    Daegu\n",
            "four   Choi    Bob     90     A      NaN\n",
            "=====\n"
          ]
        },
        {
          "output_type": "execute_result",
          "data": {
            "text/plain": [
              "      Lname  Fname  Score Grade location\n",
              "one     Lee  Alice    100     A    Seoul\n",
              "three   Lim  James     85     A    Daegu"
            ],
            "text/html": [
              "\n",
              "  <div id=\"df-4ce5d901-5e54-4fbd-8c9a-886fe29bfd4c\">\n",
              "    <div class=\"colab-df-container\">\n",
              "      <div>\n",
              "<style scoped>\n",
              "    .dataframe tbody tr th:only-of-type {\n",
              "        vertical-align: middle;\n",
              "    }\n",
              "\n",
              "    .dataframe tbody tr th {\n",
              "        vertical-align: top;\n",
              "    }\n",
              "\n",
              "    .dataframe thead th {\n",
              "        text-align: right;\n",
              "    }\n",
              "</style>\n",
              "<table border=\"1\" class=\"dataframe\">\n",
              "  <thead>\n",
              "    <tr style=\"text-align: right;\">\n",
              "      <th></th>\n",
              "      <th>Lname</th>\n",
              "      <th>Fname</th>\n",
              "      <th>Score</th>\n",
              "      <th>Grade</th>\n",
              "      <th>location</th>\n",
              "    </tr>\n",
              "  </thead>\n",
              "  <tbody>\n",
              "    <tr>\n",
              "      <th>one</th>\n",
              "      <td>Lee</td>\n",
              "      <td>Alice</td>\n",
              "      <td>100</td>\n",
              "      <td>A</td>\n",
              "      <td>Seoul</td>\n",
              "    </tr>\n",
              "    <tr>\n",
              "      <th>three</th>\n",
              "      <td>Lim</td>\n",
              "      <td>James</td>\n",
              "      <td>85</td>\n",
              "      <td>A</td>\n",
              "      <td>Daegu</td>\n",
              "    </tr>\n",
              "  </tbody>\n",
              "</table>\n",
              "</div>\n",
              "      <button class=\"colab-df-convert\" onclick=\"convertToInteractive('df-4ce5d901-5e54-4fbd-8c9a-886fe29bfd4c')\"\n",
              "              title=\"Convert this dataframe to an interactive table.\"\n",
              "              style=\"display:none;\">\n",
              "        \n",
              "  <svg xmlns=\"http://www.w3.org/2000/svg\" height=\"24px\"viewBox=\"0 0 24 24\"\n",
              "       width=\"24px\">\n",
              "    <path d=\"M0 0h24v24H0V0z\" fill=\"none\"/>\n",
              "    <path d=\"M18.56 5.44l.94 2.06.94-2.06 2.06-.94-2.06-.94-.94-2.06-.94 2.06-2.06.94zm-11 1L8.5 8.5l.94-2.06 2.06-.94-2.06-.94L8.5 2.5l-.94 2.06-2.06.94zm10 10l.94 2.06.94-2.06 2.06-.94-2.06-.94-.94-2.06-.94 2.06-2.06.94z\"/><path d=\"M17.41 7.96l-1.37-1.37c-.4-.4-.92-.59-1.43-.59-.52 0-1.04.2-1.43.59L10.3 9.45l-7.72 7.72c-.78.78-.78 2.05 0 2.83L4 21.41c.39.39.9.59 1.41.59.51 0 1.02-.2 1.41-.59l7.78-7.78 2.81-2.81c.8-.78.8-2.07 0-2.86zM5.41 20L4 18.59l7.72-7.72 1.47 1.35L5.41 20z\"/>\n",
              "  </svg>\n",
              "      </button>\n",
              "      \n",
              "  <style>\n",
              "    .colab-df-container {\n",
              "      display:flex;\n",
              "      flex-wrap:wrap;\n",
              "      gap: 12px;\n",
              "    }\n",
              "\n",
              "    .colab-df-convert {\n",
              "      background-color: #E8F0FE;\n",
              "      border: none;\n",
              "      border-radius: 50%;\n",
              "      cursor: pointer;\n",
              "      display: none;\n",
              "      fill: #1967D2;\n",
              "      height: 32px;\n",
              "      padding: 0 0 0 0;\n",
              "      width: 32px;\n",
              "    }\n",
              "\n",
              "    .colab-df-convert:hover {\n",
              "      background-color: #E2EBFA;\n",
              "      box-shadow: 0px 1px 2px rgba(60, 64, 67, 0.3), 0px 1px 3px 1px rgba(60, 64, 67, 0.15);\n",
              "      fill: #174EA6;\n",
              "    }\n",
              "\n",
              "    [theme=dark] .colab-df-convert {\n",
              "      background-color: #3B4455;\n",
              "      fill: #D2E3FC;\n",
              "    }\n",
              "\n",
              "    [theme=dark] .colab-df-convert:hover {\n",
              "      background-color: #434B5C;\n",
              "      box-shadow: 0px 1px 3px 1px rgba(0, 0, 0, 0.15);\n",
              "      filter: drop-shadow(0px 1px 2px rgba(0, 0, 0, 0.3));\n",
              "      fill: #FFFFFF;\n",
              "    }\n",
              "  </style>\n",
              "\n",
              "      <script>\n",
              "        const buttonEl =\n",
              "          document.querySelector('#df-4ce5d901-5e54-4fbd-8c9a-886fe29bfd4c button.colab-df-convert');\n",
              "        buttonEl.style.display =\n",
              "          google.colab.kernel.accessAllowed ? 'block' : 'none';\n",
              "\n",
              "        async function convertToInteractive(key) {\n",
              "          const element = document.querySelector('#df-4ce5d901-5e54-4fbd-8c9a-886fe29bfd4c');\n",
              "          const dataTable =\n",
              "            await google.colab.kernel.invokeFunction('convertToInteractive',\n",
              "                                                     [key], {});\n",
              "          if (!dataTable) return;\n",
              "\n",
              "          const docLinkHtml = 'Like what you see? Visit the ' +\n",
              "            '<a target=\"_blank\" href=https://colab.research.google.com/notebooks/data_table.ipynb>data table notebook</a>'\n",
              "            + ' to learn more about interactive tables.';\n",
              "          element.innerHTML = '';\n",
              "          dataTable['output_type'] = 'display_data';\n",
              "          await google.colab.output.renderOutput(dataTable, element);\n",
              "          const docLink = document.createElement('div');\n",
              "          docLink.innerHTML = docLinkHtml;\n",
              "          element.appendChild(docLink);\n",
              "        }\n",
              "      </script>\n",
              "    </div>\n",
              "  </div>\n",
              "  "
            ]
          },
          "metadata": {},
          "execution_count": 55
        }
      ]
    },
    {
      "cell_type": "code",
      "source": [
        "print(df)\n",
        "df.dropna(how = 'any')"
      ],
      "metadata": {
        "id": "bj3dRSprK_sO",
        "colab": {
          "base_uri": "https://localhost:8080/",
          "height": 203
        },
        "outputId": "a14667f5-1f8d-4d35-cb57-a2015a6f562e"
      },
      "execution_count": null,
      "outputs": [
        {
          "output_type": "stream",
          "name": "stdout",
          "text": [
            "      Lname  Fname  Score Grade location\n",
            "one     Lee  Alice    100     A    Seoul\n",
            "two    Park  Peter     80     B      NaN\n",
            "three   Lim  James     85     A    Daegu\n",
            "four   Choi    Bob     90     A      NaN\n"
          ]
        },
        {
          "output_type": "execute_result",
          "data": {
            "text/plain": [
              "      Lname  Fname  Score Grade location\n",
              "one     Lee  Alice    100     A    Seoul\n",
              "three   Lim  James     85     A    Daegu"
            ],
            "text/html": [
              "\n",
              "  <div id=\"df-07c7377a-a1ca-494e-b018-bb56031f686d\">\n",
              "    <div class=\"colab-df-container\">\n",
              "      <div>\n",
              "<style scoped>\n",
              "    .dataframe tbody tr th:only-of-type {\n",
              "        vertical-align: middle;\n",
              "    }\n",
              "\n",
              "    .dataframe tbody tr th {\n",
              "        vertical-align: top;\n",
              "    }\n",
              "\n",
              "    .dataframe thead th {\n",
              "        text-align: right;\n",
              "    }\n",
              "</style>\n",
              "<table border=\"1\" class=\"dataframe\">\n",
              "  <thead>\n",
              "    <tr style=\"text-align: right;\">\n",
              "      <th></th>\n",
              "      <th>Lname</th>\n",
              "      <th>Fname</th>\n",
              "      <th>Score</th>\n",
              "      <th>Grade</th>\n",
              "      <th>location</th>\n",
              "    </tr>\n",
              "  </thead>\n",
              "  <tbody>\n",
              "    <tr>\n",
              "      <th>one</th>\n",
              "      <td>Lee</td>\n",
              "      <td>Alice</td>\n",
              "      <td>100</td>\n",
              "      <td>A</td>\n",
              "      <td>Seoul</td>\n",
              "    </tr>\n",
              "    <tr>\n",
              "      <th>three</th>\n",
              "      <td>Lim</td>\n",
              "      <td>James</td>\n",
              "      <td>85</td>\n",
              "      <td>A</td>\n",
              "      <td>Daegu</td>\n",
              "    </tr>\n",
              "  </tbody>\n",
              "</table>\n",
              "</div>\n",
              "      <button class=\"colab-df-convert\" onclick=\"convertToInteractive('df-07c7377a-a1ca-494e-b018-bb56031f686d')\"\n",
              "              title=\"Convert this dataframe to an interactive table.\"\n",
              "              style=\"display:none;\">\n",
              "        \n",
              "  <svg xmlns=\"http://www.w3.org/2000/svg\" height=\"24px\"viewBox=\"0 0 24 24\"\n",
              "       width=\"24px\">\n",
              "    <path d=\"M0 0h24v24H0V0z\" fill=\"none\"/>\n",
              "    <path d=\"M18.56 5.44l.94 2.06.94-2.06 2.06-.94-2.06-.94-.94-2.06-.94 2.06-2.06.94zm-11 1L8.5 8.5l.94-2.06 2.06-.94-2.06-.94L8.5 2.5l-.94 2.06-2.06.94zm10 10l.94 2.06.94-2.06 2.06-.94-2.06-.94-.94-2.06-.94 2.06-2.06.94z\"/><path d=\"M17.41 7.96l-1.37-1.37c-.4-.4-.92-.59-1.43-.59-.52 0-1.04.2-1.43.59L10.3 9.45l-7.72 7.72c-.78.78-.78 2.05 0 2.83L4 21.41c.39.39.9.59 1.41.59.51 0 1.02-.2 1.41-.59l7.78-7.78 2.81-2.81c.8-.78.8-2.07 0-2.86zM5.41 20L4 18.59l7.72-7.72 1.47 1.35L5.41 20z\"/>\n",
              "  </svg>\n",
              "      </button>\n",
              "      \n",
              "  <style>\n",
              "    .colab-df-container {\n",
              "      display:flex;\n",
              "      flex-wrap:wrap;\n",
              "      gap: 12px;\n",
              "    }\n",
              "\n",
              "    .colab-df-convert {\n",
              "      background-color: #E8F0FE;\n",
              "      border: none;\n",
              "      border-radius: 50%;\n",
              "      cursor: pointer;\n",
              "      display: none;\n",
              "      fill: #1967D2;\n",
              "      height: 32px;\n",
              "      padding: 0 0 0 0;\n",
              "      width: 32px;\n",
              "    }\n",
              "\n",
              "    .colab-df-convert:hover {\n",
              "      background-color: #E2EBFA;\n",
              "      box-shadow: 0px 1px 2px rgba(60, 64, 67, 0.3), 0px 1px 3px 1px rgba(60, 64, 67, 0.15);\n",
              "      fill: #174EA6;\n",
              "    }\n",
              "\n",
              "    [theme=dark] .colab-df-convert {\n",
              "      background-color: #3B4455;\n",
              "      fill: #D2E3FC;\n",
              "    }\n",
              "\n",
              "    [theme=dark] .colab-df-convert:hover {\n",
              "      background-color: #434B5C;\n",
              "      box-shadow: 0px 1px 3px 1px rgba(0, 0, 0, 0.15);\n",
              "      filter: drop-shadow(0px 1px 2px rgba(0, 0, 0, 0.3));\n",
              "      fill: #FFFFFF;\n",
              "    }\n",
              "  </style>\n",
              "\n",
              "      <script>\n",
              "        const buttonEl =\n",
              "          document.querySelector('#df-07c7377a-a1ca-494e-b018-bb56031f686d button.colab-df-convert');\n",
              "        buttonEl.style.display =\n",
              "          google.colab.kernel.accessAllowed ? 'block' : 'none';\n",
              "\n",
              "        async function convertToInteractive(key) {\n",
              "          const element = document.querySelector('#df-07c7377a-a1ca-494e-b018-bb56031f686d');\n",
              "          const dataTable =\n",
              "            await google.colab.kernel.invokeFunction('convertToInteractive',\n",
              "                                                     [key], {});\n",
              "          if (!dataTable) return;\n",
              "\n",
              "          const docLinkHtml = 'Like what you see? Visit the ' +\n",
              "            '<a target=\"_blank\" href=https://colab.research.google.com/notebooks/data_table.ipynb>data table notebook</a>'\n",
              "            + ' to learn more about interactive tables.';\n",
              "          element.innerHTML = '';\n",
              "          dataTable['output_type'] = 'display_data';\n",
              "          await google.colab.output.renderOutput(dataTable, element);\n",
              "          const docLink = document.createElement('div');\n",
              "          docLink.innerHTML = docLinkHtml;\n",
              "          element.appendChild(docLink);\n",
              "        }\n",
              "      </script>\n",
              "    </div>\n",
              "  </div>\n",
              "  "
            ]
          },
          "metadata": {},
          "execution_count": 57
        }
      ]
    },
    {
      "cell_type": "code",
      "source": [
        "print(df)\n",
        "df.dropna(how = 'all') # 모두 nan 여야 지움"
      ],
      "metadata": {
        "id": "77I7bBTFNKUA",
        "colab": {
          "base_uri": "https://localhost:8080/",
          "height": 266
        },
        "outputId": "87f2ad2f-5f1d-4f93-803f-e2c4cd37aef2"
      },
      "execution_count": null,
      "outputs": [
        {
          "output_type": "stream",
          "name": "stdout",
          "text": [
            "      Lname  Fname  Score Grade location\n",
            "one     Lee  Alice    100     A    Seoul\n",
            "two    Park  Peter     80     B      NaN\n",
            "three   Lim  James     85     A    Daegu\n",
            "four   Choi    Bob     90     A      NaN\n"
          ]
        },
        {
          "output_type": "execute_result",
          "data": {
            "text/plain": [
              "      Lname  Fname  Score Grade location\n",
              "one     Lee  Alice    100     A    Seoul\n",
              "two    Park  Peter     80     B      NaN\n",
              "three   Lim  James     85     A    Daegu\n",
              "four   Choi    Bob     90     A      NaN"
            ],
            "text/html": [
              "\n",
              "  <div id=\"df-344f7f1e-ec40-4f94-a49a-d2ee696e0997\">\n",
              "    <div class=\"colab-df-container\">\n",
              "      <div>\n",
              "<style scoped>\n",
              "    .dataframe tbody tr th:only-of-type {\n",
              "        vertical-align: middle;\n",
              "    }\n",
              "\n",
              "    .dataframe tbody tr th {\n",
              "        vertical-align: top;\n",
              "    }\n",
              "\n",
              "    .dataframe thead th {\n",
              "        text-align: right;\n",
              "    }\n",
              "</style>\n",
              "<table border=\"1\" class=\"dataframe\">\n",
              "  <thead>\n",
              "    <tr style=\"text-align: right;\">\n",
              "      <th></th>\n",
              "      <th>Lname</th>\n",
              "      <th>Fname</th>\n",
              "      <th>Score</th>\n",
              "      <th>Grade</th>\n",
              "      <th>location</th>\n",
              "    </tr>\n",
              "  </thead>\n",
              "  <tbody>\n",
              "    <tr>\n",
              "      <th>one</th>\n",
              "      <td>Lee</td>\n",
              "      <td>Alice</td>\n",
              "      <td>100</td>\n",
              "      <td>A</td>\n",
              "      <td>Seoul</td>\n",
              "    </tr>\n",
              "    <tr>\n",
              "      <th>two</th>\n",
              "      <td>Park</td>\n",
              "      <td>Peter</td>\n",
              "      <td>80</td>\n",
              "      <td>B</td>\n",
              "      <td>NaN</td>\n",
              "    </tr>\n",
              "    <tr>\n",
              "      <th>three</th>\n",
              "      <td>Lim</td>\n",
              "      <td>James</td>\n",
              "      <td>85</td>\n",
              "      <td>A</td>\n",
              "      <td>Daegu</td>\n",
              "    </tr>\n",
              "    <tr>\n",
              "      <th>four</th>\n",
              "      <td>Choi</td>\n",
              "      <td>Bob</td>\n",
              "      <td>90</td>\n",
              "      <td>A</td>\n",
              "      <td>NaN</td>\n",
              "    </tr>\n",
              "  </tbody>\n",
              "</table>\n",
              "</div>\n",
              "      <button class=\"colab-df-convert\" onclick=\"convertToInteractive('df-344f7f1e-ec40-4f94-a49a-d2ee696e0997')\"\n",
              "              title=\"Convert this dataframe to an interactive table.\"\n",
              "              style=\"display:none;\">\n",
              "        \n",
              "  <svg xmlns=\"http://www.w3.org/2000/svg\" height=\"24px\"viewBox=\"0 0 24 24\"\n",
              "       width=\"24px\">\n",
              "    <path d=\"M0 0h24v24H0V0z\" fill=\"none\"/>\n",
              "    <path d=\"M18.56 5.44l.94 2.06.94-2.06 2.06-.94-2.06-.94-.94-2.06-.94 2.06-2.06.94zm-11 1L8.5 8.5l.94-2.06 2.06-.94-2.06-.94L8.5 2.5l-.94 2.06-2.06.94zm10 10l.94 2.06.94-2.06 2.06-.94-2.06-.94-.94-2.06-.94 2.06-2.06.94z\"/><path d=\"M17.41 7.96l-1.37-1.37c-.4-.4-.92-.59-1.43-.59-.52 0-1.04.2-1.43.59L10.3 9.45l-7.72 7.72c-.78.78-.78 2.05 0 2.83L4 21.41c.39.39.9.59 1.41.59.51 0 1.02-.2 1.41-.59l7.78-7.78 2.81-2.81c.8-.78.8-2.07 0-2.86zM5.41 20L4 18.59l7.72-7.72 1.47 1.35L5.41 20z\"/>\n",
              "  </svg>\n",
              "      </button>\n",
              "      \n",
              "  <style>\n",
              "    .colab-df-container {\n",
              "      display:flex;\n",
              "      flex-wrap:wrap;\n",
              "      gap: 12px;\n",
              "    }\n",
              "\n",
              "    .colab-df-convert {\n",
              "      background-color: #E8F0FE;\n",
              "      border: none;\n",
              "      border-radius: 50%;\n",
              "      cursor: pointer;\n",
              "      display: none;\n",
              "      fill: #1967D2;\n",
              "      height: 32px;\n",
              "      padding: 0 0 0 0;\n",
              "      width: 32px;\n",
              "    }\n",
              "\n",
              "    .colab-df-convert:hover {\n",
              "      background-color: #E2EBFA;\n",
              "      box-shadow: 0px 1px 2px rgba(60, 64, 67, 0.3), 0px 1px 3px 1px rgba(60, 64, 67, 0.15);\n",
              "      fill: #174EA6;\n",
              "    }\n",
              "\n",
              "    [theme=dark] .colab-df-convert {\n",
              "      background-color: #3B4455;\n",
              "      fill: #D2E3FC;\n",
              "    }\n",
              "\n",
              "    [theme=dark] .colab-df-convert:hover {\n",
              "      background-color: #434B5C;\n",
              "      box-shadow: 0px 1px 3px 1px rgba(0, 0, 0, 0.15);\n",
              "      filter: drop-shadow(0px 1px 2px rgba(0, 0, 0, 0.3));\n",
              "      fill: #FFFFFF;\n",
              "    }\n",
              "  </style>\n",
              "\n",
              "      <script>\n",
              "        const buttonEl =\n",
              "          document.querySelector('#df-344f7f1e-ec40-4f94-a49a-d2ee696e0997 button.colab-df-convert');\n",
              "        buttonEl.style.display =\n",
              "          google.colab.kernel.accessAllowed ? 'block' : 'none';\n",
              "\n",
              "        async function convertToInteractive(key) {\n",
              "          const element = document.querySelector('#df-344f7f1e-ec40-4f94-a49a-d2ee696e0997');\n",
              "          const dataTable =\n",
              "            await google.colab.kernel.invokeFunction('convertToInteractive',\n",
              "                                                     [key], {});\n",
              "          if (!dataTable) return;\n",
              "\n",
              "          const docLinkHtml = 'Like what you see? Visit the ' +\n",
              "            '<a target=\"_blank\" href=https://colab.research.google.com/notebooks/data_table.ipynb>data table notebook</a>'\n",
              "            + ' to learn more about interactive tables.';\n",
              "          element.innerHTML = '';\n",
              "          dataTable['output_type'] = 'display_data';\n",
              "          await google.colab.output.renderOutput(dataTable, element);\n",
              "          const docLink = document.createElement('div');\n",
              "          docLink.innerHTML = docLinkHtml;\n",
              "          element.appendChild(docLink);\n",
              "        }\n",
              "      </script>\n",
              "    </div>\n",
              "  </div>\n",
              "  "
            ]
          },
          "metadata": {},
          "execution_count": 58
        }
      ]
    },
    {
      "cell_type": "code",
      "source": [
        "# dataframe sum\n",
        "data = [[1,2,3,4], [5,6,7,8], [9,10,11,12]]\n",
        "df = pd.DataFrame(data)\n",
        "df.index = ['a', 'b', 'c']\n",
        "df.colums = ['T1', 'T2', 'T3', 'T4']\n",
        "\n",
        "print(df)\n",
        "\n",
        "print(df.sum(axis=0))\n",
        "print(df.sum(axis=1))\n",
        "\n",
        "print(df['T2'].sum())\n",
        "print(df.loc['b'].sum())"
      ],
      "metadata": {
        "id": "DbZna85FNN8m",
        "colab": {
          "base_uri": "https://localhost:8080/",
          "height": 670
        },
        "outputId": "eb5993bf-23bb-4d5f-abcb-2a67affe82dd"
      },
      "execution_count": null,
      "outputs": [
        {
          "output_type": "stream",
          "name": "stdout",
          "text": [
            "   0   1   2   3\n",
            "a  1   2   3   4\n",
            "b  5   6   7   8\n",
            "c  9  10  11  12\n",
            "0    15\n",
            "1    18\n",
            "2    21\n",
            "3    24\n",
            "dtype: int64\n",
            "a    10\n",
            "b    26\n",
            "c    42\n",
            "dtype: int64\n"
          ]
        },
        {
          "output_type": "stream",
          "name": "stderr",
          "text": [
            "/usr/local/lib/python3.7/dist-packages/ipykernel_launcher.py:5: UserWarning: Pandas doesn't allow columns to be created via a new attribute name - see https://pandas.pydata.org/pandas-docs/stable/indexing.html#attribute-access\n",
            "  \"\"\"\n"
          ]
        },
        {
          "output_type": "error",
          "ename": "KeyError",
          "evalue": "ignored",
          "traceback": [
            "\u001b[0;31m---------------------------------------------------------------------------\u001b[0m",
            "\u001b[0;31mKeyError\u001b[0m                                  Traceback (most recent call last)",
            "\u001b[0;32m<ipython-input-62-56af6dfb586c>\u001b[0m in \u001b[0;36m<module>\u001b[0;34m()\u001b[0m\n\u001b[1;32m     10\u001b[0m \u001b[0mprint\u001b[0m\u001b[0;34m(\u001b[0m\u001b[0mdf\u001b[0m\u001b[0;34m.\u001b[0m\u001b[0msum\u001b[0m\u001b[0;34m(\u001b[0m\u001b[0maxis\u001b[0m\u001b[0;34m=\u001b[0m\u001b[0;36m1\u001b[0m\u001b[0;34m)\u001b[0m\u001b[0;34m)\u001b[0m\u001b[0;34m\u001b[0m\u001b[0;34m\u001b[0m\u001b[0m\n\u001b[1;32m     11\u001b[0m \u001b[0;34m\u001b[0m\u001b[0m\n\u001b[0;32m---> 12\u001b[0;31m \u001b[0mprint\u001b[0m\u001b[0;34m(\u001b[0m\u001b[0mdf\u001b[0m\u001b[0;34m[\u001b[0m\u001b[0;34m'T2'\u001b[0m\u001b[0;34m]\u001b[0m\u001b[0;34m.\u001b[0m\u001b[0msum\u001b[0m\u001b[0;34m(\u001b[0m\u001b[0;34m)\u001b[0m\u001b[0;34m)\u001b[0m\u001b[0;34m\u001b[0m\u001b[0;34m\u001b[0m\u001b[0m\n\u001b[0m\u001b[1;32m     13\u001b[0m \u001b[0mprint\u001b[0m\u001b[0;34m(\u001b[0m\u001b[0mdf\u001b[0m\u001b[0;34m.\u001b[0m\u001b[0mloc\u001b[0m\u001b[0;34m[\u001b[0m\u001b[0;34m'b'\u001b[0m\u001b[0;34m]\u001b[0m\u001b[0;34m.\u001b[0m\u001b[0msum\u001b[0m\u001b[0;34m(\u001b[0m\u001b[0;34m)\u001b[0m\u001b[0;34m)\u001b[0m\u001b[0;34m\u001b[0m\u001b[0;34m\u001b[0m\u001b[0m\n",
            "\u001b[0;32m/usr/local/lib/python3.7/dist-packages/pandas/core/frame.py\u001b[0m in \u001b[0;36m__getitem__\u001b[0;34m(self, key)\u001b[0m\n\u001b[1;32m   3456\u001b[0m             \u001b[0;32mif\u001b[0m \u001b[0mself\u001b[0m\u001b[0;34m.\u001b[0m\u001b[0mcolumns\u001b[0m\u001b[0;34m.\u001b[0m\u001b[0mnlevels\u001b[0m \u001b[0;34m>\u001b[0m \u001b[0;36m1\u001b[0m\u001b[0;34m:\u001b[0m\u001b[0;34m\u001b[0m\u001b[0;34m\u001b[0m\u001b[0m\n\u001b[1;32m   3457\u001b[0m                 \u001b[0;32mreturn\u001b[0m \u001b[0mself\u001b[0m\u001b[0;34m.\u001b[0m\u001b[0m_getitem_multilevel\u001b[0m\u001b[0;34m(\u001b[0m\u001b[0mkey\u001b[0m\u001b[0;34m)\u001b[0m\u001b[0;34m\u001b[0m\u001b[0;34m\u001b[0m\u001b[0m\n\u001b[0;32m-> 3458\u001b[0;31m             \u001b[0mindexer\u001b[0m \u001b[0;34m=\u001b[0m \u001b[0mself\u001b[0m\u001b[0;34m.\u001b[0m\u001b[0mcolumns\u001b[0m\u001b[0;34m.\u001b[0m\u001b[0mget_loc\u001b[0m\u001b[0;34m(\u001b[0m\u001b[0mkey\u001b[0m\u001b[0;34m)\u001b[0m\u001b[0;34m\u001b[0m\u001b[0;34m\u001b[0m\u001b[0m\n\u001b[0m\u001b[1;32m   3459\u001b[0m             \u001b[0;32mif\u001b[0m \u001b[0mis_integer\u001b[0m\u001b[0;34m(\u001b[0m\u001b[0mindexer\u001b[0m\u001b[0;34m)\u001b[0m\u001b[0;34m:\u001b[0m\u001b[0;34m\u001b[0m\u001b[0;34m\u001b[0m\u001b[0m\n\u001b[1;32m   3460\u001b[0m                 \u001b[0mindexer\u001b[0m \u001b[0;34m=\u001b[0m \u001b[0;34m[\u001b[0m\u001b[0mindexer\u001b[0m\u001b[0;34m]\u001b[0m\u001b[0;34m\u001b[0m\u001b[0;34m\u001b[0m\u001b[0m\n",
            "\u001b[0;32m/usr/local/lib/python3.7/dist-packages/pandas/core/indexes/range.py\u001b[0m in \u001b[0;36mget_loc\u001b[0;34m(self, key, method, tolerance)\u001b[0m\n\u001b[1;32m    386\u001b[0m                 \u001b[0;32mexcept\u001b[0m \u001b[0mValueError\u001b[0m \u001b[0;32mas\u001b[0m \u001b[0merr\u001b[0m\u001b[0;34m:\u001b[0m\u001b[0;34m\u001b[0m\u001b[0;34m\u001b[0m\u001b[0m\n\u001b[1;32m    387\u001b[0m                     \u001b[0;32mraise\u001b[0m \u001b[0mKeyError\u001b[0m\u001b[0;34m(\u001b[0m\u001b[0mkey\u001b[0m\u001b[0;34m)\u001b[0m \u001b[0;32mfrom\u001b[0m \u001b[0merr\u001b[0m\u001b[0;34m\u001b[0m\u001b[0;34m\u001b[0m\u001b[0m\n\u001b[0;32m--> 388\u001b[0;31m             \u001b[0;32mraise\u001b[0m \u001b[0mKeyError\u001b[0m\u001b[0;34m(\u001b[0m\u001b[0mkey\u001b[0m\u001b[0;34m)\u001b[0m\u001b[0;34m\u001b[0m\u001b[0;34m\u001b[0m\u001b[0m\n\u001b[0m\u001b[1;32m    389\u001b[0m         \u001b[0;32mreturn\u001b[0m \u001b[0msuper\u001b[0m\u001b[0;34m(\u001b[0m\u001b[0;34m)\u001b[0m\u001b[0;34m.\u001b[0m\u001b[0mget_loc\u001b[0m\u001b[0;34m(\u001b[0m\u001b[0mkey\u001b[0m\u001b[0;34m,\u001b[0m \u001b[0mmethod\u001b[0m\u001b[0;34m=\u001b[0m\u001b[0mmethod\u001b[0m\u001b[0;34m,\u001b[0m \u001b[0mtolerance\u001b[0m\u001b[0;34m=\u001b[0m\u001b[0mtolerance\u001b[0m\u001b[0;34m)\u001b[0m\u001b[0;34m\u001b[0m\u001b[0;34m\u001b[0m\u001b[0m\n\u001b[1;32m    390\u001b[0m \u001b[0;34m\u001b[0m\u001b[0m\n",
            "\u001b[0;31mKeyError\u001b[0m: 'T2'"
          ]
        }
      ]
    },
    {
      "cell_type": "code",
      "source": [
        "# dataframe duplicated\n",
        "data = {'LastName': ['Lee', 'Lee', 'Park', 'Lim', 'Choi'], 'FirstName': ['Alice', 'Alice', 'Peter', 'James', 'Bob'], \n",
        "        'Age': [27, 27, 25, 26, 26], 'Score': [100, 100, 80, 85, 90]\n",
        "}\n",
        "df = pd.DataFrame(data)\n",
        "print(df)\n",
        "print('=====')\n",
        "print(df.duplicated()) # 중복시 True"
      ],
      "metadata": {
        "id": "B8H6kCRKNbMZ",
        "colab": {
          "base_uri": "https://localhost:8080/"
        },
        "outputId": "d29d47d1-8e7c-44e3-b113-c4bbdad5d905"
      },
      "execution_count": null,
      "outputs": [
        {
          "output_type": "stream",
          "name": "stdout",
          "text": [
            "  LastName FirstName  Age  Score\n",
            "0      Lee     Alice   27    100\n",
            "1      Lee     Alice   27    100\n",
            "2     Park     Peter   25     80\n",
            "3      Lim     James   26     85\n",
            "4     Choi       Bob   26     90\n",
            "=====\n",
            "0    False\n",
            "1     True\n",
            "2    False\n",
            "3    False\n",
            "4    False\n",
            "dtype: bool\n"
          ]
        }
      ]
    },
    {
      "cell_type": "markdown",
      "source": [
        "## Exercises\n",
        "\n"
      ],
      "metadata": {
        "id": "6kY4rs_wJ5id"
      }
    },
    {
      "cell_type": "markdown",
      "source": [
        "### E-1\n",
        "입력한 숫자보다 큰 숫자 중 가장 작은 숫자를 출력하세요.\n",
        "\n",
        "실행 결과\n",
        "```\n",
        "숫자 하나를 입력하세요: 40\n",
        "arr_1에서 40보다 크면서 가장 작은 숫자는 42입니다.\n",
        "```"
      ],
      "metadata": {
        "id": "laGUl2Y6FZF3"
      }
    },
    {
      "cell_type": "code",
      "source": [
        "import numpy as np"
      ],
      "metadata": {
        "id": "K-mTv_2AKLtr"
      },
      "execution_count": null,
      "outputs": []
    },
    {
      "cell_type": "code",
      "source": [
        "arr_1 = np.array([[34, 52, 47, 85, 75], [42, 63, 82, 94, 11]])\n",
        "print(arr_1)\n",
        "\n",
        "# your code here:\n",
        "num = int(input('숫자 하나를 입력하세요: '))\n",
        "print(num)\n",
        "\n",
        "\n",
        "# num 보다 큰 숫자 찾기 + 그중에서 min 찾기\n",
        "mask = arr_1 > num\n",
        "print(mask)\n",
        "\n",
        "arr_2 = arr_1[mask]\n",
        "print(arr_2)\n",
        "\n",
        "min_num = np.min(arr_2)\n",
        "print(f'arr_1에서 {num}보다 크면서 가장 작은 숫자는 {min_num}입니다. ')\n",
        "\n",
        "\n"
      ],
      "metadata": {
        "id": "997V_oEnK1oW",
        "colab": {
          "base_uri": "https://localhost:8080/"
        },
        "outputId": "8421cb58-1a05-4b4f-8803-492fb6ea68ba"
      },
      "execution_count": null,
      "outputs": [
        {
          "output_type": "stream",
          "name": "stdout",
          "text": [
            "[[34 52 47 85 75]\n",
            " [42 63 82 94 11]]\n",
            "숫자 하나를 입력하세요: 40\n",
            "40\n",
            "[[False  True  True  True  True]\n",
            " [ True  True  True  True False]]\n",
            "[52 47 85 75 42 63 82 94]\n",
            "arr_1에서 40보다 크면서 가장 작은 숫자는 42입니다. \n"
          ]
        }
      ]
    },
    {
      "cell_type": "markdown",
      "source": [
        "### E-2\n",
        "학생의 이름과 점수가 ndarray로 주어질 때 pyplot을 이용하여 아래의 그림과 같이 그려보세요. \n",
        "\n",
        "![image.png](data:image/png;base64,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)\n"
      ],
      "metadata": {
        "id": "BPOs0xQ0L9D3"
      }
    },
    {
      "cell_type": "code",
      "source": [
        "import matplotlib.pyplot as plt\n",
        "\n",
        "name_arr = np.array(['Lee', 'Kim', 'Park', 'Cho', 'Kwon', 'Choi'])\n",
        "score_arr = np.array([100, 90, 95, 85, 80, 90])\n",
        "\n",
        "print(name_arr)\n",
        "print(score_arr)\n",
        "\n",
        "# your code here: \n",
        "plt.plot (name_arr, score_arr)\n",
        "plt.xlabel('name')\n",
        "plt.ylabel('score')\n",
        "plt.show\n"
      ],
      "metadata": {
        "id": "g-2nmWc1L84C",
        "colab": {
          "base_uri": "https://localhost:8080/",
          "height": 333
        },
        "outputId": "dcfb0232-9450-4ca3-d9e8-e88d8d76ce3e"
      },
      "execution_count": null,
      "outputs": [
        {
          "output_type": "stream",
          "name": "stdout",
          "text": [
            "['Lee' 'Kim' 'Park' 'Cho' 'Kwon' 'Choi']\n",
            "[100  90  95  85  80  90]\n"
          ]
        },
        {
          "output_type": "execute_result",
          "data": {
            "text/plain": [
              "<function matplotlib.pyplot.show>"
            ]
          },
          "metadata": {},
          "execution_count": 70
        },
        {
          "output_type": "display_data",
          "data": {
            "text/plain": [
              "<Figure size 432x288 with 1 Axes>"
            ],
            "image/png": "[encoded data removed]"
          },
          "metadata": {
            "needs_background": "light"
          }
        }
      ]
    },
    {
      "cell_type": "markdown",
      "source": [
        "### E-3\n",
        "\n",
        "a가 15 이하인 자료들의 c 값이 0이 되도록 바꾸세요.\n",
        "\n",
        "실행 결과\n",
        "```\n",
        "    a   b   c   d   e\n",
        "0   0   1   0   3   4\n",
        "1   5   6   0   8   9\n",
        "2  10  11   0  13  14\n",
        "3  15  16   0  18  19\n",
        "4  20  21  22  23  24\n",
        "```"
      ],
      "metadata": {
        "id": "Ivj03ea8N0Qo"
      }
    },
    {
      "cell_type": "code",
      "source": [
        "df = pd.DataFrame(np.arange(25).reshape(5,5), columns=['a','b','c','d','e'])\n",
        "print(df)\n",
        "print('=========')\n",
        "# your code here:\n",
        "\n",
        "# mask로 a가 15 이하 인 자료 찾고 + c를 0으로\n",
        " \n",
        "print(df['a'] <= 15)\n",
        "\n",
        "df.loc[df['a']<=15, 'c'] = 0\n",
        "print(df)"
      ],
      "metadata": {
        "id": "hKrv6kWxN1PM",
        "colab": {
          "base_uri": "https://localhost:8080/"
        },
        "outputId": "e36b6ece-627d-44d8-c85b-4a89e652dc54"
      },
      "execution_count": null,
      "outputs": [
        {
          "output_type": "stream",
          "name": "stdout",
          "text": [
            "    a   b   c   d   e\n",
            "0   0   1   2   3   4\n",
            "1   5   6   7   8   9\n",
            "2  10  11  12  13  14\n",
            "3  15  16  17  18  19\n",
            "4  20  21  22  23  24\n",
            "=========\n",
            "0     True\n",
            "1     True\n",
            "2     True\n",
            "3     True\n",
            "4    False\n",
            "Name: a, dtype: bool\n",
            "    a   b   c   d   e\n",
            "0   0   1   0   3   4\n",
            "1   5   6   0   8   9\n",
            "2  10  11   0  13  14\n",
            "3  15  16   0  18  19\n",
            "4  20  21  22  23  24\n"
          ]
        }
      ]
    },
    {
      "cell_type": "markdown",
      "source": [
        "### E-4\n",
        "\n",
        "다음 DataFrame이 주어졌을 때, 중복된 값의 개수를 출력하는 코드를 작성하세요. \n"
      ],
      "metadata": {
        "id": "HfvFBGl1N2CO"
      }
    },
    {
      "cell_type": "code",
      "source": [
        "df = pd.DataFrame([1,2,3,4,4,5,5,5,6,7,8,8,9,9,10])\n",
        "print(df)\n",
        "print('======')\n",
        "# your code here:\n",
        "df.duplicated()\n",
        "# F는 0, T는 1 이므로 더하자\n",
        "\n",
        "print(df.duplicated().sum())\n"
      ],
      "metadata": {
        "id": "hPjG5SFdO2UX",
        "colab": {
          "base_uri": "https://localhost:8080/"
        },
        "outputId": "1640492f-59f6-4f1d-d33e-0270b8eafc0a"
      },
      "execution_count": null,
      "outputs": [
        {
          "output_type": "stream",
          "name": "stdout",
          "text": [
            "     0\n",
            "0    1\n",
            "1    2\n",
            "2    3\n",
            "3    4\n",
            "4    4\n",
            "5    5\n",
            "6    5\n",
            "7    5\n",
            "8    6\n",
            "9    7\n",
            "10   8\n",
            "11   8\n",
            "12   9\n",
            "13   9\n",
            "14  10\n",
            "======\n",
            "5\n"
          ]
        }
      ]
    }
  ]
}